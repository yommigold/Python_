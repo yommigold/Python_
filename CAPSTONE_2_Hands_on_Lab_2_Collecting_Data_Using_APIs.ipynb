{
  "nbformat": 4,
  "nbformat_minor": 0,
  "metadata": {
    "colab": {
      "provenance": [],
      "authorship_tag": "ABX9TyMeLOsTQhi+LRcqj0KN7c52",
      "include_colab_link": true
    },
    "kernelspec": {
      "name": "python3",
      "display_name": "Python 3"
    },
    "language_info": {
      "name": "python"
    }
  },
  "cells": [
    {
      "cell_type": "markdown",
      "metadata": {
        "id": "view-in-github",
        "colab_type": "text"
      },
      "source": [
        "<a href=\"https://colab.research.google.com/github/yommigold/Python_/blob/main/CAPSTONE_2_Hands_on_Lab_2_Collecting_Data_Using_APIs.ipynb\" target=\"_parent\"><img src=\"https://colab.research.google.com/assets/colab-badge.svg\" alt=\"Open In Colab\"/></a>"
      ]
    },
    {
      "cell_type": "markdown",
      "source": [
        "#CAPSTONE: Hands-on Lab 2: Collecting Data Using APIs"
      ],
      "metadata": {
        "id": "fCBuJUn9baWI"
      }
    },
    {
      "cell_type": "markdown",
      "source": [
        "Using an API, let us find out who currently are on the International Space Station (ISS).\n",
        "The API at http://api.open-notify.org/astros.json gives us the information of astronauts currently on ISS in json format.\n",
        "You can read more about this API at http://open-notify.org/Open-Notify-API/People-In-Space/"
      ],
      "metadata": {
        "id": "rHcOvxX6fiRS"
      }
    },
    {
      "cell_type": "code",
      "source": [
        "import requests # you need this module to make an API call\n",
        "import pandas as pd"
      ],
      "metadata": {
        "id": "pjipNfu3fm2f"
      },
      "execution_count": 54,
      "outputs": []
    },
    {
      "cell_type": "code",
      "source": [
        "URL='https://cf-courses-data.s3.us.cloud-object-storage.appdomain.cloud/IBM-DA0321EN-SkillsNetwork/labs/module%201/Accessing%20Data%20Using%20APIs/jobs.json'\n",
        "df=pd.read_json(URL)\n",
        "df.head()"
      ],
      "metadata": {
        "colab": {
          "base_uri": "https://localhost:8080/",
          "height": 327
        },
        "id": "cFjQM1Skt72h",
        "outputId": "a603f88c-5e57-4795-c823-d4d23a27564a"
      },
      "execution_count": 55,
      "outputs": [
        {
          "output_type": "execute_result",
          "data": {
            "text/plain": [
              "   Id                                          Job Title  \\\n",
              "0   0                              Digital Media Planner   \n",
              "1   1                           Online Bidding Executive   \n",
              "2   2  Trainee Research/ Research Executive- Hi- Tech...   \n",
              "3   3                                  Technical Support   \n",
              "4   4                  Software Test Engineer -hyderabad   \n",
              "\n",
              "  Job Experience Required                                         Key Skills  \\\n",
              "0              5 - 10 yrs                      Media Planning| Digital Media   \n",
              "1               2 - 5 yrs  pre sales| closing| software knowledge| client...   \n",
              "2               0 - 1 yrs  Computer science| Fabrication| Quality check| ...   \n",
              "3               0 - 5 yrs                                  Technical Support   \n",
              "4               2 - 5 yrs  manual testing| test engineering| test cases| ...   \n",
              "\n",
              "                                Role Category       Location  \\\n",
              "0                                 Advertising    Los Angeles   \n",
              "1                                Retail Sales       New York   \n",
              "2                                         R&D  San Francisco   \n",
              "3  Admin/Maintenance/Security/Datawarehousing  Washington DC   \n",
              "4                        Programming & Design         Boston   \n",
              "\n",
              "                                     Functional Area  \\\n",
              "0  Marketing , Advertising , MR , PR , Media Plan...   \n",
              "1              Sales , Retail , Business Development   \n",
              "2                           Engineering Design , R&D   \n",
              "3  IT Software - Application Programming , Mainte...   \n",
              "4                         IT Software - QA & Testing   \n",
              "\n",
              "                                Industry                              Role  \n",
              "0  Advertising, PR, MR, Event Management  Media Planning Executive/Manager  \n",
              "1         IT-Software, Software Services           Sales Executive/Officer  \n",
              "2                  Recruitment, Staffing                     R&D Executive  \n",
              "3         IT-Software, Software Services        Technical Support Engineer  \n",
              "4         IT-Software, Software Services                  Testing Engineer  "
            ],
            "text/html": [
              "\n",
              "  <div id=\"df-979a4210-d3ed-4eca-9c0b-ed8081f3508f\" class=\"colab-df-container\">\n",
              "    <div>\n",
              "<style scoped>\n",
              "    .dataframe tbody tr th:only-of-type {\n",
              "        vertical-align: middle;\n",
              "    }\n",
              "\n",
              "    .dataframe tbody tr th {\n",
              "        vertical-align: top;\n",
              "    }\n",
              "\n",
              "    .dataframe thead th {\n",
              "        text-align: right;\n",
              "    }\n",
              "</style>\n",
              "<table border=\"1\" class=\"dataframe\">\n",
              "  <thead>\n",
              "    <tr style=\"text-align: right;\">\n",
              "      <th></th>\n",
              "      <th>Id</th>\n",
              "      <th>Job Title</th>\n",
              "      <th>Job Experience Required</th>\n",
              "      <th>Key Skills</th>\n",
              "      <th>Role Category</th>\n",
              "      <th>Location</th>\n",
              "      <th>Functional Area</th>\n",
              "      <th>Industry</th>\n",
              "      <th>Role</th>\n",
              "    </tr>\n",
              "  </thead>\n",
              "  <tbody>\n",
              "    <tr>\n",
              "      <th>0</th>\n",
              "      <td>0</td>\n",
              "      <td>Digital Media Planner</td>\n",
              "      <td>5 - 10 yrs</td>\n",
              "      <td>Media Planning| Digital Media</td>\n",
              "      <td>Advertising</td>\n",
              "      <td>Los Angeles</td>\n",
              "      <td>Marketing , Advertising , MR , PR , Media Plan...</td>\n",
              "      <td>Advertising, PR, MR, Event Management</td>\n",
              "      <td>Media Planning Executive/Manager</td>\n",
              "    </tr>\n",
              "    <tr>\n",
              "      <th>1</th>\n",
              "      <td>1</td>\n",
              "      <td>Online Bidding Executive</td>\n",
              "      <td>2 - 5 yrs</td>\n",
              "      <td>pre sales| closing| software knowledge| client...</td>\n",
              "      <td>Retail Sales</td>\n",
              "      <td>New York</td>\n",
              "      <td>Sales , Retail , Business Development</td>\n",
              "      <td>IT-Software, Software Services</td>\n",
              "      <td>Sales Executive/Officer</td>\n",
              "    </tr>\n",
              "    <tr>\n",
              "      <th>2</th>\n",
              "      <td>2</td>\n",
              "      <td>Trainee Research/ Research Executive- Hi- Tech...</td>\n",
              "      <td>0 - 1 yrs</td>\n",
              "      <td>Computer science| Fabrication| Quality check| ...</td>\n",
              "      <td>R&amp;D</td>\n",
              "      <td>San Francisco</td>\n",
              "      <td>Engineering Design , R&amp;D</td>\n",
              "      <td>Recruitment, Staffing</td>\n",
              "      <td>R&amp;D Executive</td>\n",
              "    </tr>\n",
              "    <tr>\n",
              "      <th>3</th>\n",
              "      <td>3</td>\n",
              "      <td>Technical Support</td>\n",
              "      <td>0 - 5 yrs</td>\n",
              "      <td>Technical Support</td>\n",
              "      <td>Admin/Maintenance/Security/Datawarehousing</td>\n",
              "      <td>Washington DC</td>\n",
              "      <td>IT Software - Application Programming , Mainte...</td>\n",
              "      <td>IT-Software, Software Services</td>\n",
              "      <td>Technical Support Engineer</td>\n",
              "    </tr>\n",
              "    <tr>\n",
              "      <th>4</th>\n",
              "      <td>4</td>\n",
              "      <td>Software Test Engineer -hyderabad</td>\n",
              "      <td>2 - 5 yrs</td>\n",
              "      <td>manual testing| test engineering| test cases| ...</td>\n",
              "      <td>Programming &amp; Design</td>\n",
              "      <td>Boston</td>\n",
              "      <td>IT Software - QA &amp; Testing</td>\n",
              "      <td>IT-Software, Software Services</td>\n",
              "      <td>Testing Engineer</td>\n",
              "    </tr>\n",
              "  </tbody>\n",
              "</table>\n",
              "</div>\n",
              "    <div class=\"colab-df-buttons\">\n",
              "\n",
              "  <div class=\"colab-df-container\">\n",
              "    <button class=\"colab-df-convert\" onclick=\"convertToInteractive('df-979a4210-d3ed-4eca-9c0b-ed8081f3508f')\"\n",
              "            title=\"Convert this dataframe to an interactive table.\"\n",
              "            style=\"display:none;\">\n",
              "\n",
              "  <svg xmlns=\"http://www.w3.org/2000/svg\" height=\"24px\" viewBox=\"0 -960 960 960\">\n",
              "    <path d=\"M120-120v-720h720v720H120Zm60-500h600v-160H180v160Zm220 220h160v-160H400v160Zm0 220h160v-160H400v160ZM180-400h160v-160H180v160Zm440 0h160v-160H620v160ZM180-180h160v-160H180v160Zm440 0h160v-160H620v160Z\"/>\n",
              "  </svg>\n",
              "    </button>\n",
              "\n",
              "  <style>\n",
              "    .colab-df-container {\n",
              "      display:flex;\n",
              "      gap: 12px;\n",
              "    }\n",
              "\n",
              "    .colab-df-convert {\n",
              "      background-color: #E8F0FE;\n",
              "      border: none;\n",
              "      border-radius: 50%;\n",
              "      cursor: pointer;\n",
              "      display: none;\n",
              "      fill: #1967D2;\n",
              "      height: 32px;\n",
              "      padding: 0 0 0 0;\n",
              "      width: 32px;\n",
              "    }\n",
              "\n",
              "    .colab-df-convert:hover {\n",
              "      background-color: #E2EBFA;\n",
              "      box-shadow: 0px 1px 2px rgba(60, 64, 67, 0.3), 0px 1px 3px 1px rgba(60, 64, 67, 0.15);\n",
              "      fill: #174EA6;\n",
              "    }\n",
              "\n",
              "    .colab-df-buttons div {\n",
              "      margin-bottom: 4px;\n",
              "    }\n",
              "\n",
              "    [theme=dark] .colab-df-convert {\n",
              "      background-color: #3B4455;\n",
              "      fill: #D2E3FC;\n",
              "    }\n",
              "\n",
              "    [theme=dark] .colab-df-convert:hover {\n",
              "      background-color: #434B5C;\n",
              "      box-shadow: 0px 1px 3px 1px rgba(0, 0, 0, 0.15);\n",
              "      filter: drop-shadow(0px 1px 2px rgba(0, 0, 0, 0.3));\n",
              "      fill: #FFFFFF;\n",
              "    }\n",
              "  </style>\n",
              "\n",
              "    <script>\n",
              "      const buttonEl =\n",
              "        document.querySelector('#df-979a4210-d3ed-4eca-9c0b-ed8081f3508f button.colab-df-convert');\n",
              "      buttonEl.style.display =\n",
              "        google.colab.kernel.accessAllowed ? 'block' : 'none';\n",
              "\n",
              "      async function convertToInteractive(key) {\n",
              "        const element = document.querySelector('#df-979a4210-d3ed-4eca-9c0b-ed8081f3508f');\n",
              "        const dataTable =\n",
              "          await google.colab.kernel.invokeFunction('convertToInteractive',\n",
              "                                                    [key], {});\n",
              "        if (!dataTable) return;\n",
              "\n",
              "        const docLinkHtml = 'Like what you see? Visit the ' +\n",
              "          '<a target=\"_blank\" href=https://colab.research.google.com/notebooks/data_table.ipynb>data table notebook</a>'\n",
              "          + ' to learn more about interactive tables.';\n",
              "        element.innerHTML = '';\n",
              "        dataTable['output_type'] = 'display_data';\n",
              "        await google.colab.output.renderOutput(dataTable, element);\n",
              "        const docLink = document.createElement('div');\n",
              "        docLink.innerHTML = docLinkHtml;\n",
              "        element.appendChild(docLink);\n",
              "      }\n",
              "    </script>\n",
              "  </div>\n",
              "\n",
              "\n",
              "<div id=\"df-aec79bc3-5d15-4d03-8de0-12172c422a6e\">\n",
              "  <button class=\"colab-df-quickchart\" onclick=\"quickchart('df-aec79bc3-5d15-4d03-8de0-12172c422a6e')\"\n",
              "            title=\"Suggest charts\"\n",
              "            style=\"display:none;\">\n",
              "\n",
              "<svg xmlns=\"http://www.w3.org/2000/svg\" height=\"24px\"viewBox=\"0 0 24 24\"\n",
              "     width=\"24px\">\n",
              "    <g>\n",
              "        <path d=\"M19 3H5c-1.1 0-2 .9-2 2v14c0 1.1.9 2 2 2h14c1.1 0 2-.9 2-2V5c0-1.1-.9-2-2-2zM9 17H7v-7h2v7zm4 0h-2V7h2v10zm4 0h-2v-4h2v4z\"/>\n",
              "    </g>\n",
              "</svg>\n",
              "  </button>\n",
              "\n",
              "<style>\n",
              "  .colab-df-quickchart {\n",
              "      --bg-color: #E8F0FE;\n",
              "      --fill-color: #1967D2;\n",
              "      --hover-bg-color: #E2EBFA;\n",
              "      --hover-fill-color: #174EA6;\n",
              "      --disabled-fill-color: #AAA;\n",
              "      --disabled-bg-color: #DDD;\n",
              "  }\n",
              "\n",
              "  [theme=dark] .colab-df-quickchart {\n",
              "      --bg-color: #3B4455;\n",
              "      --fill-color: #D2E3FC;\n",
              "      --hover-bg-color: #434B5C;\n",
              "      --hover-fill-color: #FFFFFF;\n",
              "      --disabled-bg-color: #3B4455;\n",
              "      --disabled-fill-color: #666;\n",
              "  }\n",
              "\n",
              "  .colab-df-quickchart {\n",
              "    background-color: var(--bg-color);\n",
              "    border: none;\n",
              "    border-radius: 50%;\n",
              "    cursor: pointer;\n",
              "    display: none;\n",
              "    fill: var(--fill-color);\n",
              "    height: 32px;\n",
              "    padding: 0;\n",
              "    width: 32px;\n",
              "  }\n",
              "\n",
              "  .colab-df-quickchart:hover {\n",
              "    background-color: var(--hover-bg-color);\n",
              "    box-shadow: 0 1px 2px rgba(60, 64, 67, 0.3), 0 1px 3px 1px rgba(60, 64, 67, 0.15);\n",
              "    fill: var(--button-hover-fill-color);\n",
              "  }\n",
              "\n",
              "  .colab-df-quickchart-complete:disabled,\n",
              "  .colab-df-quickchart-complete:disabled:hover {\n",
              "    background-color: var(--disabled-bg-color);\n",
              "    fill: var(--disabled-fill-color);\n",
              "    box-shadow: none;\n",
              "  }\n",
              "\n",
              "  .colab-df-spinner {\n",
              "    border: 2px solid var(--fill-color);\n",
              "    border-color: transparent;\n",
              "    border-bottom-color: var(--fill-color);\n",
              "    animation:\n",
              "      spin 1s steps(1) infinite;\n",
              "  }\n",
              "\n",
              "  @keyframes spin {\n",
              "    0% {\n",
              "      border-color: transparent;\n",
              "      border-bottom-color: var(--fill-color);\n",
              "      border-left-color: var(--fill-color);\n",
              "    }\n",
              "    20% {\n",
              "      border-color: transparent;\n",
              "      border-left-color: var(--fill-color);\n",
              "      border-top-color: var(--fill-color);\n",
              "    }\n",
              "    30% {\n",
              "      border-color: transparent;\n",
              "      border-left-color: var(--fill-color);\n",
              "      border-top-color: var(--fill-color);\n",
              "      border-right-color: var(--fill-color);\n",
              "    }\n",
              "    40% {\n",
              "      border-color: transparent;\n",
              "      border-right-color: var(--fill-color);\n",
              "      border-top-color: var(--fill-color);\n",
              "    }\n",
              "    60% {\n",
              "      border-color: transparent;\n",
              "      border-right-color: var(--fill-color);\n",
              "    }\n",
              "    80% {\n",
              "      border-color: transparent;\n",
              "      border-right-color: var(--fill-color);\n",
              "      border-bottom-color: var(--fill-color);\n",
              "    }\n",
              "    90% {\n",
              "      border-color: transparent;\n",
              "      border-bottom-color: var(--fill-color);\n",
              "    }\n",
              "  }\n",
              "</style>\n",
              "\n",
              "  <script>\n",
              "    async function quickchart(key) {\n",
              "      const quickchartButtonEl =\n",
              "        document.querySelector('#' + key + ' button');\n",
              "      quickchartButtonEl.disabled = true;  // To prevent multiple clicks.\n",
              "      quickchartButtonEl.classList.add('colab-df-spinner');\n",
              "      try {\n",
              "        const charts = await google.colab.kernel.invokeFunction(\n",
              "            'suggestCharts', [key], {});\n",
              "      } catch (error) {\n",
              "        console.error('Error during call to suggestCharts:', error);\n",
              "      }\n",
              "      quickchartButtonEl.classList.remove('colab-df-spinner');\n",
              "      quickchartButtonEl.classList.add('colab-df-quickchart-complete');\n",
              "    }\n",
              "    (() => {\n",
              "      let quickchartButtonEl =\n",
              "        document.querySelector('#df-aec79bc3-5d15-4d03-8de0-12172c422a6e button');\n",
              "      quickchartButtonEl.style.display =\n",
              "        google.colab.kernel.accessAllowed ? 'block' : 'none';\n",
              "    })();\n",
              "  </script>\n",
              "</div>\n",
              "\n",
              "    </div>\n",
              "  </div>\n"
            ],
            "application/vnd.google.colaboratory.intrinsic+json": {
              "type": "dataframe",
              "variable_name": "df",
              "summary": "{\n  \"name\": \"df\",\n  \"rows\": 27005,\n  \"fields\": [\n    {\n      \"column\": \"Id\",\n      \"properties\": {\n        \"dtype\": \"number\",\n        \"std\": 8661,\n        \"min\": 0,\n        \"max\": 29999,\n        \"num_unique_values\": 27005,\n        \"samples\": [\n          13511,\n          4041,\n          6584\n        ],\n        \"semantic_type\": \"\",\n        \"description\": \"\"\n      }\n    },\n    {\n      \"column\": \"Job Title\",\n      \"properties\": {\n        \"dtype\": \"string\",\n        \"num_unique_values\": 21644,\n        \"samples\": [\n          \"Software Developer - Android & iOS\",\n          \"CUSTOMER SERVICE REPRESENTATIVE\",\n          \"Walk in Drive for B.tech(only) Fresher Civil Engineering\"\n        ],\n        \"semantic_type\": \"\",\n        \"description\": \"\"\n      }\n    },\n    {\n      \"column\": \"Job Experience Required\",\n      \"properties\": {\n        \"dtype\": \"category\",\n        \"num_unique_values\": 246,\n        \"samples\": [\n          \"3 - 4 yrs\",\n          \"9 - 14 yrs\",\n          \"9 - 15 yrs\"\n        ],\n        \"semantic_type\": \"\",\n        \"description\": \"\"\n      }\n    },\n    {\n      \"column\": \"Key Skills\",\n      \"properties\": {\n        \"dtype\": \"string\",\n        \"num_unique_values\": 25279,\n        \"samples\": [\n          \"Posters| UX| Prototype| UI| Illustrator| Layout| HTML| Photoshop| Android| Typography\",\n          \"Accessories| YARN| Packaging| Forecasting| Quality standards| Quality testing| Retail| Cost| fashion merchandising| Merchandising\",\n          \"bpo| bca| customer service| client servicing| kpo| call center| aegis| customer support| fresher| amex| voice process| english| hr fresher| uk shift\"\n        ],\n        \"semantic_type\": \"\",\n        \"description\": \"\"\n      }\n    },\n    {\n      \"column\": \"Role Category\",\n      \"properties\": {\n        \"dtype\": \"category\",\n        \"num_unique_values\": 204,\n        \"samples\": [\n          \"Logistics\",\n          \"Online/Digital Marketing\",\n          \"Net2Source Inc. is one of the fastest growing Global Workforce Solutions company. We specialize in Contingent hiring, Direct Hires, Statement of Work, Payroll Management, IC Compliance, VMS, RPO and Managed IT Services. 375+ In- house Team of Sales, Account Management and Recruitment with coast to coast COE * 1280+ contractors on billing * 30+ offices in US * Operations in 20 countries (US, APAC, UK, UAE, Europe, Canada, Mexico)\"\n        ],\n        \"semantic_type\": \"\",\n        \"description\": \"\"\n      }\n    },\n    {\n      \"column\": \"Location\",\n      \"properties\": {\n        \"dtype\": \"category\",\n        \"num_unique_values\": 13,\n        \"samples\": [\n          \"Baltimore\",\n          \"Philadelphia\",\n          \"Los Angeles\"\n        ],\n        \"semantic_type\": \"\",\n        \"description\": \"\"\n      }\n    },\n    {\n      \"column\": \"Functional Area\",\n      \"properties\": {\n        \"dtype\": \"category\",\n        \"num_unique_values\": 69,\n        \"samples\": [\n          \"Production , Manufacturing , Maintenance\",\n          \"Marketing , Advertising , MR , PR , Media Planning\",\n          \"* A US based $4.0 billion world leader in staffing services to over 6000 customers globally. * World's largest \\\"Technology\\\" staffing company in the world today - IT, Telecom, Infrastructure and Engineering. * TEKsystems is a part of Allegis Group which is a $16.0 Billion US based privately held firm. One of the world's largest privately held companies (source: Forbes) * The 6th Largest staffing company in the world and the 2nd Largest in the US. * One of the top vendors to 90% of Fortune 500 companies. * Every year we deploy over 80,000 employees across different parts of the world. * Operations in North America, Europe and Asia with over 300 offices across locations. * In India, TEKsystems currently has 1000+ technical consultants employed at various Fortune 500 companies across the country. * For the second consecutive year, TEKsystems was named to Fortune magazine's \\\"100 Best Companies to Work For\\\" in 2014. * Please visit - www.teksystems.com ; www.allegisgroup.com, for more information.\"\n        ],\n        \"semantic_type\": \"\",\n        \"description\": \"\"\n      }\n    },\n    {\n      \"column\": \"Industry\",\n      \"properties\": {\n        \"dtype\": \"category\",\n        \"num_unique_values\": 122,\n        \"samples\": [\n          \"Aviation, Aerospace, Aeronautical\",\n          \"Retail, Wholesale\",\n          \"Publishing\"\n        ],\n        \"semantic_type\": \"\",\n        \"description\": \"\"\n      }\n    },\n    {\n      \"column\": \"Role\",\n      \"properties\": {\n        \"dtype\": \"category\",\n        \"num_unique_values\": 629,\n        \"samples\": [\n          \"Dear all, Urgent vacancy at Fortis Hospital Mulund, Arizona for Interventional Paediatric Cardiologist. Qualification - MBBS, DCH(Paediatric), DNB(Paediatric), FNB(Peadiatric Cardiology) Experience - 0-4 Yrs Interested candidates can share their resume on rahul.narkar@fortishealthcare .com or can call us on 02249254263/02249254292 Salary: Not Disclosed by Recruiter Industry: Medical / Healthcare / Hospitals Functional Area: Other Employment Type: Full Time, Permanent\",\n          \"Bio/Pharma Informatics-Associate/Scientist\",\n          \"Guest Service Agent\"\n        ],\n        \"semantic_type\": \"\",\n        \"description\": \"\"\n      }\n    }\n  ]\n}"
            }
          },
          "metadata": {},
          "execution_count": 55
        }
      ]
    },
    {
      "cell_type": "code",
      "source": [
        "# which location has the highest job postings?\n",
        "\n",
        "location_counts = df['Location'].value_counts()\n",
        "highest_count_location = location_counts.sort_values(ascending=False).index[0]\n",
        "\n",
        "print(f\"Location with the highest job postings: {highest_count_location}\")\n"
      ],
      "metadata": {
        "colab": {
          "base_uri": "https://localhost:8080/"
        },
        "id": "Jk0JxNjRutH5",
        "outputId": "09fa6c22-7fbd-4a90-c7bf-7e70719999c7"
      },
      "execution_count": 66,
      "outputs": [
        {
          "output_type": "stream",
          "name": "stdout",
          "text": [
            "Location with the highest job postings: Washington DC\n"
          ]
        }
      ]
    },
    {
      "cell_type": "code",
      "source": [
        "# How many job postings for python?\n",
        "\n",
        "python_jobs = df[df['Job Title'].str.contains('python', case=False)]\n",
        "num_python_jobs = len(python_jobs)\n",
        "\n",
        "print(f\"Number of job postings for Python: {num_python_jobs}\")\n"
      ],
      "metadata": {
        "colab": {
          "base_uri": "https://localhost:8080/"
        },
        "id": "2DhB2iFWvDiD",
        "outputId": "2b001d74-4403-4820-c696-004475b0303c"
      },
      "execution_count": 68,
      "outputs": [
        {
          "output_type": "stream",
          "name": "stdout",
          "text": [
            "Number of job postings for Python: 191\n"
          ]
        }
      ]
    },
    {
      "cell_type": "code",
      "source": [
        "# Write a function to find number of jobs in US for a location of your choice\n",
        "\n",
        "def num_jobs_in_us(location):\n",
        "  \"\"\"\n",
        "  Finds the number of jobs in the US for a given location.\n",
        "\n",
        "  Args:\n",
        "    location: The location to search for jobs in.\n",
        "\n",
        "  Returns:\n",
        "    The number of jobs in the US for the given location.\n",
        "  \"\"\"\n",
        "\n",
        "  us_jobs = df[df['Location'].str.contains(location, case=False)]\n",
        "  return len(us_jobs)\n",
        "\n",
        "# Example usage\n",
        "location = \"Los Angeles\"\n",
        "num_jobs = num_jobs_in_us(location)\n",
        "\n",
        "print(f\"Number of jobs in the US for '{location}': {num_jobs}\")\n"
      ],
      "metadata": {
        "colab": {
          "base_uri": "https://localhost:8080/"
        },
        "id": "PY_mPkLTvtuJ",
        "outputId": "54806d0b-18b0-4a7f-cb23-be649a142f10"
      },
      "execution_count": 70,
      "outputs": [
        {
          "output_type": "stream",
          "name": "stdout",
          "text": [
            "Number of jobs in the US for 'Los Angeles': 640\n"
          ]
        }
      ]
    },
    {
      "cell_type": "code",
      "source": [
        "# Store the results in an excel file\n",
        "\n",
        "df.to_excel(\"output.xlsx\", sheet_name=\"Job Data\")\n"
      ],
      "metadata": {
        "id": "0jfsDFk-wUHk"
      },
      "execution_count": 71,
      "outputs": []
    },
    {
      "cell_type": "code",
      "source": [
        "# Create a python list of all locations for which you need to find the number of jobs postings.\n",
        "\n",
        "locations = ['New York', 'Los Angeles', 'Chicago', 'Houston', 'San Francisco']\n"
      ],
      "metadata": {
        "id": "t5j6by3BwmcZ"
      },
      "execution_count": 72,
      "outputs": []
    },
    {
      "cell_type": "code",
      "source": [
        "# Create a workbook and select the active worksheet\n",
        "\n",
        "import xlsxwriter\n",
        "\n",
        "# Create a workbook and add a worksheet.\n",
        "workbook = xlsxwriter.Workbook('job_postings.xlsx')\n",
        "worksheet = workbook.add_worksheet()\n",
        "\n",
        "# Set the active worksheet.\n",
        "worksheet.activate()\n"
      ],
      "metadata": {
        "id": "o8r2C_4sw1Qp"
      },
      "execution_count": 73,
      "outputs": []
    },
    {
      "cell_type": "code",
      "source": [
        "# Find the number of jobs postings for each of the location in the above list. Write the Location name and the number of jobs postings into the excel spreadsheet.\n",
        "\n",
        "# Write the header row.\n",
        "worksheet.write(0, 0, 'Location')\n",
        "worksheet.write(0, 1, 'Number of Jobs')\n",
        "\n",
        "# Iterate through the list of locations.\n",
        "for i, location in enumerate(locations):\n",
        "  # Get the number of jobs for the current location.\n",
        "  num_jobs = num_jobs_in_us(location)\n",
        "\n",
        "  # Write the location and number of jobs to the spreadsheet.\n",
        "  worksheet.write(i + 1, 0, location)\n",
        "  worksheet.write(i + 1, 1, num_jobs)\n",
        "\n",
        "# Save the workbook.\n",
        "workbook.close()\n"
      ],
      "metadata": {
        "id": "AH_-2ZrnxAMB"
      },
      "execution_count": 74,
      "outputs": []
    },
    {
      "cell_type": "code",
      "source": [
        "num_jobs"
      ],
      "metadata": {
        "colab": {
          "base_uri": "https://localhost:8080/"
        },
        "id": "uwoUh3i5xU5G",
        "outputId": "e38fe270-4e7b-4bea-9875-2dc980ab270b"
      },
      "execution_count": 75,
      "outputs": [
        {
          "output_type": "execute_result",
          "data": {
            "text/plain": [
              "435"
            ]
          },
          "metadata": {},
          "execution_count": 75
        }
      ]
    },
    {
      "cell_type": "code",
      "source": [
        "api_url = \"http://api.open-notify.org/astros.json\" # this url gives use the astronaut data\n",
        "api_url"
      ],
      "metadata": {
        "colab": {
          "base_uri": "https://localhost:8080/",
          "height": 35
        },
        "id": "Uu5DdG-hgH0O",
        "outputId": "04c6d6f0-00e9-4262-eea9-20c9a7702e5a"
      },
      "execution_count": 56,
      "outputs": [
        {
          "output_type": "execute_result",
          "data": {
            "text/plain": [
              "'http://api.open-notify.org/astros.json'"
            ],
            "application/vnd.google.colaboratory.intrinsic+json": {
              "type": "string"
            }
          },
          "metadata": {},
          "execution_count": 56
        }
      ]
    },
    {
      "cell_type": "code",
      "source": [
        "response = requests.get(api_url) # Call the API using the get method and store the\n",
        "                                # output of the API call in a variable called response."
      ],
      "metadata": {
        "id": "aoUh7sQUgMVA"
      },
      "execution_count": 57,
      "outputs": []
    },
    {
      "cell_type": "code",
      "source": [
        "if response.ok:             # if all is well() no errors, no network timeouts)\n",
        "    data = response.json()  # store the result in json format in a variable called data\n",
        "                            # the variable data is of type dictionary."
      ],
      "metadata": {
        "id": "e0Y29I9MgSqH"
      },
      "execution_count": 58,
      "outputs": []
    },
    {
      "cell_type": "code",
      "source": [
        "print(data)   # print the data just to check the output or for debugging"
      ],
      "metadata": {
        "colab": {
          "base_uri": "https://localhost:8080/"
        },
        "id": "DZOqP7Ubgc5o",
        "outputId": "29ce49c5-fe11-4217-b9d1-b3d1083ee09d"
      },
      "execution_count": 59,
      "outputs": [
        {
          "output_type": "stream",
          "name": "stdout",
          "text": [
            "{'message': 'success', 'people': [{'name': 'Jasmin Moghbeli', 'craft': 'ISS'}, {'name': 'Andreas Mogensen', 'craft': 'ISS'}, {'name': 'Satoshi Furukawa', 'craft': 'ISS'}, {'name': 'Konstantin Borisov', 'craft': 'ISS'}, {'name': 'Oleg Kononenko', 'craft': 'ISS'}, {'name': 'Nikolai Chub', 'craft': 'ISS'}, {'name': \"Loral O'Hara\", 'craft': 'ISS'}], 'number': 7}\n"
          ]
        }
      ]
    },
    {
      "cell_type": "markdown",
      "source": [
        "#Lab: Collect Jobs Data using Jobs API\n"
      ],
      "metadata": {
        "id": "6ZZxrG6rgk3e"
      }
    },
    {
      "cell_type": "markdown",
      "source": [
        "Objective: Determine the number of jobs currently open for various technologies and for various locations¶\n",
        "\n",
        "Collect the number of job postings for the following locations using the API:\n",
        "\n",
        "Los Angeles\n",
        "\n",
        "New York\n",
        "\n",
        "San Francisco\n",
        "\n",
        "Washington DC\n",
        "\n",
        "Seattle\n",
        "\n",
        "Austin\n",
        "\n",
        "Detroit"
      ],
      "metadata": {
        "id": "YhIgIigGgsBi"
      }
    },
    {
      "cell_type": "code",
      "source": [
        "#Import required libraries\n",
        "import pandas as pd\n",
        "import json"
      ],
      "metadata": {
        "id": "uuNVRjV6hBvf"
      },
      "execution_count": 60,
      "outputs": []
    },
    {
      "cell_type": "markdown",
      "source": [
        "Write a function to get the number of jobs for the Python technology.\n",
        "Note: While using the lab you need to pass the payload information for the params attribute in the form of key value pairs. Refer the ungraded rest api lab in the course Python for Data Science, AI & Development link\n",
        "\n",
        "The keys in the json are\n",
        "Job Title\n",
        "\n",
        "Job Experience Required\n",
        "\n",
        "Key Skills\n",
        "\n",
        "Role Category\n",
        "\n",
        "Location\n",
        "\n",
        "Functional Area\n",
        "\n",
        "Industry\n",
        "\n",
        "Role\n",
        "\n"
      ],
      "metadata": {
        "id": "X8fmMTjphRJL"
      }
    },
    {
      "cell_type": "code",
      "source": [
        "# Using this: api_url=\"http://127.0.0.1:5000/data\", Write a function to get the number of jobs for the Python technology\n",
        "api_url=\"http://127.0.0.1:5000/data\"\n",
        "def get_number_of_jobs_T(technology):\n",
        "#def get_number_of_jobs_for_python(api_url):\n",
        "  \"\"\"\n",
        "  This function gets the number of jobs for the Python technology from the API.\n",
        "\n",
        "  Args:\n",
        "      api_url: The URL of the API.\n",
        "\n",
        "  Returns:\n",
        "      A tuple containing the technology and the number of jobs.\n",
        "  \"\"\"\n",
        "\n",
        "  payload = {\"Job Title\": \"Python\"}\n",
        "  response = requests.get(api_url, params=payload)\n",
        "  if response.ok:\n",
        "    data = response.json()\n",
        "    number_of_jobs = data[\"number_of_jobs\"]\n",
        "    return \"Python\", technology, number_of_jobs\n",
        "  else:\n",
        "    raise Exception(\"Error fetching data from API.\")\n",
        "\n"
      ],
      "metadata": {
        "id": "Fe5LPeENh0Y4"
      },
      "execution_count": 61,
      "outputs": []
    },
    {
      "cell_type": "code",
      "source": [
        "!ping 127.0.0.1"
      ],
      "metadata": {
        "colab": {
          "base_uri": "https://localhost:8080/"
        },
        "id": "z4PW1MPikbGj",
        "outputId": "7959dd9d-f14f-4278-cdca-06e321648e55"
      },
      "execution_count": 62,
      "outputs": [
        {
          "output_type": "stream",
          "name": "stdout",
          "text": [
            "/bin/bash: line 1: ping: command not found\n"
          ]
        }
      ]
    },
    {
      "cell_type": "code",
      "source": [
        "#Calling the function for Python and checking if it works\n",
        "\n",
        "#get_number_of_jobs_T(\"Python\")"
      ],
      "metadata": {
        "id": "RCXEx9OFi5K5"
      },
      "execution_count": 63,
      "outputs": []
    },
    {
      "cell_type": "code",
      "source": [
        "# prompt: Write a function to find number of jobs in US for a location of your choice\n",
        "api_url=\"http://127.0.0.1:5000/data\"\n",
        "def get_number_of_jobs_US(location):\n",
        "  \"\"\"\n",
        "  This function gets the number of jobs in the US for a given location.\n",
        "\n",
        "  Args:\n",
        "      location: The location in the US.\n",
        "\n",
        "  Returns:\n",
        "      A tuple containing the location and the number of jobs.\n",
        "  \"\"\"\n",
        "\n",
        "  payload = {\"Location\": location}\n",
        "  response = requests.get(api_url, params=payload)\n",
        "  if response.ok:\n",
        "    data = response.json()\n",
        "    number_of_jobs = data[\"number_of_jobs\"]\n",
        "    return location, number_of_jobs\n",
        "  else:\n",
        "    raise Exception(\"Error fetching data from API.\")\n",
        "\n",
        "\n",
        "# Calling the function for Los Angeles and checking if it works\n",
        "location = \"Los Angeles\"\n",
        "location, number_of_jobs = get_number_of_jobs_US(location)\n",
        "print(f\"Number of jobs in {location}: {number_of_jobs}\")\n"
      ],
      "metadata": {
        "id": "XDGmxTqhmoAx"
      },
      "execution_count": null,
      "outputs": []
    },
    {
      "cell_type": "code",
      "source": [
        "#Call the API for all the given technologies above and write the results in an excel spreadsheet.\n",
        "\n",
        "import pandas as pd\n",
        "\n",
        "# Create a list of technologies.\n",
        "technologies = [\"Python\", \"Java\", \"C++\", \"JavaScript\", \"R\"]\n",
        "\n",
        "# Create a list of locations.\n",
        "locations = [\"Los Angeles\", \"New York\", \"San Francisco\", \"Washington DC\", \"Seattle\", \"Austin\", \"Detroit\"]\n",
        "\n",
        "# Create a list to store the results.\n",
        "results = []\n",
        "\n",
        "# Call the API for each technology and location.\n",
        "for technology in technologies:\n",
        "  for location in locations:\n",
        "    payload = {\"Job Title\": technology, \"Location\": location}\n",
        "    response = requests.get(api_url, params=payload)\n",
        "    if response.ok:\n",
        "      data = response.json()\n",
        "      number_of_jobs = data[\"number_of_jobs\"]\n",
        "      results.append({\"Technology\": technology, \"Location\": location, \"Number of Jobs\": number_of_jobs})\n",
        "\n",
        "# Create a Pandas DataFrame from the results.\n",
        "df = pd.DataFrame(results)\n",
        "\n",
        "# Write the DataFrame to an Excel spreadsheet.\n",
        "df.to_excel(\"job_data.xlsx\", sheet_name=\"Sheet1\")"
      ],
      "metadata": {
        "id": "Bp-24xDhmRmw"
      },
      "execution_count": null,
      "outputs": []
    },
    {
      "cell_type": "code",
      "source": [
        "# Store the results in an excel file\n",
        "# Call the API for all the given technologies above and write the results in an excel spreadsheet\n",
        "\n",
        "import pandas as pd\n",
        "# Create a list of technologies.\n",
        "technologies = [\"Python\", \"Java\", \"C++\", \"JavaScript\", \"R\"]\n",
        "\n",
        "# Create a list of locations.\n",
        "locations = [\"Los Angeles\", \"New York\", \"San Francisco\", \"Washington DC\", \"Seattle\", \"Austin\", \"Detroit\"]\n",
        "\n",
        "# Create a list to store the results.\n",
        "results = []\n",
        "\n",
        "# Call the API for each technology and location.\n",
        "for technology in technologies:\n",
        "  for location in locations:\n",
        "    payload = {\"Job Title\": technology, \"Location\": location}\n",
        "    response = requests.get(api_url, params=payload)\n",
        "    if response.ok:\n",
        "      data = response.json()\n",
        "      number_of_jobs = data[\"number_of_jobs\"]\n",
        "      results.append({\"Technology\": technology, \"Location\": location, \"Number of Jobs\": number_of_jobs})\n",
        "\n",
        "# Create a Pandas DataFrame from the results.\n",
        "df = pd.DataFrame(results)\n",
        "\n",
        "# Write the DataFrame to an Excel spreadsheet.\n",
        "df.to_excel(\"job_data.xlsx\", sheet_name=\"Sheet1\")\n"
      ],
      "metadata": {
        "id": "EUE-q1-moHs3"
      },
      "execution_count": null,
      "outputs": []
    },
    {
      "cell_type": "code",
      "source": [
        "# Create a python list of all locations for which you need to find the number of jobs postings.\n",
        "\n",
        "locations = [\"Los Angeles\", \"New York\", \"San Francisco\", \"Washington DC\", \"Seattle\", \"Austin\", \"Detroit\"]\n"
      ],
      "metadata": {
        "id": "4qqTi5ZCnrY6"
      },
      "execution_count": null,
      "outputs": []
    },
    {
      "cell_type": "code",
      "source": [
        "!pip install xlsxwriter"
      ],
      "metadata": {
        "id": "ovu1Licooqgt"
      },
      "execution_count": null,
      "outputs": []
    },
    {
      "cell_type": "code",
      "source": [
        "# Import libraries required to create excel spreadsheet\n",
        "\n",
        "import pandas as pd\n",
        "import xlsxwriter\n"
      ],
      "metadata": {
        "id": "U1RA0EGuohYO"
      },
      "execution_count": null,
      "outputs": []
    },
    {
      "cell_type": "code",
      "source": [
        "# Create a workbook and select the active worksheet\n",
        "\n",
        "import xlsxwriter\n",
        "\n",
        "# Create a workbook and add a worksheet.\n",
        "workbook = xlsxwriter.Workbook('job_data.xlsx')\n",
        "worksheet = workbook.add_worksheet()\n",
        "\n",
        "# Set the active worksheet.\n",
        "worksheet.activate()\n"
      ],
      "metadata": {
        "id": "-9w8hpDvo0md"
      },
      "execution_count": null,
      "outputs": []
    },
    {
      "cell_type": "code",
      "source": [
        "# Find the number of jobs postings for each of the location in the above list. Write the Location name and the number of jobs postings into the excel spreadsheet\n",
        "\n",
        "# Add a header row.\n",
        "worksheet.write(0, 0, 'Location')\n",
        "worksheet.write(0, 1, 'Number of Jobs')\n",
        "\n",
        "# Write the data rows.\n",
        "for row, location in enumerate(locations):\n",
        "  payload = {\"Location\": location}\n",
        "  response = requests.get(api_url, params=payload)\n",
        "  if response.ok:\n",
        "    data = response.json()\n",
        "    df = pd.json_normalize(data)\n",
        "    if \"number_of_jobs\" in df.columns:\n",
        "      number_of_jobs = df[\"number_of_jobs\"].iloc[0]\n",
        "    else:\n",
        "      number_of_jobs = 0\n",
        "    worksheet.write(row + 1, 0, location)\n",
        "    worksheet.write(row + 1, 1, number_of_jobs)\n",
        "\n",
        "# Close the workbook.\n",
        "workbook.close()"
      ],
      "metadata": {
        "id": "X4ATcfKLp-Cr"
      },
      "execution_count": null,
      "outputs": []
    },
    {
      "cell_type": "code",
      "source": [
        "#Save into an excel spreadsheet named 'job-postings.xlsx'.\n",
        "\n",
        "import pandas as pd\n",
        "import xlsxwriter\n",
        "\n",
        "# Create a workbook and add a worksheet.\n",
        "workbook = xlsxwriter.Workbook('job-postings.xlsx')\n",
        "worksheet = workbook.add_worksheet()\n",
        "\n",
        "# Set the active worksheet.\n",
        "worksheet.activate()\n",
        "\n",
        "# Add a header row.\n",
        "worksheet.write(0, 0, 'Location')\n",
        "worksheet.write(0, 1, 'Number of Jobs')\n",
        "\n",
        "# Write the data rows.\n",
        "for row, location in enumerate(locations):\n",
        "  payload = {\"Location\": location}\n",
        "  response = requests.get(api_url, params=payload)\n",
        "  if response.ok:\n",
        "    data = response.json()\n",
        "    df = pd.json_normalize(data)\n",
        "    if \"number_of_jobs\" in df.columns:\n",
        "      number_of_jobs = df[\"number_of_jobs\"].iloc[0]\n",
        "    else:\n",
        "      number_of_jobs = 0\n",
        "    worksheet.write(row + 1, 0, location)\n",
        "    worksheet.write(row + 1, 1, number_of_jobs)\n",
        "\n",
        "# Close the workbook.\n",
        "workbook.close()\n"
      ],
      "metadata": {
        "id": "TLa6mz1VqLYK"
      },
      "execution_count": null,
      "outputs": []
    },
    {
      "cell_type": "markdown",
      "source": [
        "In the similar way, you can try for below given technologies and results can be stored in an excel sheet.\n",
        "Collect the number of job postings for the following languages using the API:\n",
        "\n",
        "C\n",
        "C#\n",
        "C++\n",
        "Java\n",
        "JavaScript\n",
        "Python\n",
        "Scala\n",
        "Oracle\n",
        "SQL Server\n",
        "MySQL Server\n",
        "PostgreSQL\n",
        "MongoDB"
      ],
      "metadata": {
        "id": "_itiwyeUq_im"
      }
    },
    {
      "cell_type": "code",
      "source": [
        "\n",
        "import pandas as pd\n",
        "# Create a list of technologies.\n",
        "technologies = [\"C\", \"C#\", \"C++\", \"Java\", \"JavaScript\", \"Python\", \"Scala\", \"Oracle\", \"SQL Server\", \"MySQL Server\", \"PostgreSQL\", \"MongoDB\"]\n",
        "\n",
        "# Create a list of locations.\n",
        "locations = [\"Los Angeles\", \"New York\", \"San Francisco\", \"Washington DC\", \"Seattle\", \"Austin\", \"Detroit\"]\n",
        "\n",
        "# Create a list to store the results.\n",
        "results = []\n",
        "\n",
        "# Call the API for each technology and location.\n",
        "for technology in technologies:\n",
        "  for location in locations:\n",
        "    payload = {\"Job Title\": technology, \"Location\": location}\n",
        "    response = requests.get(api_url, params=payload)\n",
        "    if response.ok:\n",
        "      data = response.json()\n",
        "      number_of_jobs = data[\"number_of_jobs\"]\n",
        "      results.append({\"Technology\": technology, \"Location\": location, \"Number of Jobs\": number_of_jobs})\n",
        "\n",
        "# Create a Pandas DataFrame from the results.\n",
        "df = pd.DataFrame(results)\n",
        "\n",
        "# Write the DataFrame to an Excel spreadsheet.\n",
        "df.to_excel(\"job_data.xlsx\", sheet_name=\"Sheet1\")\n",
        "\n",
        "# Create a workbook and add a worksheet.\n",
        "workbook = xlsxwriter.Workbook('job-postings.xlsx')\n",
        "worksheet = workbook.add_worksheet()\n",
        "\n",
        "# Set the active worksheet.\n",
        "worksheet.activate()\n",
        "\n",
        "# Add a header row.\n",
        "worksheet.write(0, 0, 'Location')\n",
        "worksheet.write(0, 1, 'Number of Jobs')\n",
        "\n",
        "# Write the data rows.\n",
        "for row, location in enumerate(locations):\n",
        "  payload = {\"Location\": location}\n",
        "  response = requests.get(api_url, params=payload)\n",
        "  if response.ok:\n",
        "    data = response.json()\n",
        "    df = pd.json_normalize(data)\n",
        "    if \"number_of_jobs\" in df.columns:\n",
        "      number_of_jobs = df[\"number_of_jobs\"].iloc[0]\n",
        "    else:\n",
        "      number_of_jobs = 0\n",
        "    worksheet.write(row + 1, 0, location)\n",
        "    worksheet.write(row + 1, 1, number_of_jobs)\n",
        "\n",
        "# Close the workbook.\n",
        "workbook.close()\n"
      ],
      "metadata": {
        "id": "_-wCVanwq6Nl"
      },
      "execution_count": null,
      "outputs": []
    }
  ]
}