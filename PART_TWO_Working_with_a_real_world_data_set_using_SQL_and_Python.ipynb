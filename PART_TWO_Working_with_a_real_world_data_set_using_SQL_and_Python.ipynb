{
  "nbformat": 4,
  "nbformat_minor": 0,
  "metadata": {
    "colab": {
      "provenance": [],
      "authorship_tag": "ABX9TyM/1ycpMW8D0QSl4rqxnx31",
      "include_colab_link": true
    },
    "kernelspec": {
      "name": "python3",
      "display_name": "Python 3"
    },
    "language_info": {
      "name": "python"
    }
  },
  "cells": [
    {
      "cell_type": "markdown",
      "metadata": {
        "id": "view-in-github",
        "colab_type": "text"
      },
      "source": [
        "<a href=\"https://colab.research.google.com/github/yommigold/Python_/blob/main/PART_TWO_Working_with_a_real_world_data_set_using_SQL_and_Python.ipynb\" target=\"_parent\"><img src=\"https://colab.research.google.com/assets/colab-badge.svg\" alt=\"Open In Colab\"/></a>"
      ]
    },
    {
      "cell_type": "code",
      "execution_count": 1,
      "metadata": {
        "id": "XMeqAoqS6oC9"
      },
      "outputs": [],
      "source": [
        "# Working with a real world data-set using SQL and Python\n",
        "import csv, sqlite3\n",
        "\n",
        "con = sqlite3.connect(\"RealWorldData.db\")\n",
        "cur = con.cursor()"
      ]
    },
    {
      "cell_type": "code",
      "source": [
        "!pip install -q pandas==1.1.5"
      ],
      "metadata": {
        "colab": {
          "base_uri": "https://localhost:8080/"
        },
        "id": "20J3Ye3n6zMu",
        "outputId": "4019df84-8f77-4436-cf59-605ee02fcd23"
      },
      "execution_count": 2,
      "outputs": [
        {
          "output_type": "stream",
          "name": "stdout",
          "text": [
            "\u001b[?25l     \u001b[90m━━━━━━━━━━━━━━━━━━━━━━━━━━━━━━━━━━━━━━━━\u001b[0m \u001b[32m0.0/5.2 MB\u001b[0m \u001b[31m?\u001b[0m eta \u001b[36m-:--:--\u001b[0m\r\u001b[2K     \u001b[91m╸\u001b[0m\u001b[90m━━━━━━━━━━━━━━━━━━━━━━━━━━━━━━━━━━━━━━━\u001b[0m \u001b[32m0.1/5.2 MB\u001b[0m \u001b[31m3.2 MB/s\u001b[0m eta \u001b[36m0:00:02\u001b[0m\r\u001b[2K     \u001b[91m━━━━━━\u001b[0m\u001b[90m╺\u001b[0m\u001b[90m━━━━━━━━━━━━━━━━━━━━━━━━━━━━━━━━━\u001b[0m \u001b[32m0.8/5.2 MB\u001b[0m \u001b[31m11.8 MB/s\u001b[0m eta \u001b[36m0:00:01\u001b[0m\r\u001b[2K     \u001b[91m━━━━━━━━━━━━━━━━━━━━━━━━━━━━━\u001b[0m\u001b[91m╸\u001b[0m\u001b[90m━━━━━━━━━━\u001b[0m \u001b[32m3.9/5.2 MB\u001b[0m \u001b[31m37.2 MB/s\u001b[0m eta \u001b[36m0:00:01\u001b[0m\r\u001b[2K     \u001b[91m━━━━━━━━━━━━━━━━━━━━━━━━━━━━━━━━━━━━━━━\u001b[0m\u001b[91m╸\u001b[0m \u001b[32m5.2/5.2 MB\u001b[0m \u001b[31m43.9 MB/s\u001b[0m eta \u001b[36m0:00:01\u001b[0m\r\u001b[2K     \u001b[90m━━━━━━━━━━━━━━━━━━━━━━━━━━━━━━━━━━━━━━━━\u001b[0m \u001b[32m5.2/5.2 MB\u001b[0m \u001b[31m34.0 MB/s\u001b[0m eta \u001b[36m0:00:00\u001b[0m\n",
            "\u001b[?25h  Installing build dependencies ... \u001b[?25l\u001b[?25hdone\n",
            "  Getting requirements to build wheel ... \u001b[?25l\u001b[?25hdone\n",
            "  Preparing metadata (pyproject.toml) ... \u001b[?25l\u001b[?25hdone\n",
            "  Building wheel for pandas (pyproject.toml) ... \u001b[?25l\u001b[?25hdone\n",
            "\u001b[31mERROR: pip's dependency resolver does not currently take into account all the packages that are installed. This behaviour is the source of the following dependency conflicts.\n",
            "arviz 0.15.1 requires pandas>=1.3.0, but you have pandas 1.1.5 which is incompatible.\n",
            "bigframes 0.22.0 requires pandas<2.1.4,>=1.5.0, but you have pandas 1.1.5 which is incompatible.\n",
            "bokeh 3.3.4 requires pandas>=1.2, but you have pandas 1.1.5 which is incompatible.\n",
            "google-colab 1.0.0 requires pandas==1.5.3, but you have pandas 1.1.5 which is incompatible.\n",
            "ibis-framework 7.1.0 requires pandas<3,>=1.2.5, but you have pandas 1.1.5 which is incompatible.\n",
            "mizani 0.9.3 requires pandas>=1.3.5, but you have pandas 1.1.5 which is incompatible.\n",
            "panel 1.3.8 requires pandas>=1.2, but you have pandas 1.1.5 which is incompatible.\n",
            "plotnine 0.12.4 requires pandas>=1.5.0, but you have pandas 1.1.5 which is incompatible.\n",
            "seaborn 0.13.1 requires pandas>=1.2, but you have pandas 1.1.5 which is incompatible.\n",
            "xarray 2023.7.0 requires pandas>=1.4, but you have pandas 1.1.5 which is incompatible.\n",
            "yfinance 0.2.37 requires pandas>=1.3.0, but you have pandas 1.1.5 which is incompatible.\u001b[0m\u001b[31m\n",
            "\u001b[0m"
          ]
        }
      ]
    },
    {
      "cell_type": "code",
      "source": [
        "%load_ext sql"
      ],
      "metadata": {
        "colab": {
          "base_uri": "https://localhost:8080/"
        },
        "id": "vtqarIqg69ei",
        "outputId": "f586af75-67f5-4625-a22e-c9aed397dba6"
      },
      "execution_count": 5,
      "outputs": [
        {
          "output_type": "stream",
          "name": "stdout",
          "text": [
            "The sql extension is already loaded. To reload it, use:\n",
            "  %reload_ext sql\n"
          ]
        }
      ]
    },
    {
      "cell_type": "code",
      "source": [
        "%sql sqlite:///RealWorldData.db"
      ],
      "metadata": {
        "id": "sl-1V2qT7bpb"
      },
      "execution_count": 6,
      "outputs": []
    },
    {
      "cell_type": "code",
      "source": [
        "# Store the dataset in a Table\n",
        "# using SQL, it first needs to be stored in the database.\n",
        "# We will first read the csv files from the given url into pandas dataframes\n",
        "# Next we will be using the df.to_sql() function to convert each csv file to a table in sqlite with the csv data loaded in it.\n",
        "\n",
        "\n",
        "import pandas\n",
        "df = pandas.read_csv(\"https://cf-courses-data.s3.us.cloud-object-storage.appdomain.cloud/IBMDeveloperSkillsNetwork-DB0201EN-SkillsNetwork/labs/FinalModule_Coursera_V5/data/ChicagoCensusData.csv\")\n",
        "df.to_sql(\"CENSUS_DATA\", con, if_exists='replace', index=False,method=\"multi\")\n"
      ],
      "metadata": {
        "id": "OcPi0bTq7fqi"
      },
      "execution_count": 7,
      "outputs": []
    },
    {
      "cell_type": "code",
      "source": [
        "\n",
        "df = pandas.read_csv(\"https://cf-courses-data.s3.us.cloud-object-storage.appdomain.cloud/IBMDeveloperSkillsNetwork-DB0201EN-SkillsNetwork/labs/FinalModule_Coursera_V5/data/ChicagoCrimeData.csv\")\n",
        "df.to_sql(\"CHICAGO_CRIME_DATA\", con, if_exists='replace', index=False, method=\"multi\")\n"
      ],
      "metadata": {
        "id": "UNi6VZZ--6wO"
      },
      "execution_count": 8,
      "outputs": []
    },
    {
      "cell_type": "code",
      "source": [
        "\n",
        "df = pandas.read_csv(\"https://cf-courses-data.s3.us.cloud-object-storage.appdomain.cloud/IBMDeveloperSkillsNetwork-DB0201EN-SkillsNetwork/labs/FinalModule_Coursera_V5/data/ChicagoPublicSchools.csv\")\n",
        "df.to_sql(\"CHICAGO_PUBLIC_SCHOOLS_DATA\", con, if_exists='replace', index=False, method=\"multi\")\n",
        "\n"
      ],
      "metadata": {
        "colab": {
          "base_uri": "https://localhost:8080/"
        },
        "id": "yp2Sy8M4-7vo",
        "outputId": "92e39089-dd46-43e8-9915-0368c370e39b"
      },
      "execution_count": 9,
      "outputs": [
        {
          "output_type": "stream",
          "name": "stderr",
          "text": [
            "/usr/local/lib/python3.10/dist-packages/pandas/core/generic.py:2605: UserWarning: The spaces in these column names will not be changed. In pandas versions < 0.14, spaces were converted to underscores.\n",
            "  sql.to_sql(\n"
          ]
        }
      ]
    },
    {
      "cell_type": "code",
      "source": [
        "# Query the database system catalog to retrieve table metadata\n",
        "\n",
        "# You can verify that the table creation was successful by retrieving the list of all tables in your schema and checking whether the SCHOOLS table was create\n",
        "# # type in your query to retrieve list of all tables in the database\n",
        "\n",
        "%sql SELECT name FROM sqlite_master WHERE type='table'\n"
      ],
      "metadata": {
        "colab": {
          "base_uri": "https://localhost:8080/",
          "height": 139
        },
        "id": "POHoZEEi8H-w",
        "outputId": "8bf2c96f-2ab7-4e51-ae6b-a61070fffc82"
      },
      "execution_count": 10,
      "outputs": [
        {
          "output_type": "stream",
          "name": "stdout",
          "text": [
            " * sqlite:///RealWorldData.db\n",
            "Done.\n"
          ]
        },
        {
          "output_type": "execute_result",
          "data": {
            "text/plain": [
              "[('CENSUS_DATA',), ('CHICAGO_CRIME_DATA',), ('CHICAGO_PUBLIC_SCHOOLS_DATA',)]"
            ],
            "text/html": [
              "<table>\n",
              "    <thead>\n",
              "        <tr>\n",
              "            <th>name</th>\n",
              "        </tr>\n",
              "    </thead>\n",
              "    <tbody>\n",
              "        <tr>\n",
              "            <td>CENSUS_DATA</td>\n",
              "        </tr>\n",
              "        <tr>\n",
              "            <td>CHICAGO_CRIME_DATA</td>\n",
              "        </tr>\n",
              "        <tr>\n",
              "            <td>CHICAGO_PUBLIC_SCHOOLS_DATA</td>\n",
              "        </tr>\n",
              "    </tbody>\n",
              "</table>"
            ]
          },
          "metadata": {},
          "execution_count": 10
        }
      ]
    },
    {
      "cell_type": "code",
      "source": [
        "# Query the database system catalog to retrieve column metadata\n",
        "# The SCHOOLS table contains a large number of columns. How many columns does this table have?\n",
        "\n",
        "%sql SELECT count(name) FROM PRAGMA_TABLE_INFO('CHICAGO_PUBLIC_SCHOOLS_DATA');"
      ],
      "metadata": {
        "colab": {
          "base_uri": "https://localhost:8080/",
          "height": 96
        },
        "id": "4_aMsvxV817W",
        "outputId": "842fec26-9e3e-40f0-8da0-50e266cf3843"
      },
      "execution_count": 11,
      "outputs": [
        {
          "output_type": "stream",
          "name": "stdout",
          "text": [
            " * sqlite:///RealWorldData.db\n",
            "Done.\n"
          ]
        },
        {
          "output_type": "execute_result",
          "data": {
            "text/plain": [
              "[(78,)]"
            ],
            "text/html": [
              "<table>\n",
              "    <thead>\n",
              "        <tr>\n",
              "            <th>count(name)</th>\n",
              "        </tr>\n",
              "    </thead>\n",
              "    <tbody>\n",
              "        <tr>\n",
              "            <td>78</td>\n",
              "        </tr>\n",
              "    </tbody>\n",
              "</table>"
            ]
          },
          "metadata": {},
          "execution_count": 11
        }
      ]
    },
    {
      "cell_type": "code",
      "source": [
        "# Now retrieve the the list of columns in SCHOOLS table and their column type (datatype) and length.\n",
        "\n",
        "# type in your query to retrieve all column names in the SCHOOLS table along with their datatypes and length\n",
        "\n",
        "%sql SELECT name,type,length(type) FROM PRAGMA_TABLE_INFO('CHICAGO_PUBLIC_SCHOOLS_DATA');\n"
      ],
      "metadata": {
        "colab": {
          "base_uri": "https://localhost:8080/",
          "height": 1000
        },
        "id": "eQ1K9gXk9Kf0",
        "outputId": "19e69aa0-843a-49d6-f845-db2879b2deac"
      },
      "execution_count": 12,
      "outputs": [
        {
          "output_type": "stream",
          "name": "stdout",
          "text": [
            " * sqlite:///RealWorldData.db\n",
            "Done.\n"
          ]
        },
        {
          "output_type": "execute_result",
          "data": {
            "text/plain": [
              "[('School_ID', 'INTEGER', 7),\n",
              " ('NAME_OF_SCHOOL', 'TEXT', 4),\n",
              " ('Elementary, Middle, or High School', 'TEXT', 4),\n",
              " ('Street_Address', 'TEXT', 4),\n",
              " ('City', 'TEXT', 4),\n",
              " ('State', 'TEXT', 4),\n",
              " ('ZIP_Code', 'INTEGER', 7),\n",
              " ('Phone_Number', 'TEXT', 4),\n",
              " ('Link', 'TEXT', 4),\n",
              " ('Network_Manager', 'TEXT', 4),\n",
              " ('Collaborative_Name', 'TEXT', 4),\n",
              " ('Adequate_Yearly_Progress_Made_', 'TEXT', 4),\n",
              " ('Track_Schedule', 'TEXT', 4),\n",
              " ('CPS_Performance_Policy_Status', 'TEXT', 4),\n",
              " ('CPS_Performance_Policy_Level', 'TEXT', 4),\n",
              " ('HEALTHY_SCHOOL_CERTIFIED', 'TEXT', 4),\n",
              " ('Safety_Icon', 'TEXT', 4),\n",
              " ('SAFETY_SCORE', 'REAL', 4),\n",
              " ('Family_Involvement_Icon', 'TEXT', 4),\n",
              " ('Family_Involvement_Score', 'TEXT', 4),\n",
              " ('Environment_Icon', 'TEXT', 4),\n",
              " ('Environment_Score', 'REAL', 4),\n",
              " ('Instruction_Icon', 'TEXT', 4),\n",
              " ('Instruction_Score', 'REAL', 4),\n",
              " ('Leaders_Icon', 'TEXT', 4),\n",
              " ('Leaders_Score', 'TEXT', 4),\n",
              " ('Teachers_Icon', 'TEXT', 4),\n",
              " ('Teachers_Score', 'TEXT', 4),\n",
              " ('Parent_Engagement_Icon', 'TEXT', 4),\n",
              " ('Parent_Engagement_Score', 'TEXT', 4),\n",
              " ('Parent_Environment_Icon', 'TEXT', 4),\n",
              " ('Parent_Environment_Score', 'TEXT', 4),\n",
              " ('AVERAGE_STUDENT_ATTENDANCE', 'TEXT', 4),\n",
              " ('Rate_of_Misconducts__per_100_students_', 'REAL', 4),\n",
              " ('Average_Teacher_Attendance', 'TEXT', 4),\n",
              " ('Individualized_Education_Program_Compliance_Rate', 'TEXT', 4),\n",
              " ('Pk_2_Literacy__', 'TEXT', 4),\n",
              " ('Pk_2_Math__', 'TEXT', 4),\n",
              " ('Gr3_5_Grade_Level_Math__', 'TEXT', 4),\n",
              " ('Gr3_5_Grade_Level_Read__', 'TEXT', 4),\n",
              " ('Gr3_5_Keep_Pace_Read__', 'TEXT', 4),\n",
              " ('Gr3_5_Keep_Pace_Math__', 'TEXT', 4),\n",
              " ('Gr6_8_Grade_Level_Math__', 'TEXT', 4),\n",
              " ('Gr6_8_Grade_Level_Read__', 'TEXT', 4),\n",
              " ('Gr6_8_Keep_Pace_Math_', 'TEXT', 4),\n",
              " ('Gr6_8_Keep_Pace_Read__', 'TEXT', 4),\n",
              " ('Gr_8_Explore_Math__', 'TEXT', 4),\n",
              " ('Gr_8_Explore_Read__', 'TEXT', 4),\n",
              " ('ISAT_Exceeding_Math__', 'REAL', 4),\n",
              " ('ISAT_Exceeding_Reading__', 'REAL', 4),\n",
              " ('ISAT_Value_Add_Math', 'REAL', 4),\n",
              " ('ISAT_Value_Add_Read', 'REAL', 4),\n",
              " ('ISAT_Value_Add_Color_Math', 'TEXT', 4),\n",
              " ('ISAT_Value_Add_Color_Read', 'TEXT', 4),\n",
              " ('Students_Taking__Algebra__', 'TEXT', 4),\n",
              " ('Students_Passing__Algebra__', 'TEXT', 4),\n",
              " ('9th Grade EXPLORE (2009)', 'TEXT', 4),\n",
              " ('9th Grade EXPLORE (2010)', 'TEXT', 4),\n",
              " ('10th Grade PLAN (2009)', 'TEXT', 4),\n",
              " ('10th Grade PLAN (2010)', 'TEXT', 4),\n",
              " ('Net_Change_EXPLORE_and_PLAN', 'TEXT', 4),\n",
              " ('11th Grade Average ACT (2011)', 'TEXT', 4),\n",
              " ('Net_Change_PLAN_and_ACT', 'TEXT', 4),\n",
              " ('College_Eligibility__', 'TEXT', 4),\n",
              " ('Graduation_Rate__', 'TEXT', 4),\n",
              " ('College_Enrollment_Rate__', 'TEXT', 4),\n",
              " ('COLLEGE_ENROLLMENT', 'INTEGER', 7),\n",
              " ('General_Services_Route', 'INTEGER', 7),\n",
              " ('Freshman_on_Track_Rate__', 'TEXT', 4),\n",
              " ('X_COORDINATE', 'REAL', 4),\n",
              " ('Y_COORDINATE', 'REAL', 4),\n",
              " ('Latitude', 'REAL', 4),\n",
              " ('Longitude', 'REAL', 4),\n",
              " ('COMMUNITY_AREA_NUMBER', 'INTEGER', 7),\n",
              " ('COMMUNITY_AREA_NAME', 'TEXT', 4),\n",
              " ('Ward', 'INTEGER', 7),\n",
              " ('Police_District', 'INTEGER', 7),\n",
              " ('Location', 'TEXT', 4)]"
            ],
            "text/html": [
              "<table>\n",
              "    <thead>\n",
              "        <tr>\n",
              "            <th>name</th>\n",
              "            <th>type</th>\n",
              "            <th>length(type)</th>\n",
              "        </tr>\n",
              "    </thead>\n",
              "    <tbody>\n",
              "        <tr>\n",
              "            <td>School_ID</td>\n",
              "            <td>INTEGER</td>\n",
              "            <td>7</td>\n",
              "        </tr>\n",
              "        <tr>\n",
              "            <td>NAME_OF_SCHOOL</td>\n",
              "            <td>TEXT</td>\n",
              "            <td>4</td>\n",
              "        </tr>\n",
              "        <tr>\n",
              "            <td>Elementary, Middle, or High School</td>\n",
              "            <td>TEXT</td>\n",
              "            <td>4</td>\n",
              "        </tr>\n",
              "        <tr>\n",
              "            <td>Street_Address</td>\n",
              "            <td>TEXT</td>\n",
              "            <td>4</td>\n",
              "        </tr>\n",
              "        <tr>\n",
              "            <td>City</td>\n",
              "            <td>TEXT</td>\n",
              "            <td>4</td>\n",
              "        </tr>\n",
              "        <tr>\n",
              "            <td>State</td>\n",
              "            <td>TEXT</td>\n",
              "            <td>4</td>\n",
              "        </tr>\n",
              "        <tr>\n",
              "            <td>ZIP_Code</td>\n",
              "            <td>INTEGER</td>\n",
              "            <td>7</td>\n",
              "        </tr>\n",
              "        <tr>\n",
              "            <td>Phone_Number</td>\n",
              "            <td>TEXT</td>\n",
              "            <td>4</td>\n",
              "        </tr>\n",
              "        <tr>\n",
              "            <td>Link</td>\n",
              "            <td>TEXT</td>\n",
              "            <td>4</td>\n",
              "        </tr>\n",
              "        <tr>\n",
              "            <td>Network_Manager</td>\n",
              "            <td>TEXT</td>\n",
              "            <td>4</td>\n",
              "        </tr>\n",
              "        <tr>\n",
              "            <td>Collaborative_Name</td>\n",
              "            <td>TEXT</td>\n",
              "            <td>4</td>\n",
              "        </tr>\n",
              "        <tr>\n",
              "            <td>Adequate_Yearly_Progress_Made_</td>\n",
              "            <td>TEXT</td>\n",
              "            <td>4</td>\n",
              "        </tr>\n",
              "        <tr>\n",
              "            <td>Track_Schedule</td>\n",
              "            <td>TEXT</td>\n",
              "            <td>4</td>\n",
              "        </tr>\n",
              "        <tr>\n",
              "            <td>CPS_Performance_Policy_Status</td>\n",
              "            <td>TEXT</td>\n",
              "            <td>4</td>\n",
              "        </tr>\n",
              "        <tr>\n",
              "            <td>CPS_Performance_Policy_Level</td>\n",
              "            <td>TEXT</td>\n",
              "            <td>4</td>\n",
              "        </tr>\n",
              "        <tr>\n",
              "            <td>HEALTHY_SCHOOL_CERTIFIED</td>\n",
              "            <td>TEXT</td>\n",
              "            <td>4</td>\n",
              "        </tr>\n",
              "        <tr>\n",
              "            <td>Safety_Icon</td>\n",
              "            <td>TEXT</td>\n",
              "            <td>4</td>\n",
              "        </tr>\n",
              "        <tr>\n",
              "            <td>SAFETY_SCORE</td>\n",
              "            <td>REAL</td>\n",
              "            <td>4</td>\n",
              "        </tr>\n",
              "        <tr>\n",
              "            <td>Family_Involvement_Icon</td>\n",
              "            <td>TEXT</td>\n",
              "            <td>4</td>\n",
              "        </tr>\n",
              "        <tr>\n",
              "            <td>Family_Involvement_Score</td>\n",
              "            <td>TEXT</td>\n",
              "            <td>4</td>\n",
              "        </tr>\n",
              "        <tr>\n",
              "            <td>Environment_Icon</td>\n",
              "            <td>TEXT</td>\n",
              "            <td>4</td>\n",
              "        </tr>\n",
              "        <tr>\n",
              "            <td>Environment_Score</td>\n",
              "            <td>REAL</td>\n",
              "            <td>4</td>\n",
              "        </tr>\n",
              "        <tr>\n",
              "            <td>Instruction_Icon</td>\n",
              "            <td>TEXT</td>\n",
              "            <td>4</td>\n",
              "        </tr>\n",
              "        <tr>\n",
              "            <td>Instruction_Score</td>\n",
              "            <td>REAL</td>\n",
              "            <td>4</td>\n",
              "        </tr>\n",
              "        <tr>\n",
              "            <td>Leaders_Icon</td>\n",
              "            <td>TEXT</td>\n",
              "            <td>4</td>\n",
              "        </tr>\n",
              "        <tr>\n",
              "            <td>Leaders_Score</td>\n",
              "            <td>TEXT</td>\n",
              "            <td>4</td>\n",
              "        </tr>\n",
              "        <tr>\n",
              "            <td>Teachers_Icon</td>\n",
              "            <td>TEXT</td>\n",
              "            <td>4</td>\n",
              "        </tr>\n",
              "        <tr>\n",
              "            <td>Teachers_Score</td>\n",
              "            <td>TEXT</td>\n",
              "            <td>4</td>\n",
              "        </tr>\n",
              "        <tr>\n",
              "            <td>Parent_Engagement_Icon</td>\n",
              "            <td>TEXT</td>\n",
              "            <td>4</td>\n",
              "        </tr>\n",
              "        <tr>\n",
              "            <td>Parent_Engagement_Score</td>\n",
              "            <td>TEXT</td>\n",
              "            <td>4</td>\n",
              "        </tr>\n",
              "        <tr>\n",
              "            <td>Parent_Environment_Icon</td>\n",
              "            <td>TEXT</td>\n",
              "            <td>4</td>\n",
              "        </tr>\n",
              "        <tr>\n",
              "            <td>Parent_Environment_Score</td>\n",
              "            <td>TEXT</td>\n",
              "            <td>4</td>\n",
              "        </tr>\n",
              "        <tr>\n",
              "            <td>AVERAGE_STUDENT_ATTENDANCE</td>\n",
              "            <td>TEXT</td>\n",
              "            <td>4</td>\n",
              "        </tr>\n",
              "        <tr>\n",
              "            <td>Rate_of_Misconducts__per_100_students_</td>\n",
              "            <td>REAL</td>\n",
              "            <td>4</td>\n",
              "        </tr>\n",
              "        <tr>\n",
              "            <td>Average_Teacher_Attendance</td>\n",
              "            <td>TEXT</td>\n",
              "            <td>4</td>\n",
              "        </tr>\n",
              "        <tr>\n",
              "            <td>Individualized_Education_Program_Compliance_Rate</td>\n",
              "            <td>TEXT</td>\n",
              "            <td>4</td>\n",
              "        </tr>\n",
              "        <tr>\n",
              "            <td>Pk_2_Literacy__</td>\n",
              "            <td>TEXT</td>\n",
              "            <td>4</td>\n",
              "        </tr>\n",
              "        <tr>\n",
              "            <td>Pk_2_Math__</td>\n",
              "            <td>TEXT</td>\n",
              "            <td>4</td>\n",
              "        </tr>\n",
              "        <tr>\n",
              "            <td>Gr3_5_Grade_Level_Math__</td>\n",
              "            <td>TEXT</td>\n",
              "            <td>4</td>\n",
              "        </tr>\n",
              "        <tr>\n",
              "            <td>Gr3_5_Grade_Level_Read__</td>\n",
              "            <td>TEXT</td>\n",
              "            <td>4</td>\n",
              "        </tr>\n",
              "        <tr>\n",
              "            <td>Gr3_5_Keep_Pace_Read__</td>\n",
              "            <td>TEXT</td>\n",
              "            <td>4</td>\n",
              "        </tr>\n",
              "        <tr>\n",
              "            <td>Gr3_5_Keep_Pace_Math__</td>\n",
              "            <td>TEXT</td>\n",
              "            <td>4</td>\n",
              "        </tr>\n",
              "        <tr>\n",
              "            <td>Gr6_8_Grade_Level_Math__</td>\n",
              "            <td>TEXT</td>\n",
              "            <td>4</td>\n",
              "        </tr>\n",
              "        <tr>\n",
              "            <td>Gr6_8_Grade_Level_Read__</td>\n",
              "            <td>TEXT</td>\n",
              "            <td>4</td>\n",
              "        </tr>\n",
              "        <tr>\n",
              "            <td>Gr6_8_Keep_Pace_Math_</td>\n",
              "            <td>TEXT</td>\n",
              "            <td>4</td>\n",
              "        </tr>\n",
              "        <tr>\n",
              "            <td>Gr6_8_Keep_Pace_Read__</td>\n",
              "            <td>TEXT</td>\n",
              "            <td>4</td>\n",
              "        </tr>\n",
              "        <tr>\n",
              "            <td>Gr_8_Explore_Math__</td>\n",
              "            <td>TEXT</td>\n",
              "            <td>4</td>\n",
              "        </tr>\n",
              "        <tr>\n",
              "            <td>Gr_8_Explore_Read__</td>\n",
              "            <td>TEXT</td>\n",
              "            <td>4</td>\n",
              "        </tr>\n",
              "        <tr>\n",
              "            <td>ISAT_Exceeding_Math__</td>\n",
              "            <td>REAL</td>\n",
              "            <td>4</td>\n",
              "        </tr>\n",
              "        <tr>\n",
              "            <td>ISAT_Exceeding_Reading__</td>\n",
              "            <td>REAL</td>\n",
              "            <td>4</td>\n",
              "        </tr>\n",
              "        <tr>\n",
              "            <td>ISAT_Value_Add_Math</td>\n",
              "            <td>REAL</td>\n",
              "            <td>4</td>\n",
              "        </tr>\n",
              "        <tr>\n",
              "            <td>ISAT_Value_Add_Read</td>\n",
              "            <td>REAL</td>\n",
              "            <td>4</td>\n",
              "        </tr>\n",
              "        <tr>\n",
              "            <td>ISAT_Value_Add_Color_Math</td>\n",
              "            <td>TEXT</td>\n",
              "            <td>4</td>\n",
              "        </tr>\n",
              "        <tr>\n",
              "            <td>ISAT_Value_Add_Color_Read</td>\n",
              "            <td>TEXT</td>\n",
              "            <td>4</td>\n",
              "        </tr>\n",
              "        <tr>\n",
              "            <td>Students_Taking__Algebra__</td>\n",
              "            <td>TEXT</td>\n",
              "            <td>4</td>\n",
              "        </tr>\n",
              "        <tr>\n",
              "            <td>Students_Passing__Algebra__</td>\n",
              "            <td>TEXT</td>\n",
              "            <td>4</td>\n",
              "        </tr>\n",
              "        <tr>\n",
              "            <td>9th Grade EXPLORE (2009)</td>\n",
              "            <td>TEXT</td>\n",
              "            <td>4</td>\n",
              "        </tr>\n",
              "        <tr>\n",
              "            <td>9th Grade EXPLORE (2010)</td>\n",
              "            <td>TEXT</td>\n",
              "            <td>4</td>\n",
              "        </tr>\n",
              "        <tr>\n",
              "            <td>10th Grade PLAN (2009)</td>\n",
              "            <td>TEXT</td>\n",
              "            <td>4</td>\n",
              "        </tr>\n",
              "        <tr>\n",
              "            <td>10th Grade PLAN (2010)</td>\n",
              "            <td>TEXT</td>\n",
              "            <td>4</td>\n",
              "        </tr>\n",
              "        <tr>\n",
              "            <td>Net_Change_EXPLORE_and_PLAN</td>\n",
              "            <td>TEXT</td>\n",
              "            <td>4</td>\n",
              "        </tr>\n",
              "        <tr>\n",
              "            <td>11th Grade Average ACT (2011)</td>\n",
              "            <td>TEXT</td>\n",
              "            <td>4</td>\n",
              "        </tr>\n",
              "        <tr>\n",
              "            <td>Net_Change_PLAN_and_ACT</td>\n",
              "            <td>TEXT</td>\n",
              "            <td>4</td>\n",
              "        </tr>\n",
              "        <tr>\n",
              "            <td>College_Eligibility__</td>\n",
              "            <td>TEXT</td>\n",
              "            <td>4</td>\n",
              "        </tr>\n",
              "        <tr>\n",
              "            <td>Graduation_Rate__</td>\n",
              "            <td>TEXT</td>\n",
              "            <td>4</td>\n",
              "        </tr>\n",
              "        <tr>\n",
              "            <td>College_Enrollment_Rate__</td>\n",
              "            <td>TEXT</td>\n",
              "            <td>4</td>\n",
              "        </tr>\n",
              "        <tr>\n",
              "            <td>COLLEGE_ENROLLMENT</td>\n",
              "            <td>INTEGER</td>\n",
              "            <td>7</td>\n",
              "        </tr>\n",
              "        <tr>\n",
              "            <td>General_Services_Route</td>\n",
              "            <td>INTEGER</td>\n",
              "            <td>7</td>\n",
              "        </tr>\n",
              "        <tr>\n",
              "            <td>Freshman_on_Track_Rate__</td>\n",
              "            <td>TEXT</td>\n",
              "            <td>4</td>\n",
              "        </tr>\n",
              "        <tr>\n",
              "            <td>X_COORDINATE</td>\n",
              "            <td>REAL</td>\n",
              "            <td>4</td>\n",
              "        </tr>\n",
              "        <tr>\n",
              "            <td>Y_COORDINATE</td>\n",
              "            <td>REAL</td>\n",
              "            <td>4</td>\n",
              "        </tr>\n",
              "        <tr>\n",
              "            <td>Latitude</td>\n",
              "            <td>REAL</td>\n",
              "            <td>4</td>\n",
              "        </tr>\n",
              "        <tr>\n",
              "            <td>Longitude</td>\n",
              "            <td>REAL</td>\n",
              "            <td>4</td>\n",
              "        </tr>\n",
              "        <tr>\n",
              "            <td>COMMUNITY_AREA_NUMBER</td>\n",
              "            <td>INTEGER</td>\n",
              "            <td>7</td>\n",
              "        </tr>\n",
              "        <tr>\n",
              "            <td>COMMUNITY_AREA_NAME</td>\n",
              "            <td>TEXT</td>\n",
              "            <td>4</td>\n",
              "        </tr>\n",
              "        <tr>\n",
              "            <td>Ward</td>\n",
              "            <td>INTEGER</td>\n",
              "            <td>7</td>\n",
              "        </tr>\n",
              "        <tr>\n",
              "            <td>Police_District</td>\n",
              "            <td>INTEGER</td>\n",
              "            <td>7</td>\n",
              "        </tr>\n",
              "        <tr>\n",
              "            <td>Location</td>\n",
              "            <td>TEXT</td>\n",
              "            <td>4</td>\n",
              "        </tr>\n",
              "    </tbody>\n",
              "</table>"
            ]
          },
          "metadata": {},
          "execution_count": 12
        }
      ]
    },
    {
      "cell_type": "code",
      "source": [
        "# Problem 1: How many Elementary Schools are in the dataset?\n",
        "%sql select count(*) from CHICAGO_PUBLIC_SCHOOLS_DATA where \"Elementary, Middle, or High School\"='ES'"
      ],
      "metadata": {
        "colab": {
          "base_uri": "https://localhost:8080/",
          "height": 96
        },
        "id": "t6KMDSk79geC",
        "outputId": "6d9b8b23-cace-4f73-a02f-c3118738dce7"
      },
      "execution_count": 13,
      "outputs": [
        {
          "output_type": "stream",
          "name": "stdout",
          "text": [
            " * sqlite:///RealWorldData.db\n",
            "Done.\n"
          ]
        },
        {
          "output_type": "execute_result",
          "data": {
            "text/plain": [
              "[(462,)]"
            ],
            "text/html": [
              "<table>\n",
              "    <thead>\n",
              "        <tr>\n",
              "            <th>count(*)</th>\n",
              "        </tr>\n",
              "    </thead>\n",
              "    <tbody>\n",
              "        <tr>\n",
              "            <td>462</td>\n",
              "        </tr>\n",
              "    </tbody>\n",
              "</table>"
            ]
          },
          "metadata": {},
          "execution_count": 13
        }
      ]
    },
    {
      "cell_type": "code",
      "source": [
        "# Problem 2: What is the highest Safety Score?\n",
        "%sql select MAX(Safety_Score) AS MAX_SAFETY_SCORE from CHICAGO_PUBLIC_SCHOOLS_DATA"
      ],
      "metadata": {
        "colab": {
          "base_uri": "https://localhost:8080/",
          "height": 96
        },
        "id": "vcoaY_Jx9pXI",
        "outputId": "8049ddb6-4b0d-4476-ca75-b7f119e339c0"
      },
      "execution_count": 14,
      "outputs": [
        {
          "output_type": "stream",
          "name": "stdout",
          "text": [
            " * sqlite:///RealWorldData.db\n",
            "Done.\n"
          ]
        },
        {
          "output_type": "execute_result",
          "data": {
            "text/plain": [
              "[(99.0,)]"
            ],
            "text/html": [
              "<table>\n",
              "    <thead>\n",
              "        <tr>\n",
              "            <th>MAX_SAFETY_SCORE</th>\n",
              "        </tr>\n",
              "    </thead>\n",
              "    <tbody>\n",
              "        <tr>\n",
              "            <td>99.0</td>\n",
              "        </tr>\n",
              "    </tbody>\n",
              "</table>"
            ]
          },
          "metadata": {},
          "execution_count": 14
        }
      ]
    },
    {
      "cell_type": "code",
      "source": [
        "# Problem 3: Which schools have highest Safety Score?\n",
        "\n",
        "# In the previous problem we found out that the highest Safety Score is 99, so we can use that as an input in the where clause:\n",
        "\n",
        "%sql select Name_of_School, Safety_Score from CHICAGO_PUBLIC_SCHOOLS_DATA where Safety_Score = 99\n",
        "\n"
      ],
      "metadata": {
        "colab": {
          "base_uri": "https://localhost:8080/",
          "height": 478
        },
        "id": "IoOgBfNs90Fq",
        "outputId": "cec13225-497c-4f4d-9354-716a8ea2e6b1"
      },
      "execution_count": 15,
      "outputs": [
        {
          "output_type": "stream",
          "name": "stdout",
          "text": [
            " * sqlite:///RealWorldData.db\n",
            "Done.\n"
          ]
        },
        {
          "output_type": "execute_result",
          "data": {
            "text/plain": [
              "[('Abraham Lincoln Elementary School', 99.0),\n",
              " ('Alexander Graham Bell Elementary School', 99.0),\n",
              " ('Annie Keller Elementary Gifted Magnet School', 99.0),\n",
              " ('Augustus H Burley Elementary School', 99.0),\n",
              " ('Edgar Allan Poe Elementary Classical School', 99.0),\n",
              " ('Edgebrook Elementary School', 99.0),\n",
              " ('Ellen Mitchell Elementary School', 99.0),\n",
              " ('James E McDade Elementary Classical School', 99.0),\n",
              " ('James G Blaine Elementary School', 99.0),\n",
              " ('LaSalle Elementary Language Academy', 99.0),\n",
              " ('Mary E Courtenay Elementary Language Arts Center', 99.0),\n",
              " ('Northside College Preparatory High School', 99.0),\n",
              " ('Northside Learning Center High School', 99.0),\n",
              " ('Norwood Park Elementary School', 99.0),\n",
              " ('Oriole Park Elementary School', 99.0),\n",
              " ('Sauganash Elementary School', 99.0),\n",
              " ('Stephen Decatur Classical Elementary School', 99.0),\n",
              " ('Talman Elementary School', 99.0),\n",
              " ('Wildwood Elementary School', 99.0)]"
            ],
            "text/html": [
              "<table>\n",
              "    <thead>\n",
              "        <tr>\n",
              "            <th>NAME_OF_SCHOOL</th>\n",
              "            <th>SAFETY_SCORE</th>\n",
              "        </tr>\n",
              "    </thead>\n",
              "    <tbody>\n",
              "        <tr>\n",
              "            <td>Abraham Lincoln Elementary School</td>\n",
              "            <td>99.0</td>\n",
              "        </tr>\n",
              "        <tr>\n",
              "            <td>Alexander Graham Bell Elementary School</td>\n",
              "            <td>99.0</td>\n",
              "        </tr>\n",
              "        <tr>\n",
              "            <td>Annie Keller Elementary Gifted Magnet School</td>\n",
              "            <td>99.0</td>\n",
              "        </tr>\n",
              "        <tr>\n",
              "            <td>Augustus H Burley Elementary School</td>\n",
              "            <td>99.0</td>\n",
              "        </tr>\n",
              "        <tr>\n",
              "            <td>Edgar Allan Poe Elementary Classical School</td>\n",
              "            <td>99.0</td>\n",
              "        </tr>\n",
              "        <tr>\n",
              "            <td>Edgebrook Elementary School</td>\n",
              "            <td>99.0</td>\n",
              "        </tr>\n",
              "        <tr>\n",
              "            <td>Ellen Mitchell Elementary School</td>\n",
              "            <td>99.0</td>\n",
              "        </tr>\n",
              "        <tr>\n",
              "            <td>James E McDade Elementary Classical School</td>\n",
              "            <td>99.0</td>\n",
              "        </tr>\n",
              "        <tr>\n",
              "            <td>James G Blaine Elementary School</td>\n",
              "            <td>99.0</td>\n",
              "        </tr>\n",
              "        <tr>\n",
              "            <td>LaSalle Elementary Language Academy</td>\n",
              "            <td>99.0</td>\n",
              "        </tr>\n",
              "        <tr>\n",
              "            <td>Mary E Courtenay Elementary Language Arts Center</td>\n",
              "            <td>99.0</td>\n",
              "        </tr>\n",
              "        <tr>\n",
              "            <td>Northside College Preparatory High School</td>\n",
              "            <td>99.0</td>\n",
              "        </tr>\n",
              "        <tr>\n",
              "            <td>Northside Learning Center High School</td>\n",
              "            <td>99.0</td>\n",
              "        </tr>\n",
              "        <tr>\n",
              "            <td>Norwood Park Elementary School</td>\n",
              "            <td>99.0</td>\n",
              "        </tr>\n",
              "        <tr>\n",
              "            <td>Oriole Park Elementary School</td>\n",
              "            <td>99.0</td>\n",
              "        </tr>\n",
              "        <tr>\n",
              "            <td>Sauganash Elementary School</td>\n",
              "            <td>99.0</td>\n",
              "        </tr>\n",
              "        <tr>\n",
              "            <td>Stephen Decatur Classical Elementary School</td>\n",
              "            <td>99.0</td>\n",
              "        </tr>\n",
              "        <tr>\n",
              "            <td>Talman Elementary School</td>\n",
              "            <td>99.0</td>\n",
              "        </tr>\n",
              "        <tr>\n",
              "            <td>Wildwood Elementary School</td>\n",
              "            <td>99.0</td>\n",
              "        </tr>\n",
              "    </tbody>\n",
              "</table>"
            ]
          },
          "metadata": {},
          "execution_count": 15
        }
      ]
    },
    {
      "cell_type": "code",
      "source": [
        "# or a better way:\n",
        "\n",
        "%sql select Name_of_School, Safety_Score from CHICAGO_PUBLIC_SCHOOLS_DATA where \\\n",
        "  Safety_Score= (select MAX(Safety_Score) from CHICAGO_PUBLIC_SCHOOLS_DATA)"
      ],
      "metadata": {
        "colab": {
          "base_uri": "https://localhost:8080/",
          "height": 478
        },
        "id": "1BjbiUjq-Y1D",
        "outputId": "b9c70589-d23f-4483-ba06-4c9dcc6a318f"
      },
      "execution_count": 16,
      "outputs": [
        {
          "output_type": "stream",
          "name": "stdout",
          "text": [
            " * sqlite:///RealWorldData.db\n",
            "Done.\n"
          ]
        },
        {
          "output_type": "execute_result",
          "data": {
            "text/plain": [
              "[('Abraham Lincoln Elementary School', 99.0),\n",
              " ('Alexander Graham Bell Elementary School', 99.0),\n",
              " ('Annie Keller Elementary Gifted Magnet School', 99.0),\n",
              " ('Augustus H Burley Elementary School', 99.0),\n",
              " ('Edgar Allan Poe Elementary Classical School', 99.0),\n",
              " ('Edgebrook Elementary School', 99.0),\n",
              " ('Ellen Mitchell Elementary School', 99.0),\n",
              " ('James E McDade Elementary Classical School', 99.0),\n",
              " ('James G Blaine Elementary School', 99.0),\n",
              " ('LaSalle Elementary Language Academy', 99.0),\n",
              " ('Mary E Courtenay Elementary Language Arts Center', 99.0),\n",
              " ('Northside College Preparatory High School', 99.0),\n",
              " ('Northside Learning Center High School', 99.0),\n",
              " ('Norwood Park Elementary School', 99.0),\n",
              " ('Oriole Park Elementary School', 99.0),\n",
              " ('Sauganash Elementary School', 99.0),\n",
              " ('Stephen Decatur Classical Elementary School', 99.0),\n",
              " ('Talman Elementary School', 99.0),\n",
              " ('Wildwood Elementary School', 99.0)]"
            ],
            "text/html": [
              "<table>\n",
              "    <thead>\n",
              "        <tr>\n",
              "            <th>NAME_OF_SCHOOL</th>\n",
              "            <th>SAFETY_SCORE</th>\n",
              "        </tr>\n",
              "    </thead>\n",
              "    <tbody>\n",
              "        <tr>\n",
              "            <td>Abraham Lincoln Elementary School</td>\n",
              "            <td>99.0</td>\n",
              "        </tr>\n",
              "        <tr>\n",
              "            <td>Alexander Graham Bell Elementary School</td>\n",
              "            <td>99.0</td>\n",
              "        </tr>\n",
              "        <tr>\n",
              "            <td>Annie Keller Elementary Gifted Magnet School</td>\n",
              "            <td>99.0</td>\n",
              "        </tr>\n",
              "        <tr>\n",
              "            <td>Augustus H Burley Elementary School</td>\n",
              "            <td>99.0</td>\n",
              "        </tr>\n",
              "        <tr>\n",
              "            <td>Edgar Allan Poe Elementary Classical School</td>\n",
              "            <td>99.0</td>\n",
              "        </tr>\n",
              "        <tr>\n",
              "            <td>Edgebrook Elementary School</td>\n",
              "            <td>99.0</td>\n",
              "        </tr>\n",
              "        <tr>\n",
              "            <td>Ellen Mitchell Elementary School</td>\n",
              "            <td>99.0</td>\n",
              "        </tr>\n",
              "        <tr>\n",
              "            <td>James E McDade Elementary Classical School</td>\n",
              "            <td>99.0</td>\n",
              "        </tr>\n",
              "        <tr>\n",
              "            <td>James G Blaine Elementary School</td>\n",
              "            <td>99.0</td>\n",
              "        </tr>\n",
              "        <tr>\n",
              "            <td>LaSalle Elementary Language Academy</td>\n",
              "            <td>99.0</td>\n",
              "        </tr>\n",
              "        <tr>\n",
              "            <td>Mary E Courtenay Elementary Language Arts Center</td>\n",
              "            <td>99.0</td>\n",
              "        </tr>\n",
              "        <tr>\n",
              "            <td>Northside College Preparatory High School</td>\n",
              "            <td>99.0</td>\n",
              "        </tr>\n",
              "        <tr>\n",
              "            <td>Northside Learning Center High School</td>\n",
              "            <td>99.0</td>\n",
              "        </tr>\n",
              "        <tr>\n",
              "            <td>Norwood Park Elementary School</td>\n",
              "            <td>99.0</td>\n",
              "        </tr>\n",
              "        <tr>\n",
              "            <td>Oriole Park Elementary School</td>\n",
              "            <td>99.0</td>\n",
              "        </tr>\n",
              "        <tr>\n",
              "            <td>Sauganash Elementary School</td>\n",
              "            <td>99.0</td>\n",
              "        </tr>\n",
              "        <tr>\n",
              "            <td>Stephen Decatur Classical Elementary School</td>\n",
              "            <td>99.0</td>\n",
              "        </tr>\n",
              "        <tr>\n",
              "            <td>Talman Elementary School</td>\n",
              "            <td>99.0</td>\n",
              "        </tr>\n",
              "        <tr>\n",
              "            <td>Wildwood Elementary School</td>\n",
              "            <td>99.0</td>\n",
              "        </tr>\n",
              "    </tbody>\n",
              "</table>"
            ]
          },
          "metadata": {},
          "execution_count": 16
        }
      ]
    },
    {
      "cell_type": "code",
      "source": [
        "# Problem 4: What are the top 10 schools with the highest \"Average Student Attendance\"?\n",
        "\n",
        "%sql select Name_of_School, Average_Student_Attendance from CHICAGO_PUBLIC_SCHOOLS_DATA \\\n",
        "    order by Average_Student_Attendance desc nulls last limit 10"
      ],
      "metadata": {
        "colab": {
          "base_uri": "https://localhost:8080/",
          "height": 287
        },
        "id": "qByJO6Sx-CGw",
        "outputId": "3a01e663-2ff4-478f-9170-350164c95def"
      },
      "execution_count": 17,
      "outputs": [
        {
          "output_type": "stream",
          "name": "stdout",
          "text": [
            " * sqlite:///RealWorldData.db\n",
            "Done.\n"
          ]
        },
        {
          "output_type": "execute_result",
          "data": {
            "text/plain": [
              "[('John Charles Haines Elementary School', '98.40%'),\n",
              " ('James Ward Elementary School', '97.80%'),\n",
              " ('Edgar Allan Poe Elementary Classical School', '97.60%'),\n",
              " ('Orozco Fine Arts & Sciences Elementary School', '97.60%'),\n",
              " ('Rachel Carson Elementary School', '97.60%'),\n",
              " ('Annie Keller Elementary Gifted Magnet School', '97.50%'),\n",
              " ('Andrew Jackson Elementary Language Academy', '97.40%'),\n",
              " ('Lenart Elementary Regional Gifted Center', '97.40%'),\n",
              " ('Disney II Magnet School', '97.30%'),\n",
              " ('John H Vanderpoel Elementary Magnet School', '97.20%')]"
            ],
            "text/html": [
              "<table>\n",
              "    <thead>\n",
              "        <tr>\n",
              "            <th>NAME_OF_SCHOOL</th>\n",
              "            <th>AVERAGE_STUDENT_ATTENDANCE</th>\n",
              "        </tr>\n",
              "    </thead>\n",
              "    <tbody>\n",
              "        <tr>\n",
              "            <td>John Charles Haines Elementary School</td>\n",
              "            <td>98.40%</td>\n",
              "        </tr>\n",
              "        <tr>\n",
              "            <td>James Ward Elementary School</td>\n",
              "            <td>97.80%</td>\n",
              "        </tr>\n",
              "        <tr>\n",
              "            <td>Edgar Allan Poe Elementary Classical School</td>\n",
              "            <td>97.60%</td>\n",
              "        </tr>\n",
              "        <tr>\n",
              "            <td>Orozco Fine Arts &amp; Sciences Elementary School</td>\n",
              "            <td>97.60%</td>\n",
              "        </tr>\n",
              "        <tr>\n",
              "            <td>Rachel Carson Elementary School</td>\n",
              "            <td>97.60%</td>\n",
              "        </tr>\n",
              "        <tr>\n",
              "            <td>Annie Keller Elementary Gifted Magnet School</td>\n",
              "            <td>97.50%</td>\n",
              "        </tr>\n",
              "        <tr>\n",
              "            <td>Andrew Jackson Elementary Language Academy</td>\n",
              "            <td>97.40%</td>\n",
              "        </tr>\n",
              "        <tr>\n",
              "            <td>Lenart Elementary Regional Gifted Center</td>\n",
              "            <td>97.40%</td>\n",
              "        </tr>\n",
              "        <tr>\n",
              "            <td>Disney II Magnet School</td>\n",
              "            <td>97.30%</td>\n",
              "        </tr>\n",
              "        <tr>\n",
              "            <td>John H Vanderpoel Elementary Magnet School</td>\n",
              "            <td>97.20%</td>\n",
              "        </tr>\n",
              "    </tbody>\n",
              "</table>"
            ]
          },
          "metadata": {},
          "execution_count": 17
        }
      ]
    },
    {
      "cell_type": "code",
      "source": [
        "# Problem 5: Retrieve the list of 5 Schools with the lowest Average Student Attendance sorted in ascending order based on attendance\n",
        "\n",
        "%sql SELECT Name_of_School, Average_Student_Attendance  \\\n",
        "     from CHICAGO_PUBLIC_SCHOOLS_DATA \\\n",
        "     order by Average_Student_Attendance \\\n",
        "     LIMIT 5"
      ],
      "metadata": {
        "colab": {
          "base_uri": "https://localhost:8080/",
          "height": 181
        },
        "id": "FEqXVq59-kl1",
        "outputId": "418bf437-256d-40c2-fa9c-2e9c08a34add"
      },
      "execution_count": 18,
      "outputs": [
        {
          "output_type": "stream",
          "name": "stdout",
          "text": [
            " * sqlite:///RealWorldData.db\n",
            "Done.\n"
          ]
        },
        {
          "output_type": "execute_result",
          "data": {
            "text/plain": [
              "[('Velma F Thomas Early Childhood Center', None),\n",
              " ('Richard T Crane Technical Preparatory High School', '57.90%'),\n",
              " ('Barbara Vick Early Childhood & Family Center', '60.90%'),\n",
              " ('Dyett High School', '62.50%'),\n",
              " ('Wendell Phillips Academy High School', '63.00%')]"
            ],
            "text/html": [
              "<table>\n",
              "    <thead>\n",
              "        <tr>\n",
              "            <th>NAME_OF_SCHOOL</th>\n",
              "            <th>AVERAGE_STUDENT_ATTENDANCE</th>\n",
              "        </tr>\n",
              "    </thead>\n",
              "    <tbody>\n",
              "        <tr>\n",
              "            <td>Velma F Thomas Early Childhood Center</td>\n",
              "            <td>None</td>\n",
              "        </tr>\n",
              "        <tr>\n",
              "            <td>Richard T Crane Technical Preparatory High School</td>\n",
              "            <td>57.90%</td>\n",
              "        </tr>\n",
              "        <tr>\n",
              "            <td>Barbara Vick Early Childhood &amp; Family Center</td>\n",
              "            <td>60.90%</td>\n",
              "        </tr>\n",
              "        <tr>\n",
              "            <td>Dyett High School</td>\n",
              "            <td>62.50%</td>\n",
              "        </tr>\n",
              "        <tr>\n",
              "            <td>Wendell Phillips Academy High School</td>\n",
              "            <td>63.00%</td>\n",
              "        </tr>\n",
              "    </tbody>\n",
              "</table>"
            ]
          },
          "metadata": {},
          "execution_count": 18
        }
      ]
    },
    {
      "cell_type": "code",
      "source": [
        "# Problem 6: Now remove the '%' sign from the above result set for Average Student Attendance column\n",
        "%sql SELECT Name_of_School, REPLACE(Average_Student_Attendance, '%', '') \\\n",
        "     from CHICAGO_PUBLIC_SCHOOLS_DATA \\\n",
        "     order by Average_Student_Attendance \\\n",
        "     LIMIT 5\n"
      ],
      "metadata": {
        "colab": {
          "base_uri": "https://localhost:8080/",
          "height": 181
        },
        "id": "D8bxnxw0-yNw",
        "outputId": "ca6122ab-caca-456a-ec81-dd3026f0bda2"
      },
      "execution_count": 19,
      "outputs": [
        {
          "output_type": "stream",
          "name": "stdout",
          "text": [
            " * sqlite:///RealWorldData.db\n",
            "Done.\n"
          ]
        },
        {
          "output_type": "execute_result",
          "data": {
            "text/plain": [
              "[('Velma F Thomas Early Childhood Center', None),\n",
              " ('Richard T Crane Technical Preparatory High School', '57.90'),\n",
              " ('Barbara Vick Early Childhood & Family Center', '60.90'),\n",
              " ('Dyett High School', '62.50'),\n",
              " ('Wendell Phillips Academy High School', '63.00')]"
            ],
            "text/html": [
              "<table>\n",
              "    <thead>\n",
              "        <tr>\n",
              "            <th>NAME_OF_SCHOOL</th>\n",
              "            <th>REPLACE(Average_Student_Attendance, &#x27;%&#x27; , &#x27;&#x27; )</th>\n",
              "        </tr>\n",
              "    </thead>\n",
              "    <tbody>\n",
              "        <tr>\n",
              "            <td>Velma F Thomas Early Childhood Center</td>\n",
              "            <td>None</td>\n",
              "        </tr>\n",
              "        <tr>\n",
              "            <td>Richard T Crane Technical Preparatory High School</td>\n",
              "            <td>57.90</td>\n",
              "        </tr>\n",
              "        <tr>\n",
              "            <td>Barbara Vick Early Childhood &amp; Family Center</td>\n",
              "            <td>60.90</td>\n",
              "        </tr>\n",
              "        <tr>\n",
              "            <td>Dyett High School</td>\n",
              "            <td>62.50</td>\n",
              "        </tr>\n",
              "        <tr>\n",
              "            <td>Wendell Phillips Academy High School</td>\n",
              "            <td>63.00</td>\n",
              "        </tr>\n",
              "    </tbody>\n",
              "</table>"
            ]
          },
          "metadata": {},
          "execution_count": 19
        }
      ]
    },
    {
      "cell_type": "code",
      "source": [
        "# Problem 7: Which Schools have Average Student Attendance lower than 70%?\n",
        "%sql SELECT Name_of_School, Average_Student_Attendance  \\\n",
        "     from CHICAGO_PUBLIC_SCHOOLS_DATA \\\n",
        "     where CAST ( REPLACE(Average_Student_Attendance, '%', '') AS DOUBLE ) < 70 \\\n",
        "     order by Average_Student_Attendance\n",
        ""
      ],
      "metadata": {
        "colab": {
          "base_uri": "https://localhost:8080/",
          "height": 245
        },
        "id": "8Fvmaoy5_Ws5",
        "outputId": "956ab3a5-5a2b-424b-bb6b-ef4b0a8c26e1"
      },
      "execution_count": 20,
      "outputs": [
        {
          "output_type": "stream",
          "name": "stdout",
          "text": [
            " * sqlite:///RealWorldData.db\n",
            "Done.\n"
          ]
        },
        {
          "output_type": "execute_result",
          "data": {
            "text/plain": [
              "[('Richard T Crane Technical Preparatory High School', '57.90%'),\n",
              " ('Barbara Vick Early Childhood & Family Center', '60.90%'),\n",
              " ('Dyett High School', '62.50%'),\n",
              " ('Wendell Phillips Academy High School', '63.00%'),\n",
              " ('Orr Academy High School', '66.30%'),\n",
              " ('Manley Career Academy High School', '66.80%'),\n",
              " ('Chicago Vocational Career Academy High School', '68.80%'),\n",
              " ('Roberto Clemente Community Academy High School', '69.60%')]"
            ],
            "text/html": [
              "<table>\n",
              "    <thead>\n",
              "        <tr>\n",
              "            <th>NAME_OF_SCHOOL</th>\n",
              "            <th>AVERAGE_STUDENT_ATTENDANCE</th>\n",
              "        </tr>\n",
              "    </thead>\n",
              "    <tbody>\n",
              "        <tr>\n",
              "            <td>Richard T Crane Technical Preparatory High School</td>\n",
              "            <td>57.90%</td>\n",
              "        </tr>\n",
              "        <tr>\n",
              "            <td>Barbara Vick Early Childhood &amp; Family Center</td>\n",
              "            <td>60.90%</td>\n",
              "        </tr>\n",
              "        <tr>\n",
              "            <td>Dyett High School</td>\n",
              "            <td>62.50%</td>\n",
              "        </tr>\n",
              "        <tr>\n",
              "            <td>Wendell Phillips Academy High School</td>\n",
              "            <td>63.00%</td>\n",
              "        </tr>\n",
              "        <tr>\n",
              "            <td>Orr Academy High School</td>\n",
              "            <td>66.30%</td>\n",
              "        </tr>\n",
              "        <tr>\n",
              "            <td>Manley Career Academy High School</td>\n",
              "            <td>66.80%</td>\n",
              "        </tr>\n",
              "        <tr>\n",
              "            <td>Chicago Vocational Career Academy High School</td>\n",
              "            <td>68.80%</td>\n",
              "        </tr>\n",
              "        <tr>\n",
              "            <td>Roberto Clemente Community Academy High School</td>\n",
              "            <td>69.60%</td>\n",
              "        </tr>\n",
              "    </tbody>\n",
              "</table>"
            ]
          },
          "metadata": {},
          "execution_count": 20
        }
      ]
    },
    {
      "cell_type": "code",
      "source": [
        "# Problem 8: Get the total College Enrollment for each Community Area\n",
        "%sql select Community_Area_Name, sum(College_Enrollment) AS TOTAL_ENROLLMENT \\\n",
        "   from CHICAGO_PUBLIC_SCHOOLS_DATA \\\n",
        "   group by Community_Area_Name\n"
      ],
      "metadata": {
        "colab": {
          "base_uri": "https://localhost:8080/",
          "height": 1000
        },
        "id": "oqy0Q9CO_is9",
        "outputId": "31d2067c-e279-415c-a121-321b95f83761"
      },
      "execution_count": 21,
      "outputs": [
        {
          "output_type": "stream",
          "name": "stdout",
          "text": [
            " * sqlite:///RealWorldData.db\n",
            "Done.\n"
          ]
        },
        {
          "output_type": "execute_result",
          "data": {
            "text/plain": [
              "[('ALBANY PARK', 6864),\n",
              " ('ARCHER HEIGHTS', 4823),\n",
              " ('ARMOUR SQUARE', 1458),\n",
              " ('ASHBURN', 6483),\n",
              " ('AUBURN GRESHAM', 4175),\n",
              " ('AUSTIN', 10933),\n",
              " ('AVALON PARK', 1522),\n",
              " ('AVONDALE', 3640),\n",
              " ('BELMONT CRAGIN', 14386),\n",
              " ('BEVERLY', 1636),\n",
              " ('BRIDGEPORT', 3167),\n",
              " ('BRIGHTON PARK', 9647),\n",
              " ('BURNSIDE', 549),\n",
              " ('CALUMET HEIGHTS', 1568),\n",
              " ('CHATHAM', 5042),\n",
              " ('CHICAGO LAWN', 7086),\n",
              " ('CLEARING', 2085),\n",
              " ('DOUGLAS', 4670),\n",
              " ('DUNNING', 4568),\n",
              " ('EAST GARFIELD PARK', 5337),\n",
              " ('EAST SIDE', 5305),\n",
              " ('EDGEWATER', 4600),\n",
              " ('EDISON PARK', 910),\n",
              " ('ENGLEWOOD', 6832),\n",
              " ('FOREST GLEN', 1431),\n",
              " ('FULLER PARK', 531),\n",
              " ('GAGE PARK', 9915),\n",
              " ('GARFIELD RIDGE', 4552),\n",
              " ('GRAND BOULEVARD', 2809),\n",
              " ('GREATER GRAND CROSSING', 4051),\n",
              " ('HEGEWISCH', 963),\n",
              " ('HERMOSA', 3975),\n",
              " ('HUMBOLDT PARK', 8620),\n",
              " ('HYDE PARK', 1930),\n",
              " ('IRVING PARK', 7764),\n",
              " ('JEFFERSON PARK', 1755),\n",
              " ('KENWOOD', 4287),\n",
              " ('LAKE VIEW', 7055),\n",
              " ('LINCOLN PARK', 5615),\n",
              " ('LINCOLN SQUARE', 4132),\n",
              " ('LOGAN SQUARE', 7351),\n",
              " ('LOOP', 871),\n",
              " ('LOWER WEST SIDE', 7257),\n",
              " ('MCKINLEY PARK', 1552),\n",
              " ('MONTCLARE', 1317),\n",
              " ('MORGAN PARK', 3271),\n",
              " ('MOUNT GREENWOOD', 2091),\n",
              " ('NEAR NORTH SIDE', 3362),\n",
              " ('NEAR SOUTH SIDE', 1378),\n",
              " ('NEAR WEST SIDE', 7975),\n",
              " ('NEW CITY', 7922),\n",
              " ('NORTH CENTER', 7541),\n",
              " ('NORTH LAWNDALE', 5146),\n",
              " ('NORTH PARK', 4210),\n",
              " ('NORWOOD PARK', 6469),\n",
              " ('OAKLAND', 140),\n",
              " ('OHARE', 786),\n",
              " ('PORTAGE PARK', 6954),\n",
              " ('PULLMAN', 1620),\n",
              " ('RIVERDALE', 1547),\n",
              " ('ROGERS PARK', 4068),\n",
              " ('ROSELAND', 7020),\n",
              " ('SOUTH CHICAGO', 4043),\n",
              " ('SOUTH DEERING', 1859),\n",
              " ('SOUTH LAWNDALE', 14793),\n",
              " ('SOUTH SHORE', 4543),\n",
              " ('UPTOWN', 4388),\n",
              " ('WASHINGTON HEIGHTS', 4006),\n",
              " ('WASHINGTON PARK', 2648),\n",
              " ('WEST ELSDON', 3700),\n",
              " ('WEST ENGLEWOOD', 5946),\n",
              " ('WEST GARFIELD PARK', 2622),\n",
              " ('WEST LAWN', 4207),\n",
              " ('WEST PULLMAN', 3240),\n",
              " ('WEST RIDGE', 8197),\n",
              " ('WEST TOWN', 9429),\n",
              " ('WOODLAWN', 4206)]"
            ],
            "text/html": [
              "<table>\n",
              "    <thead>\n",
              "        <tr>\n",
              "            <th>COMMUNITY_AREA_NAME</th>\n",
              "            <th>TOTAL_ENROLLMENT</th>\n",
              "        </tr>\n",
              "    </thead>\n",
              "    <tbody>\n",
              "        <tr>\n",
              "            <td>ALBANY PARK</td>\n",
              "            <td>6864</td>\n",
              "        </tr>\n",
              "        <tr>\n",
              "            <td>ARCHER HEIGHTS</td>\n",
              "            <td>4823</td>\n",
              "        </tr>\n",
              "        <tr>\n",
              "            <td>ARMOUR SQUARE</td>\n",
              "            <td>1458</td>\n",
              "        </tr>\n",
              "        <tr>\n",
              "            <td>ASHBURN</td>\n",
              "            <td>6483</td>\n",
              "        </tr>\n",
              "        <tr>\n",
              "            <td>AUBURN GRESHAM</td>\n",
              "            <td>4175</td>\n",
              "        </tr>\n",
              "        <tr>\n",
              "            <td>AUSTIN</td>\n",
              "            <td>10933</td>\n",
              "        </tr>\n",
              "        <tr>\n",
              "            <td>AVALON PARK</td>\n",
              "            <td>1522</td>\n",
              "        </tr>\n",
              "        <tr>\n",
              "            <td>AVONDALE</td>\n",
              "            <td>3640</td>\n",
              "        </tr>\n",
              "        <tr>\n",
              "            <td>BELMONT CRAGIN</td>\n",
              "            <td>14386</td>\n",
              "        </tr>\n",
              "        <tr>\n",
              "            <td>BEVERLY</td>\n",
              "            <td>1636</td>\n",
              "        </tr>\n",
              "        <tr>\n",
              "            <td>BRIDGEPORT</td>\n",
              "            <td>3167</td>\n",
              "        </tr>\n",
              "        <tr>\n",
              "            <td>BRIGHTON PARK</td>\n",
              "            <td>9647</td>\n",
              "        </tr>\n",
              "        <tr>\n",
              "            <td>BURNSIDE</td>\n",
              "            <td>549</td>\n",
              "        </tr>\n",
              "        <tr>\n",
              "            <td>CALUMET HEIGHTS</td>\n",
              "            <td>1568</td>\n",
              "        </tr>\n",
              "        <tr>\n",
              "            <td>CHATHAM</td>\n",
              "            <td>5042</td>\n",
              "        </tr>\n",
              "        <tr>\n",
              "            <td>CHICAGO LAWN</td>\n",
              "            <td>7086</td>\n",
              "        </tr>\n",
              "        <tr>\n",
              "            <td>CLEARING</td>\n",
              "            <td>2085</td>\n",
              "        </tr>\n",
              "        <tr>\n",
              "            <td>DOUGLAS</td>\n",
              "            <td>4670</td>\n",
              "        </tr>\n",
              "        <tr>\n",
              "            <td>DUNNING</td>\n",
              "            <td>4568</td>\n",
              "        </tr>\n",
              "        <tr>\n",
              "            <td>EAST GARFIELD PARK</td>\n",
              "            <td>5337</td>\n",
              "        </tr>\n",
              "        <tr>\n",
              "            <td>EAST SIDE</td>\n",
              "            <td>5305</td>\n",
              "        </tr>\n",
              "        <tr>\n",
              "            <td>EDGEWATER</td>\n",
              "            <td>4600</td>\n",
              "        </tr>\n",
              "        <tr>\n",
              "            <td>EDISON PARK</td>\n",
              "            <td>910</td>\n",
              "        </tr>\n",
              "        <tr>\n",
              "            <td>ENGLEWOOD</td>\n",
              "            <td>6832</td>\n",
              "        </tr>\n",
              "        <tr>\n",
              "            <td>FOREST GLEN</td>\n",
              "            <td>1431</td>\n",
              "        </tr>\n",
              "        <tr>\n",
              "            <td>FULLER PARK</td>\n",
              "            <td>531</td>\n",
              "        </tr>\n",
              "        <tr>\n",
              "            <td>GAGE PARK</td>\n",
              "            <td>9915</td>\n",
              "        </tr>\n",
              "        <tr>\n",
              "            <td>GARFIELD RIDGE</td>\n",
              "            <td>4552</td>\n",
              "        </tr>\n",
              "        <tr>\n",
              "            <td>GRAND BOULEVARD</td>\n",
              "            <td>2809</td>\n",
              "        </tr>\n",
              "        <tr>\n",
              "            <td>GREATER GRAND CROSSING</td>\n",
              "            <td>4051</td>\n",
              "        </tr>\n",
              "        <tr>\n",
              "            <td>HEGEWISCH</td>\n",
              "            <td>963</td>\n",
              "        </tr>\n",
              "        <tr>\n",
              "            <td>HERMOSA</td>\n",
              "            <td>3975</td>\n",
              "        </tr>\n",
              "        <tr>\n",
              "            <td>HUMBOLDT PARK</td>\n",
              "            <td>8620</td>\n",
              "        </tr>\n",
              "        <tr>\n",
              "            <td>HYDE PARK</td>\n",
              "            <td>1930</td>\n",
              "        </tr>\n",
              "        <tr>\n",
              "            <td>IRVING PARK</td>\n",
              "            <td>7764</td>\n",
              "        </tr>\n",
              "        <tr>\n",
              "            <td>JEFFERSON PARK</td>\n",
              "            <td>1755</td>\n",
              "        </tr>\n",
              "        <tr>\n",
              "            <td>KENWOOD</td>\n",
              "            <td>4287</td>\n",
              "        </tr>\n",
              "        <tr>\n",
              "            <td>LAKE VIEW</td>\n",
              "            <td>7055</td>\n",
              "        </tr>\n",
              "        <tr>\n",
              "            <td>LINCOLN PARK</td>\n",
              "            <td>5615</td>\n",
              "        </tr>\n",
              "        <tr>\n",
              "            <td>LINCOLN SQUARE</td>\n",
              "            <td>4132</td>\n",
              "        </tr>\n",
              "        <tr>\n",
              "            <td>LOGAN SQUARE</td>\n",
              "            <td>7351</td>\n",
              "        </tr>\n",
              "        <tr>\n",
              "            <td>LOOP</td>\n",
              "            <td>871</td>\n",
              "        </tr>\n",
              "        <tr>\n",
              "            <td>LOWER WEST SIDE</td>\n",
              "            <td>7257</td>\n",
              "        </tr>\n",
              "        <tr>\n",
              "            <td>MCKINLEY PARK</td>\n",
              "            <td>1552</td>\n",
              "        </tr>\n",
              "        <tr>\n",
              "            <td>MONTCLARE</td>\n",
              "            <td>1317</td>\n",
              "        </tr>\n",
              "        <tr>\n",
              "            <td>MORGAN PARK</td>\n",
              "            <td>3271</td>\n",
              "        </tr>\n",
              "        <tr>\n",
              "            <td>MOUNT GREENWOOD</td>\n",
              "            <td>2091</td>\n",
              "        </tr>\n",
              "        <tr>\n",
              "            <td>NEAR NORTH SIDE</td>\n",
              "            <td>3362</td>\n",
              "        </tr>\n",
              "        <tr>\n",
              "            <td>NEAR SOUTH SIDE</td>\n",
              "            <td>1378</td>\n",
              "        </tr>\n",
              "        <tr>\n",
              "            <td>NEAR WEST SIDE</td>\n",
              "            <td>7975</td>\n",
              "        </tr>\n",
              "        <tr>\n",
              "            <td>NEW CITY</td>\n",
              "            <td>7922</td>\n",
              "        </tr>\n",
              "        <tr>\n",
              "            <td>NORTH CENTER</td>\n",
              "            <td>7541</td>\n",
              "        </tr>\n",
              "        <tr>\n",
              "            <td>NORTH LAWNDALE</td>\n",
              "            <td>5146</td>\n",
              "        </tr>\n",
              "        <tr>\n",
              "            <td>NORTH PARK</td>\n",
              "            <td>4210</td>\n",
              "        </tr>\n",
              "        <tr>\n",
              "            <td>NORWOOD PARK</td>\n",
              "            <td>6469</td>\n",
              "        </tr>\n",
              "        <tr>\n",
              "            <td>OAKLAND</td>\n",
              "            <td>140</td>\n",
              "        </tr>\n",
              "        <tr>\n",
              "            <td>OHARE</td>\n",
              "            <td>786</td>\n",
              "        </tr>\n",
              "        <tr>\n",
              "            <td>PORTAGE PARK</td>\n",
              "            <td>6954</td>\n",
              "        </tr>\n",
              "        <tr>\n",
              "            <td>PULLMAN</td>\n",
              "            <td>1620</td>\n",
              "        </tr>\n",
              "        <tr>\n",
              "            <td>RIVERDALE</td>\n",
              "            <td>1547</td>\n",
              "        </tr>\n",
              "        <tr>\n",
              "            <td>ROGERS PARK</td>\n",
              "            <td>4068</td>\n",
              "        </tr>\n",
              "        <tr>\n",
              "            <td>ROSELAND</td>\n",
              "            <td>7020</td>\n",
              "        </tr>\n",
              "        <tr>\n",
              "            <td>SOUTH CHICAGO</td>\n",
              "            <td>4043</td>\n",
              "        </tr>\n",
              "        <tr>\n",
              "            <td>SOUTH DEERING</td>\n",
              "            <td>1859</td>\n",
              "        </tr>\n",
              "        <tr>\n",
              "            <td>SOUTH LAWNDALE</td>\n",
              "            <td>14793</td>\n",
              "        </tr>\n",
              "        <tr>\n",
              "            <td>SOUTH SHORE</td>\n",
              "            <td>4543</td>\n",
              "        </tr>\n",
              "        <tr>\n",
              "            <td>UPTOWN</td>\n",
              "            <td>4388</td>\n",
              "        </tr>\n",
              "        <tr>\n",
              "            <td>WASHINGTON HEIGHTS</td>\n",
              "            <td>4006</td>\n",
              "        </tr>\n",
              "        <tr>\n",
              "            <td>WASHINGTON PARK</td>\n",
              "            <td>2648</td>\n",
              "        </tr>\n",
              "        <tr>\n",
              "            <td>WEST ELSDON</td>\n",
              "            <td>3700</td>\n",
              "        </tr>\n",
              "        <tr>\n",
              "            <td>WEST ENGLEWOOD</td>\n",
              "            <td>5946</td>\n",
              "        </tr>\n",
              "        <tr>\n",
              "            <td>WEST GARFIELD PARK</td>\n",
              "            <td>2622</td>\n",
              "        </tr>\n",
              "        <tr>\n",
              "            <td>WEST LAWN</td>\n",
              "            <td>4207</td>\n",
              "        </tr>\n",
              "        <tr>\n",
              "            <td>WEST PULLMAN</td>\n",
              "            <td>3240</td>\n",
              "        </tr>\n",
              "        <tr>\n",
              "            <td>WEST RIDGE</td>\n",
              "            <td>8197</td>\n",
              "        </tr>\n",
              "        <tr>\n",
              "            <td>WEST TOWN</td>\n",
              "            <td>9429</td>\n",
              "        </tr>\n",
              "        <tr>\n",
              "            <td>WOODLAWN</td>\n",
              "            <td>4206</td>\n",
              "        </tr>\n",
              "    </tbody>\n",
              "</table>"
            ]
          },
          "metadata": {},
          "execution_count": 21
        }
      ]
    },
    {
      "cell_type": "code",
      "source": [
        "# Problem 9: Get the 5 Community Areas with the least total College Enrollment sorted in ascending order\n",
        "%sql select Community_Area_Name, sum(College_Enrollment) AS TOTAL_ENROLLMENT \\\n",
        "   from CHICAGO_PUBLIC_SCHOOLS_DATA \\\n",
        "   group by Community_Area_Name \\\n",
        "   order by TOTAL_ENROLLMENT asc \\\n",
        "   LIMIT 5"
      ],
      "metadata": {
        "colab": {
          "base_uri": "https://localhost:8080/",
          "height": 181
        },
        "id": "CtiztsA2_vUM",
        "outputId": "6786352e-159d-450c-f280-867a408efc65"
      },
      "execution_count": 22,
      "outputs": [
        {
          "output_type": "stream",
          "name": "stdout",
          "text": [
            " * sqlite:///RealWorldData.db\n",
            "Done.\n"
          ]
        },
        {
          "output_type": "execute_result",
          "data": {
            "text/plain": [
              "[('OAKLAND', 140),\n",
              " ('FULLER PARK', 531),\n",
              " ('BURNSIDE', 549),\n",
              " ('OHARE', 786),\n",
              " ('LOOP', 871)]"
            ],
            "text/html": [
              "<table>\n",
              "    <thead>\n",
              "        <tr>\n",
              "            <th>COMMUNITY_AREA_NAME</th>\n",
              "            <th>TOTAL_ENROLLMENT</th>\n",
              "        </tr>\n",
              "    </thead>\n",
              "    <tbody>\n",
              "        <tr>\n",
              "            <td>OAKLAND</td>\n",
              "            <td>140</td>\n",
              "        </tr>\n",
              "        <tr>\n",
              "            <td>FULLER PARK</td>\n",
              "            <td>531</td>\n",
              "        </tr>\n",
              "        <tr>\n",
              "            <td>BURNSIDE</td>\n",
              "            <td>549</td>\n",
              "        </tr>\n",
              "        <tr>\n",
              "            <td>OHARE</td>\n",
              "            <td>786</td>\n",
              "        </tr>\n",
              "        <tr>\n",
              "            <td>LOOP</td>\n",
              "            <td>871</td>\n",
              "        </tr>\n",
              "    </tbody>\n",
              "</table>"
            ]
          },
          "metadata": {},
          "execution_count": 22
        }
      ]
    },
    {
      "cell_type": "code",
      "source": [
        "# Problem 10: List 5 schools with lowest safety score\n",
        "%sql SELECT name_of_school, safety_score \\\n",
        "FROM CHICAGO_PUBLIC_SCHOOLS_DATA  where safety_score !='None' \\\n",
        "ORDER BY safety_score \\\n",
        "LIMIT 5"
      ],
      "metadata": {
        "colab": {
          "base_uri": "https://localhost:8080/",
          "height": 181
        },
        "id": "pV6nZ0B3_5kN",
        "outputId": "98e481ee-8f68-47ab-8a9d-39b67845a056"
      },
      "execution_count": 23,
      "outputs": [
        {
          "output_type": "stream",
          "name": "stdout",
          "text": [
            " * sqlite:///RealWorldData.db\n",
            "Done.\n"
          ]
        },
        {
          "output_type": "execute_result",
          "data": {
            "text/plain": [
              "[('Edmond Burke Elementary School', 1.0),\n",
              " (\"Luke O'Toole Elementary School\", 5.0),\n",
              " ('George W Tilton Elementary School', 6.0),\n",
              " ('Foster Park Elementary School', 11.0),\n",
              " ('Emil G Hirsch Metropolitan High School', 13.0)]"
            ],
            "text/html": [
              "<table>\n",
              "    <thead>\n",
              "        <tr>\n",
              "            <th>NAME_OF_SCHOOL</th>\n",
              "            <th>SAFETY_SCORE</th>\n",
              "        </tr>\n",
              "    </thead>\n",
              "    <tbody>\n",
              "        <tr>\n",
              "            <td>Edmond Burke Elementary School</td>\n",
              "            <td>1.0</td>\n",
              "        </tr>\n",
              "        <tr>\n",
              "            <td>Luke O&#x27;Toole Elementary School</td>\n",
              "            <td>5.0</td>\n",
              "        </tr>\n",
              "        <tr>\n",
              "            <td>George W Tilton Elementary School</td>\n",
              "            <td>6.0</td>\n",
              "        </tr>\n",
              "        <tr>\n",
              "            <td>Foster Park Elementary School</td>\n",
              "            <td>11.0</td>\n",
              "        </tr>\n",
              "        <tr>\n",
              "            <td>Emil G Hirsch Metropolitan High School</td>\n",
              "            <td>13.0</td>\n",
              "        </tr>\n",
              "    </tbody>\n",
              "</table>"
            ]
          },
          "metadata": {},
          "execution_count": 23
        }
      ]
    },
    {
      "cell_type": "code",
      "source": [
        "# Problem 11: Get the hardship index for the community area which has College Enrollment of 4368\n",
        "# NOTE: For this solution to work the CHICAGO_SOCIOECONOMIC_DATA table as created in the last lab of Week 3 should already exist\n",
        "\n",
        "%%sql\n",
        "select hardship_index from CENSUS_DATA CD, CHICAGO_PUBLIC_SCHOOLS_DATA CPS\n",
        "where CD.community_area_number = CPS.community_area_number\n",
        "and college_enrollment = 4368"
      ],
      "metadata": {
        "colab": {
          "base_uri": "https://localhost:8080/",
          "height": 96
        },
        "id": "vVrMxdORAC9M",
        "outputId": "f7557925-320e-4426-a7fc-5dffda020dc3"
      },
      "execution_count": 24,
      "outputs": [
        {
          "output_type": "stream",
          "name": "stdout",
          "text": [
            " * sqlite:///RealWorldData.db\n",
            "Done.\n"
          ]
        },
        {
          "output_type": "execute_result",
          "data": {
            "text/plain": [
              "[(6.0,)]"
            ],
            "text/html": [
              "<table>\n",
              "    <thead>\n",
              "        <tr>\n",
              "            <th>HARDSHIP_INDEX</th>\n",
              "        </tr>\n",
              "    </thead>\n",
              "    <tbody>\n",
              "        <tr>\n",
              "            <td>6.0</td>\n",
              "        </tr>\n",
              "    </tbody>\n",
              "</table>"
            ]
          },
          "metadata": {},
          "execution_count": 24
        }
      ]
    },
    {
      "cell_type": "code",
      "source": [
        "# Problem 12: Get the hardship index for the community area which has the highest value for College Enrollment\n",
        "# NOTE: For this solution to work the CHICAGO_SOCIOECONOMIC_DATA table as created in the last lab of Week 3 should already exist\n",
        "\n",
        "%sql select community_area_number, community_area_name, hardship_index from CENSUS_DATA \\\n",
        "   where community_area_number in \\\n",
        "   ( select community_area_number from CHICAGO_PUBLIC_SCHOOLS_DATA order by college_enrollment desc limit 1 )"
      ],
      "metadata": {
        "colab": {
          "base_uri": "https://localhost:8080/",
          "height": 96
        },
        "id": "uYKJRn2rAULr",
        "outputId": "f4de0885-c4f1-49a2-c7e6-4894d709545a"
      },
      "execution_count": 25,
      "outputs": [
        {
          "output_type": "stream",
          "name": "stdout",
          "text": [
            " * sqlite:///RealWorldData.db\n",
            "Done.\n"
          ]
        },
        {
          "output_type": "execute_result",
          "data": {
            "text/plain": [
              "[(5.0, 'North Center', 6.0)]"
            ],
            "text/html": [
              "<table>\n",
              "    <thead>\n",
              "        <tr>\n",
              "            <th>COMMUNITY_AREA_NUMBER</th>\n",
              "            <th>COMMUNITY_AREA_NAME</th>\n",
              "            <th>HARDSHIP_INDEX</th>\n",
              "        </tr>\n",
              "    </thead>\n",
              "    <tbody>\n",
              "        <tr>\n",
              "            <td>5.0</td>\n",
              "            <td>North Center</td>\n",
              "            <td>6.0</td>\n",
              "        </tr>\n",
              "    </tbody>\n",
              "</table>"
            ]
          },
          "metadata": {},
          "execution_count": 25
        }
      ]
    },
    {
      "cell_type": "code",
      "source": [
        "# prompt: Find the total number of crimes recorded in the CRIME table\n",
        "\n",
        "%sql SELECT COUNT(*) FROM CHICAGO_CRIME_DATA;\n"
      ],
      "metadata": {
        "colab": {
          "base_uri": "https://localhost:8080/",
          "height": 96
        },
        "id": "iAmTi1_uEaG6",
        "outputId": "7a2d67b3-af36-46c7-99d2-1d27814353e3"
      },
      "execution_count": 26,
      "outputs": [
        {
          "output_type": "stream",
          "name": "stdout",
          "text": [
            " * sqlite:///RealWorldData.db\n",
            "Done.\n"
          ]
        },
        {
          "output_type": "execute_result",
          "data": {
            "text/plain": [
              "[(533,)]"
            ],
            "text/html": [
              "<table>\n",
              "    <thead>\n",
              "        <tr>\n",
              "            <th>COUNT(*)</th>\n",
              "        </tr>\n",
              "    </thead>\n",
              "    <tbody>\n",
              "        <tr>\n",
              "            <td>533</td>\n",
              "        </tr>\n",
              "    </tbody>\n",
              "</table>"
            ]
          },
          "metadata": {},
          "execution_count": 26
        }
      ]
    },
    {
      "cell_type": "code",
      "source": [
        "# prompt: Which of the following is the correct query to list community areas (name and number) with per capita income less than 11000?\n",
        "\n",
        "%sql SELECT COMMUNITY_AREA_NAME, COMMUNITY_AREA_NUMBER FROM CENSUS_DATA WHERE PER_CAPITA_INCOME < 11000;\n"
      ],
      "metadata": {
        "colab": {
          "base_uri": "https://localhost:8080/",
          "height": 160
        },
        "id": "c6zYoJtAEzDA",
        "outputId": "d1926ed4-5ac7-4fe4-f107-277e37c09b35"
      },
      "execution_count": 27,
      "outputs": [
        {
          "output_type": "stream",
          "name": "stdout",
          "text": [
            " * sqlite:///RealWorldData.db\n",
            "Done.\n"
          ]
        },
        {
          "output_type": "execute_result",
          "data": {
            "text/plain": [
              "[('West Garfield Park', 26.0),\n",
              " ('South Lawndale', 30.0),\n",
              " ('Fuller Park', 37.0),\n",
              " ('Riverdale', 54.0)]"
            ],
            "text/html": [
              "<table>\n",
              "    <thead>\n",
              "        <tr>\n",
              "            <th>COMMUNITY_AREA_NAME</th>\n",
              "            <th>COMMUNITY_AREA_NUMBER</th>\n",
              "        </tr>\n",
              "    </thead>\n",
              "    <tbody>\n",
              "        <tr>\n",
              "            <td>West Garfield Park</td>\n",
              "            <td>26.0</td>\n",
              "        </tr>\n",
              "        <tr>\n",
              "            <td>South Lawndale</td>\n",
              "            <td>30.0</td>\n",
              "        </tr>\n",
              "        <tr>\n",
              "            <td>Fuller Park</td>\n",
              "            <td>37.0</td>\n",
              "        </tr>\n",
              "        <tr>\n",
              "            <td>Riverdale</td>\n",
              "            <td>54.0</td>\n",
              "        </tr>\n",
              "    </tbody>\n",
              "</table>"
            ]
          },
          "metadata": {},
          "execution_count": 27
        }
      ]
    },
    {
      "cell_type": "code",
      "source": [
        "# prompt: When you list all case numbers for crimes involving a minor, how many rows of data are retrieved?\n",
        "\n",
        "%%sql\n",
        "SELECT COUNT(*)\n",
        "FROM CHICAGO_CRIME_DATA\n",
        "WHERE DESCRIPTION LIKE '%MINOR%';\n"
      ],
      "metadata": {
        "colab": {
          "base_uri": "https://localhost:8080/",
          "height": 96
        },
        "id": "rpwK46q7FhU_",
        "outputId": "b6187551-4dcc-4c67-efdc-23a860577405"
      },
      "execution_count": 28,
      "outputs": [
        {
          "output_type": "stream",
          "name": "stdout",
          "text": [
            " * sqlite:///RealWorldData.db\n",
            "Done.\n"
          ]
        },
        {
          "output_type": "execute_result",
          "data": {
            "text/plain": [
              "[(2,)]"
            ],
            "text/html": [
              "<table>\n",
              "    <thead>\n",
              "        <tr>\n",
              "            <th>COUNT(*)</th>\n",
              "        </tr>\n",
              "    </thead>\n",
              "    <tbody>\n",
              "        <tr>\n",
              "            <td>2</td>\n",
              "        </tr>\n",
              "    </tbody>\n",
              "</table>"
            ]
          },
          "metadata": {},
          "execution_count": 28
        }
      ]
    },
    {
      "cell_type": "code",
      "source": [
        "# prompt: query for identifying all kidnapping crimes involving a child?\n",
        "\n",
        "%%sql\n",
        "SELECT *\n",
        "FROM CHICAGO_CRIME_DATA\n",
        "WHERE PRIMARY_TYPE = 'KIDNAPPING'\n",
        "AND DESCRIPTION LIKE '%CHILD%';\n"
      ],
      "metadata": {
        "colab": {
          "base_uri": "https://localhost:8080/",
          "height": 168
        },
        "id": "GYTZGdQbFv91",
        "outputId": "d3342608-dffa-421b-9420-a9ed0ecc0c6e"
      },
      "execution_count": 29,
      "outputs": [
        {
          "output_type": "stream",
          "name": "stdout",
          "text": [
            " * sqlite:///RealWorldData.db\n",
            "Done.\n"
          ]
        },
        {
          "output_type": "execute_result",
          "data": {
            "text/plain": [
              "[(5276766, 'HN144152', '2007-01-26', '050XX W VAN BUREN ST', '1792', 'KIDNAPPING', 'CHILD ABDUCTION/STRANGER', 'STREET', 0, 0, 1533, 15, 29.0, 25.0, '20', 1143050.0, 1897546.0, 2007, 41.87490841, -87.75024931, '(41.874908413, -87.750249307)')]"
            ],
            "text/html": [
              "<table>\n",
              "    <thead>\n",
              "        <tr>\n",
              "            <th>ID</th>\n",
              "            <th>CASE_NUMBER</th>\n",
              "            <th>DATE</th>\n",
              "            <th>BLOCK</th>\n",
              "            <th>IUCR</th>\n",
              "            <th>PRIMARY_TYPE</th>\n",
              "            <th>DESCRIPTION</th>\n",
              "            <th>LOCATION_DESCRIPTION</th>\n",
              "            <th>ARREST</th>\n",
              "            <th>DOMESTIC</th>\n",
              "            <th>BEAT</th>\n",
              "            <th>DISTRICT</th>\n",
              "            <th>WARD</th>\n",
              "            <th>COMMUNITY_AREA_NUMBER</th>\n",
              "            <th>FBICODE</th>\n",
              "            <th>X_COORDINATE</th>\n",
              "            <th>Y_COORDINATE</th>\n",
              "            <th>YEAR</th>\n",
              "            <th>LATITUDE</th>\n",
              "            <th>LONGITUDE</th>\n",
              "            <th>LOCATION</th>\n",
              "        </tr>\n",
              "    </thead>\n",
              "    <tbody>\n",
              "        <tr>\n",
              "            <td>5276766</td>\n",
              "            <td>HN144152</td>\n",
              "            <td>2007-01-26</td>\n",
              "            <td>050XX W VAN BUREN ST</td>\n",
              "            <td>1792</td>\n",
              "            <td>KIDNAPPING</td>\n",
              "            <td>CHILD ABDUCTION/STRANGER</td>\n",
              "            <td>STREET</td>\n",
              "            <td>0</td>\n",
              "            <td>0</td>\n",
              "            <td>1533</td>\n",
              "            <td>15</td>\n",
              "            <td>29.0</td>\n",
              "            <td>25.0</td>\n",
              "            <td>20</td>\n",
              "            <td>1143050.0</td>\n",
              "            <td>1897546.0</td>\n",
              "            <td>2007</td>\n",
              "            <td>41.87490841</td>\n",
              "            <td>-87.75024931</td>\n",
              "            <td>(41.874908413, -87.750249307)</td>\n",
              "        </tr>\n",
              "    </tbody>\n",
              "</table>"
            ]
          },
          "metadata": {},
          "execution_count": 29
        }
      ]
    },
    {
      "cell_type": "code",
      "source": [
        "# prompt: Which two of the clauses did you use to get the unique list of the types of crimes recorded in schools?\n",
        "\n",
        "%sql SELECT DISTINCT(PRIMARY_TYPE) FROM CHICAGO_CRIME_DATA WHERE LOCATION_DESCRIPTION LIKE '%SCHOOL%';\n",
        "%sql SELECT DISTINCT(SECONDARY_TYPE) FROM CHICAGO_CRIME_DATA WHERE LOCATION_DESCRIPTION LIKE '%SCHOOL%';\n"
      ],
      "metadata": {
        "colab": {
          "base_uri": "https://localhost:8080/"
        },
        "id": "yVd4cdEeGaBs",
        "outputId": "d1c46d16-ae68-4084-df7d-a27d75aa641f"
      },
      "execution_count": 30,
      "outputs": [
        {
          "output_type": "stream",
          "name": "stdout",
          "text": [
            " * sqlite:///RealWorldData.db\n",
            "Done.\n",
            " * sqlite:///RealWorldData.db\n",
            "(sqlite3.OperationalError) no such column: SECONDARY_TYPE\n",
            "[SQL: SELECT DISTINCT(SECONDARY_TYPE) FROM CHICAGO_CRIME_DATA WHERE LOCATION_DESCRIPTION LIKE '%SCHOOL%' ;]\n",
            "(Background on this error at: https://sqlalche.me/e/20/e3q8)\n"
          ]
        }
      ]
    },
    {
      "cell_type": "code",
      "source": [
        "# What was the average safety score for middle schools?\n",
        "\n",
        "%sql SELECT AVG(SAFETY_SCORE) FROM CHICAGO_PUBLIC_SCHOOLS_DATA WHERE \"Elementary, Middle, or High School\"='MS';\n"
      ],
      "metadata": {
        "colab": {
          "base_uri": "https://localhost:8080/",
          "height": 96
        },
        "id": "-w2x0QrUGuGA",
        "outputId": "38bcbdf3-a405-491b-ccae-61f94be1fc12"
      },
      "execution_count": 31,
      "outputs": [
        {
          "output_type": "stream",
          "name": "stdout",
          "text": [
            " * sqlite:///RealWorldData.db\n",
            "Done.\n"
          ]
        },
        {
          "output_type": "execute_result",
          "data": {
            "text/plain": [
              "[(48.0,)]"
            ],
            "text/html": [
              "<table>\n",
              "    <thead>\n",
              "        <tr>\n",
              "            <th>AVG(SAFETY_SCORE)</th>\n",
              "        </tr>\n",
              "    </thead>\n",
              "    <tbody>\n",
              "        <tr>\n",
              "            <td>48.0</td>\n",
              "        </tr>\n",
              "    </tbody>\n",
              "</table>"
            ]
          },
          "metadata": {},
          "execution_count": 31
        }
      ]
    },
    {
      "cell_type": "code",
      "source": [
        "# prompt: Question 7\n",
        "# What would you add to the following query to list five community areas with the highest % of households below the poverty line?\n",
        "# SELECT COMMUNITY_AREA_NAME FROM CENSUS_DATA\n",
        "\n",
        "%sql SELECT COMMUNITY_AREA_NAME FROM CENSUS_DATA ORDER BY PERCENT_HOUSEHOLDS_BELOW_POVERTY DESC LIMIT 5\n"
      ],
      "metadata": {
        "colab": {
          "base_uri": "https://localhost:8080/",
          "height": 181
        },
        "id": "7aJzTMu6HSEv",
        "outputId": "98e44326-5ffd-498c-976e-750f0451fe59"
      },
      "execution_count": 32,
      "outputs": [
        {
          "output_type": "stream",
          "name": "stdout",
          "text": [
            " * sqlite:///RealWorldData.db\n",
            "Done.\n"
          ]
        },
        {
          "output_type": "execute_result",
          "data": {
            "text/plain": [
              "[('Riverdale',),\n",
              " ('Fuller Park',),\n",
              " ('Englewood',),\n",
              " ('North Lawndale',),\n",
              " ('East Garfield Park',)]"
            ],
            "text/html": [
              "<table>\n",
              "    <thead>\n",
              "        <tr>\n",
              "            <th>COMMUNITY_AREA_NAME</th>\n",
              "        </tr>\n",
              "    </thead>\n",
              "    <tbody>\n",
              "        <tr>\n",
              "            <td>Riverdale</td>\n",
              "        </tr>\n",
              "        <tr>\n",
              "            <td>Fuller Park</td>\n",
              "        </tr>\n",
              "        <tr>\n",
              "            <td>Englewood</td>\n",
              "        </tr>\n",
              "        <tr>\n",
              "            <td>North Lawndale</td>\n",
              "        </tr>\n",
              "        <tr>\n",
              "            <td>East Garfield Park</td>\n",
              "        </tr>\n",
              "    </tbody>\n",
              "</table>"
            ]
          },
          "metadata": {},
          "execution_count": 32
        }
      ]
    },
    {
      "cell_type": "code",
      "source": [
        "# Which community area number has the most criminal incidents (most crime-prone)?\n",
        "\n",
        "%sql SELECT COMMUNITY_AREA_NUMBER, COUNT(*) AS NUM_CRIMES FROM CHICAGO_CRIME_DATA GROUP BY COMMUNITY_AREA_NUMBER ORDER BY NUM_CRIMES DESC LIMIT 1;\n"
      ],
      "metadata": {
        "colab": {
          "base_uri": "https://localhost:8080/",
          "height": 96
        },
        "id": "UBcd52rnHY4r",
        "outputId": "3db4e9df-dc27-442b-c7f9-1eb7f7d61289"
      },
      "execution_count": 33,
      "outputs": [
        {
          "output_type": "stream",
          "name": "stdout",
          "text": [
            " * sqlite:///RealWorldData.db\n",
            "Done.\n"
          ]
        },
        {
          "output_type": "execute_result",
          "data": {
            "text/plain": [
              "[(25.0, 43)]"
            ],
            "text/html": [
              "<table>\n",
              "    <thead>\n",
              "        <tr>\n",
              "            <th>COMMUNITY_AREA_NUMBER</th>\n",
              "            <th>NUM_CRIMES</th>\n",
              "        </tr>\n",
              "    </thead>\n",
              "    <tbody>\n",
              "        <tr>\n",
              "            <td>25.0</td>\n",
              "            <td>43</td>\n",
              "        </tr>\n",
              "    </tbody>\n",
              "</table>"
            ]
          },
          "metadata": {},
          "execution_count": 33
        }
      ]
    },
    {
      "cell_type": "code",
      "source": [
        "# Use a sub-query to find the name of the community area with the highest hardship index?\n",
        "\n",
        "%%sql\n",
        "SELECT COMMUNITY_AREA_NAME\n",
        "FROM CENSUS_DATA\n",
        "WHERE HARDSHIP_INDEX = (SELECT MAX(HARDSHIP_INDEX) FROM CENSUS_DATA);\n"
      ],
      "metadata": {
        "colab": {
          "base_uri": "https://localhost:8080/",
          "height": 96
        },
        "id": "JBrHMSw3IN6-",
        "outputId": "aca56307-cce2-43ab-984b-c4f279c52d31"
      },
      "execution_count": 34,
      "outputs": [
        {
          "output_type": "stream",
          "name": "stdout",
          "text": [
            " * sqlite:///RealWorldData.db\n",
            "Done.\n"
          ]
        },
        {
          "output_type": "execute_result",
          "data": {
            "text/plain": [
              "[('Riverdale',)]"
            ],
            "text/html": [
              "<table>\n",
              "    <thead>\n",
              "        <tr>\n",
              "            <th>COMMUNITY_AREA_NAME</th>\n",
              "        </tr>\n",
              "    </thead>\n",
              "    <tbody>\n",
              "        <tr>\n",
              "            <td>Riverdale</td>\n",
              "        </tr>\n",
              "    </tbody>\n",
              "</table>"
            ]
          },
          "metadata": {},
          "execution_count": 34
        }
      ]
    },
    {
      "cell_type": "code",
      "source": [
        "#prompt: What is the name of the community with the most number of crimes?\n",
        "\n",
        "%sql SELECT COMMUNITY_AREA_NAME FROM CENSUS_DATA WHERE COMMUNITY_AREA_NUMBER = (SELECT COMMUNITY_AREA_NUMBER FROM CHICAGO_CRIME_DATA GROUP BY COMMUNITY_AREA_NUMBER ORDER BY COUNT(*) DESC LIMIT 1);"
      ],
      "metadata": {
        "colab": {
          "base_uri": "https://localhost:8080/",
          "height": 96
        },
        "id": "9490GJO3Iuyq",
        "outputId": "7b5bb2ed-9aaf-4da1-dead-c45a9fc5d55c"
      },
      "execution_count": 35,
      "outputs": [
        {
          "output_type": "stream",
          "name": "stdout",
          "text": [
            " * sqlite:///RealWorldData.db\n",
            "Done.\n"
          ]
        },
        {
          "output_type": "execute_result",
          "data": {
            "text/plain": [
              "[('Austin',)]"
            ],
            "text/html": [
              "<table>\n",
              "    <thead>\n",
              "        <tr>\n",
              "            <th>COMMUNITY_AREA_NAME</th>\n",
              "        </tr>\n",
              "    </thead>\n",
              "    <tbody>\n",
              "        <tr>\n",
              "            <td>Austin</td>\n",
              "        </tr>\n",
              "    </tbody>\n",
              "</table>"
            ]
          },
          "metadata": {},
          "execution_count": 35
        }
      ]
    },
    {
      "cell_type": "code",
      "source": [
        "# prompt:  SQL statements that will delete the students with the last name Smith?\n",
        "\n",
        "%sql DELETE FROM STUDENTS WHERE LAST_NAME = 'Smith'"
      ],
      "metadata": {
        "id": "SPe7wbVkMKGG"
      },
      "execution_count": null,
      "outputs": []
    }
  ]
}