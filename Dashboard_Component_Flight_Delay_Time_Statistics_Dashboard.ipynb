{
  "nbformat": 4,
  "nbformat_minor": 0,
  "metadata": {
    "colab": {
      "provenance": [],
      "authorship_tag": "ABX9TyNwYTkajT3T9gWBtO4cqulJ",
      "include_colab_link": true
    },
    "kernelspec": {
      "name": "python3",
      "display_name": "Python 3"
    },
    "language_info": {
      "name": "python"
    }
  },
  "cells": [
    {
      "cell_type": "markdown",
      "metadata": {
        "id": "view-in-github",
        "colab_type": "text"
      },
      "source": [
        "<a href=\"https://colab.research.google.com/github/yommigold/Python_/blob/main/Dashboard_Component_Flight_Delay_Time_Statistics_Dashboard.ipynb\" target=\"_parent\"><img src=\"https://colab.research.google.com/assets/colab-badge.svg\" alt=\"Open In Colab\"/></a>"
      ]
    },
    {
      "cell_type": "markdown",
      "source": [
        "#Flight Delay Time Statistics Dashboard"
      ],
      "metadata": {
        "id": "wvwDYozeevPX"
      }
    },
    {
      "cell_type": "markdown",
      "source": [
        "#Theme\n",
        "#Analyze flight delays in a dashboard.\n",
        "\n",
        "#Dashboard Components\n",
        "Monthly average carrier delay by reporting airline for the given year.\n",
        "Monthly average weather delay by reporting airline for the given year.\n",
        "Monthly average national air system delay by reporting airline for the given year.\n",
        "Monthly average security delay by reporting airline for the given year.\n",
        "Monthly average late aircraft delay by reporting airline for the given year.\n",
        "NOTE: Year range should be between 2010 and 2020"
      ],
      "metadata": {
        "id": "LhuhENDZfO2H"
      }
    },
    {
      "cell_type": "code",
      "source": [
        "!pip3 install httpx==0.20 dash plotly"
      ],
      "metadata": {
        "colab": {
          "base_uri": "https://localhost:8080/"
        },
        "id": "Vl18vb4Gfkep",
        "outputId": "b67697fa-e5e6-4a43-b824-b5760e9ca4ce"
      },
      "execution_count": 24,
      "outputs": [
        {
          "output_type": "stream",
          "name": "stdout",
          "text": [
            "Requirement already satisfied: httpx==0.20 in /usr/local/lib/python3.10/dist-packages (0.20.0)\n",
            "Requirement already satisfied: dash in /usr/local/lib/python3.10/dist-packages (2.16.1)\n",
            "Requirement already satisfied: plotly in /usr/local/lib/python3.10/dist-packages (5.15.0)\n",
            "Requirement already satisfied: certifi in /usr/local/lib/python3.10/dist-packages (from httpx==0.20) (2024.2.2)\n",
            "Requirement already satisfied: charset-normalizer in /usr/local/lib/python3.10/dist-packages (from httpx==0.20) (3.3.2)\n",
            "Requirement already satisfied: sniffio in /usr/local/lib/python3.10/dist-packages (from httpx==0.20) (1.3.1)\n",
            "Requirement already satisfied: rfc3986[idna2008]<2,>=1.3 in /usr/local/lib/python3.10/dist-packages (from httpx==0.20) (1.5.0)\n",
            "Requirement already satisfied: httpcore<0.14.0,>=0.13.3 in /usr/local/lib/python3.10/dist-packages (from httpx==0.20) (0.13.7)\n",
            "Requirement already satisfied: Flask<3.1,>=1.0.4 in /usr/local/lib/python3.10/dist-packages (from dash) (2.2.5)\n",
            "Requirement already satisfied: Werkzeug<3.1 in /usr/local/lib/python3.10/dist-packages (from dash) (3.0.2)\n",
            "Requirement already satisfied: dash-html-components==2.0.0 in /usr/local/lib/python3.10/dist-packages (from dash) (2.0.0)\n",
            "Requirement already satisfied: dash-core-components==2.0.0 in /usr/local/lib/python3.10/dist-packages (from dash) (2.0.0)\n",
            "Requirement already satisfied: dash-table==5.0.0 in /usr/local/lib/python3.10/dist-packages (from dash) (5.0.0)\n",
            "Requirement already satisfied: importlib-metadata in /usr/local/lib/python3.10/dist-packages (from dash) (7.1.0)\n",
            "Requirement already satisfied: typing-extensions>=4.1.1 in /usr/local/lib/python3.10/dist-packages (from dash) (4.10.0)\n",
            "Requirement already satisfied: requests in /usr/local/lib/python3.10/dist-packages (from dash) (2.31.0)\n",
            "Requirement already satisfied: retrying in /usr/local/lib/python3.10/dist-packages (from dash) (1.3.4)\n",
            "Requirement already satisfied: nest-asyncio in /usr/local/lib/python3.10/dist-packages (from dash) (1.6.0)\n",
            "Requirement already satisfied: setuptools in /usr/local/lib/python3.10/dist-packages (from dash) (67.7.2)\n",
            "Requirement already satisfied: tenacity>=6.2.0 in /usr/local/lib/python3.10/dist-packages (from plotly) (8.2.3)\n",
            "Requirement already satisfied: packaging in /usr/local/lib/python3.10/dist-packages (from plotly) (24.0)\n",
            "Requirement already satisfied: Jinja2>=3.0 in /usr/local/lib/python3.10/dist-packages (from Flask<3.1,>=1.0.4->dash) (3.1.3)\n",
            "Requirement already satisfied: itsdangerous>=2.0 in /usr/local/lib/python3.10/dist-packages (from Flask<3.1,>=1.0.4->dash) (2.1.2)\n",
            "Requirement already satisfied: click>=8.0 in /usr/local/lib/python3.10/dist-packages (from Flask<3.1,>=1.0.4->dash) (8.1.7)\n",
            "Requirement already satisfied: h11<0.13,>=0.11 in /usr/local/lib/python3.10/dist-packages (from httpcore<0.14.0,>=0.13.3->httpx==0.20) (0.12.0)\n",
            "Requirement already satisfied: anyio==3.* in /usr/local/lib/python3.10/dist-packages (from httpcore<0.14.0,>=0.13.3->httpx==0.20) (3.7.1)\n",
            "Requirement already satisfied: idna>=2.8 in /usr/local/lib/python3.10/dist-packages (from anyio==3.*->httpcore<0.14.0,>=0.13.3->httpx==0.20) (3.6)\n",
            "Requirement already satisfied: exceptiongroup in /usr/local/lib/python3.10/dist-packages (from anyio==3.*->httpcore<0.14.0,>=0.13.3->httpx==0.20) (1.2.0)\n",
            "Requirement already satisfied: MarkupSafe>=2.1.1 in /usr/local/lib/python3.10/dist-packages (from Werkzeug<3.1->dash) (2.1.5)\n",
            "Requirement already satisfied: zipp>=0.5 in /usr/local/lib/python3.10/dist-packages (from importlib-metadata->dash) (3.18.1)\n",
            "Requirement already satisfied: urllib3<3,>=1.21.1 in /usr/local/lib/python3.10/dist-packages (from requests->dash) (2.0.7)\n",
            "Requirement already satisfied: six>=1.7.0 in /usr/local/lib/python3.10/dist-packages (from retrying->dash) (1.16.0)\n"
          ]
        }
      ]
    },
    {
      "cell_type": "markdown",
      "source": [
        "#TASK 1 - Read the data"
      ],
      "metadata": {
        "id": "NhJ5x51-f2iz"
      }
    },
    {
      "cell_type": "code",
      "source": [
        "# Import required libraries\n",
        "import pandas as pd\n",
        "import plotly.graph_objects as go\n",
        "import dash\n",
        "from dash import dcc\n",
        "from dash import html\n",
        "from dash.dependencies import Input, Output\n",
        "import plotly.express as px\n",
        "\n",
        "# Read the airline data into pandas dataframe\n",
        "airline_data =  pd.read_csv('https://cf-courses-data.s3.us.cloud-object-storage.appdomain.cloud/IBMDeveloperSkillsNetwork-DV0101EN-SkillsNetwork/Data%20Files/airline_data.csv',\n",
        "                            encoding = \"ISO-8859-1\",\n",
        "                            dtype={'Div1Airport': str, 'Div1TailNum': str,\n",
        "                                   'Div2Airport': str, 'Div2TailNum': str})"
      ],
      "metadata": {
        "id": "-43Pvc7tf6br"
      },
      "execution_count": 25,
      "outputs": []
    },
    {
      "cell_type": "markdown",
      "source": [
        "#TASK 2 - Create dash application and get the layout skeleton"
      ],
      "metadata": {
        "id": "gieIC66df-2n"
      }
    },
    {
      "cell_type": "markdown",
      "source": [
        "Next, we create a skeleton for our dash application. Our dashboard application layout has three components as seen before:\n",
        "\n",
        "Title of the application\n",
        "Component to enter input year inside a layout division\n",
        "5 Charts conveying the different types of flight delay\n",
        "Mapping to the respective Dash HTML tags:\n",
        "\n",
        "Title added using html.H1() tag\n",
        "Layout division added using html.Div() and input component added using dcc.Input() tag inside the layout division.\n",
        "5 charts split into three segments. Each segment has a layout division added using html.Div() and chart added using dcc.Graph() tag inside the layout division.\n",
        "Copy the below code to the flight_delay.py script and review the structure."
      ],
      "metadata": {
        "id": "Gk_uLU3TgFBE"
      }
    },
    {
      "cell_type": "code",
      "source": [
        "# Create a dash application\n",
        "app = dash.Dash(__name__)\n",
        "\n",
        "# Build dash app layout\n",
        "app.layout = html.Div(children=[ html.H1(),\n",
        "                                html.Div([\"Input Year: \", dcc.Input()],\n",
        "                                style={'font-size': 30}),\n",
        "                                html.Br(),\n",
        "                                html.Br(),\n",
        "                                html.Div([\n",
        "                                        html.Div(),\n",
        "                                        html.Div()\n",
        "                                ], style={'display': 'flex'}),\n",
        "\n",
        "                                html.Div([\n",
        "                                        html.Div(),\n",
        "                                        html.Div()\n",
        "                                ], style={'display': 'flex'}),\n",
        "\n",
        "                                html.Div([], style={'width':'65%'})\n",
        "                                ])"
      ],
      "metadata": {
        "id": "8x-EqI-dgLbf"
      },
      "execution_count": 26,
      "outputs": []
    },
    {
      "cell_type": "markdown",
      "source": [
        "#TASK 3 - Update layout components"
      ],
      "metadata": {
        "id": "YR4M0LTpghuj"
      }
    },
    {
      "cell_type": "markdown",
      "source": [
        "#Application title\n",
        "Title as Flight Delay Time Statistics, align text as center, color as #503D36, and font size as 30.\n",
        "#Input component\n",
        "Update dcc.Input component id as input-year, default value as 2010, and type as number. Use style parameter and assign height of the input box to be 35px and font-size to be 30.\n",
        "#Output component - Segment 1\n",
        "Segment 1 is the first html.Div(). We have two inner division where first two graphs will be placed."
      ],
      "metadata": {
        "id": "q8lOEkvZgoGs"
      }
    },
    {
      "cell_type": "markdown",
      "source": [
        "#Skeleton"
      ],
      "metadata": {
        "id": "GmcWfPn1g5_L"
      }
    },
    {
      "cell_type": "code",
      "source": [
        "html.Div([\n",
        "          html.Div(),\n",
        "          html.Div()\n",
        "         ], style={'display': 'flex'}),"
      ],
      "metadata": {
        "colab": {
          "base_uri": "https://localhost:8080/"
        },
        "id": "nPyMGXlkg9Ph",
        "outputId": "0d5da8a6-e71a-417d-d915-275693d027dd"
      },
      "execution_count": 27,
      "outputs": [
        {
          "output_type": "execute_result",
          "data": {
            "text/plain": [
              "(Div(children=[Div(None), Div(None)], style={'display': 'flex'}),)"
            ]
          },
          "metadata": {},
          "execution_count": 27
        }
      ]
    },
    {
      "cell_type": "markdown",
      "source": [
        "#First inner division\n",
        "Add dcc.Graph() component.\n",
        "Update dcc.Graph component id as carrier-plot.\n",
        "#Second inner division\n",
        "Add dcc.Graph() component.\n",
        "Update dcc.Graph component id as weather-plot.\n",
        "#Output component - Segment 2\n",
        "Segment 2 is the second html.Div(). We have two inner division where the next two graphs will be placed"
      ],
      "metadata": {
        "id": "waTtgE72hFGZ"
      }
    },
    {
      "cell_type": "markdown",
      "source": [
        "#Skeleton"
      ],
      "metadata": {
        "id": "xhwT2hS_hUG8"
      }
    },
    {
      "cell_type": "code",
      "source": [
        "html.Div([\n",
        "          html.Div(),\n",
        "          html.Div()\n",
        "         ], style={'display': 'flex'}),"
      ],
      "metadata": {
        "colab": {
          "base_uri": "https://localhost:8080/"
        },
        "id": "YLvpiysMhVpG",
        "outputId": "134894bc-948a-4bf4-8b12-c0004d6e3ad0"
      },
      "execution_count": 28,
      "outputs": [
        {
          "output_type": "execute_result",
          "data": {
            "text/plain": [
              "(Div(children=[Div(None), Div(None)], style={'display': 'flex'}),)"
            ]
          },
          "metadata": {},
          "execution_count": 28
        }
      ]
    },
    {
      "cell_type": "markdown",
      "source": [
        "#First inner division\n",
        "Add dcc.Graph() component.\n",
        "Update dcc.Graph component id as nas-plot.\n",
        "#Second inner division\n",
        "Add dcc.Graph() component.\n",
        "Update dcc.Graph component id as security-plot.\n",
        "#Output component - Segment 3\n",
        "Segment 3 is the last html.Div().\n",
        "\n",
        "#Skeleon"
      ],
      "metadata": {
        "id": "xIZWu-jIhcfV"
      }
    },
    {
      "cell_type": "code",
      "source": [
        "html.Div(children=[], style={'width':'65%'})"
      ],
      "metadata": {
        "colab": {
          "base_uri": "https://localhost:8080/"
        },
        "id": "8z7XsRKPhnGv",
        "outputId": "ef63042d-c2cd-48de-da8e-bb6a2b505f1d"
      },
      "execution_count": 29,
      "outputs": [
        {
          "output_type": "execute_result",
          "data": {
            "text/plain": [
              "Div(children=[], style={'width': '65%'})"
            ]
          },
          "metadata": {},
          "execution_count": 29
        }
      ]
    },
    {
      "cell_type": "markdown",
      "source": [
        "Add dcc.Graph() component to the first inner division.\n",
        "\n",
        "Update dcc.Graph component id as late-plot."
      ],
      "metadata": {
        "id": "FeX9Ezyfhvl4"
      }
    },
    {
      "cell_type": "markdown",
      "source": [
        "#TASK 4 - Review and add supporting function"
      ],
      "metadata": {
        "id": "HfbpItJTh_WR"
      }
    },
    {
      "cell_type": "code",
      "source": [
        "#Below is the function that gets input year and data, perform computation for creating charts and plots\n",
        "\n",
        "\"\"\" Compute_info function description\n",
        "\n",
        "This function takes in airline data and selected year as an input and performs computation for creating charts and plots.\n",
        "\n",
        "Arguments:\n",
        "    airline_data: Input airline data.\n",
        "    entered_year: Input year for which computation needs to be performed.\n",
        "\n",
        "Returns:\n",
        "    Computed average dataframes for carrier delay, weather delay, NAS delay, security delay, and late aircraft delay.\n",
        "\n",
        "\"\"\"\n",
        "def compute_info(airline_data, entered_year):\n",
        "    # Select data\n",
        "    df =  airline_data[airline_data['Year']==int(entered_year)]\n",
        "    # Compute delay averages\n",
        "    avg_car = df.groupby(['Month','Reporting_Airline'])['CarrierDelay'].mean().reset_index()\n",
        "    avg_weather = df.groupby(['Month','Reporting_Airline'])['WeatherDelay'].mean().reset_index()\n",
        "    avg_NAS = df.groupby(['Month','Reporting_Airline'])['NASDelay'].mean().reset_index()\n",
        "    avg_sec = df.groupby(['Month','Reporting_Airline'])['SecurityDelay'].mean().reset_index()\n",
        "    avg_late = df.groupby(['Month','Reporting_Airline'])['LateAircraftDelay'].mean().reset_index()\n",
        "    return avg_car, avg_weather, avg_NAS, avg_sec, avg_late"
      ],
      "metadata": {
        "id": "THr_hyT8iMWP"
      },
      "execution_count": 30,
      "outputs": []
    },
    {
      "cell_type": "markdown",
      "source": [
        "#TASK 5 - Add the application callback function"
      ],
      "metadata": {
        "id": "gLZvJqJPioBm"
      }
    },
    {
      "cell_type": "markdown",
      "source": [
        "The core idea of this application is to get year as user input and update the dashboard in real-time. We will be using callback function for the same.\n",
        "\n",
        "Steps:\n",
        "\n",
        "Define the callback decorator\n",
        "Define the callback function that uses the input provided to perform the computation\n",
        "Create graph and return it as an output\n",
        "Run the application"
      ],
      "metadata": {
        "id": "Kkmh8l9qi1yo"
      }
    },
    {
      "cell_type": "code",
      "source": [
        "#Define the callback decorator Define the callback function that uses the input provided to perform the computation Create graph and return it as an output Run the application\n",
        "\n",
        "# Callback decorator\n",
        "@app.callback(\n",
        "    Output(component_id='carrier-plot', component_property='figure'),\n",
        "    [Input(component_id='input-year', component_property='value')]\n",
        ")\n",
        "\n",
        "# Computation to callback function and return graph\n",
        "def get_graph(entered_year):\n",
        "    # Compute required information for creating graph from the data\n",
        "    avg_car, _, _, _, _ = compute_info(airline_data, entered_year)\n",
        "\n",
        "    # Line plot for carrier delay\n",
        "    carrier_fig = px.line(avg_car, x='Month', y='CarrierDelay', color='Reporting_Airline', title='Average carrier delay time (minutes) by airline')\n",
        "\n",
        "    return carrier_fig\n"
      ],
      "metadata": {
        "id": "InOFNoubjs2P"
      },
      "execution_count": 33,
      "outputs": []
    },
    {
      "cell_type": "code",
      "source": [
        "\n",
        "# Callback decorator\n",
        "@app.callback(\n",
        "    Output(component_id='carrier-plot', component_property='figure'),\n",
        "    [Input(component_id='input-year', component_property='value')]\n",
        ")\n",
        "# Computation to callback function and return graph\n",
        "def get_graph(entered_year):\n",
        "\n",
        "    # Compute required information for creating graph from the data\n",
        "    avg_car, avg_weather, avg_NAS, avg_sec, avg_late = compute_info(airline_data, entered_year)\n",
        "\n",
        "    # Line plot for carrier delay\n",
        "    carrier_fig = px.line(avg_car, x='Month', y='CarrierDelay', color='Reporting_Airline', title='Average carrier delay time (minutes) by airline')\n",
        "    # Line plot for weather delay\n",
        "    weather_fig = ------\n",
        "    # Line plot for nas delay\n",
        "    nas_fig = ------\n",
        "    # Line plot for security delay\n",
        "    sec_fig = ------\n",
        "    # Line plot for late aircraft delay\n",
        "    late_fig = ------\n",
        "\n",
        "    return[carrier_fig, weather_fig, nas_fig, sec_fig, late_fig]\n",
        "\n",
        "# Run the app\n",
        "if __name__ == '__main__':\n",
        "    app.run_server()"
      ],
      "metadata": {
        "id": "cIpCDzSai6dg"
      },
      "execution_count": null,
      "outputs": []
    },
    {
      "cell_type": "markdown",
      "source": [
        "# ALL CODES COMBINED IN ONE PLACE"
      ],
      "metadata": {
        "id": "0Huo-5F6mM0m"
      }
    },
    {
      "cell_type": "code",
      "source": [
        "# Import required libraries\n",
        "import pandas as pd\n",
        "import dash\n",
        "from dash import dcc\n",
        "from dash import html\n",
        "from dash.dependencies import Input, Output\n",
        "import plotly.express as px\n",
        "\n",
        "# Read the airline data into pandas dataframe\n",
        "airline_data =  pd.read_csv('https://cf-courses-data.s3.us.cloud-object-storage.appdomain.cloud/IBMDeveloperSkillsNetwork-DV0101EN-SkillsNetwork/Data%20Files/airline_data.csv',\n",
        "                            encoding = \"ISO-8859-1\",\n",
        "                            dtype={'Div1Airport': str, 'Div1TailNum': str,\n",
        "                                   'Div2Airport': str, 'Div2TailNum': str})\n",
        "\n",
        "# Create a dash application\n",
        "app = dash.Dash(__name__)\n",
        "\n",
        "# Build dash app layout\n",
        "app.layout = html.Div(children=[ html.H1('Flight Delay Time Statistics',\n",
        "                                style={'textAlign': 'center', 'color': '#503D36',\n",
        "                                'font-size': 30}),\n",
        "                                html.Div([\"Input Year: \", dcc.Input(id='input-year', value='2010',\n",
        "                                type='number', style={'height':'35px', 'font-size': 30}),],\n",
        "                                style={'font-size': 30}),\n",
        "                                html.Br(),\n",
        "                                html.Br(),\n",
        "                                # Segment 1\n",
        "                                html.Div([\n",
        "                                        html.Div(dcc.Graph(id='carrier-plot')),\n",
        "                                        html.Div(dcc.Graph(id='weather-plot'))\n",
        "                                ], style={'display': 'flex'}),\n",
        "                                # Segment 2\n",
        "                                html.Div([\n",
        "                                        html.Div(dcc.Graph(id='nas-plot')),\n",
        "                                        html.Div(dcc.Graph(id='security-plot'))\n",
        "                                ], style={'display': 'flex'}),\n",
        "                                # Segment 3\n",
        "                                html.Div(dcc.Graph(id='late-plot'), style={'width':'65%'})\n",
        "                                ])\n",
        "\n",
        "\"\"\" Compute_info function description\n",
        "\n",
        "This function takes in airline data and selected year as an input and performs computation for creating charts and plots.\n",
        "\n",
        "Arguments:\n",
        "    airline_data: Input airline data.\n",
        "    entered_year: Input year for which computation needs to be performed.\n",
        "\n",
        "Returns:\n",
        "    Computed average dataframes for carrier delay, weather delay, NAS delay, security delay, and late aircraft delay.\n",
        "\n",
        "\"\"\"\n",
        "def compute_info(airline_data, entered_year):\n",
        "    # Select data\n",
        "    df =  airline_data[airline_data['Year']==int(entered_year)]\n",
        "    # Compute delay averages\n",
        "    avg_car = df.groupby(['Month','Reporting_Airline'])['CarrierDelay'].mean().reset_index()\n",
        "    avg_weather = df.groupby(['Month','Reporting_Airline'])['WeatherDelay'].mean().reset_index()\n",
        "    avg_NAS = df.groupby(['Month','Reporting_Airline'])['NASDelay'].mean().reset_index()\n",
        "    avg_sec = df.groupby(['Month','Reporting_Airline'])['SecurityDelay'].mean().reset_index()\n",
        "    avg_late = df.groupby(['Month','Reporting_Airline'])['LateAircraftDelay'].mean().reset_index()\n",
        "    return avg_car, avg_weather, avg_NAS, avg_sec, avg_late\n",
        "\n",
        "\"\"\"Callback Function\n",
        "\n",
        "Function that returns fugures using the provided input year.\n",
        "\n",
        "Arguments:\n",
        "\n",
        "    entered_year: Input year provided by the user.\n",
        "\n",
        "Returns:\n",
        "\n",
        "    List of figures computed using the provided helper function `compute_info`.\n",
        "\"\"\"\n",
        "# Callback decorator\n",
        "@app.callback( [\n",
        "               Output(component_id='carrier-plot', component_property='figure'),\n",
        "               Output(component_id='weather-plot', component_property='figure'),\n",
        "               Output(component_id='nas-plot', component_property='figure'),\n",
        "               Output(component_id='security-plot', component_property='figure'),\n",
        "               Output(component_id='late-plot', component_property='figure')\n",
        "               ],\n",
        "               Input(component_id='input-year', component_property='value'))\n",
        "# Computation to callback function and return graph\n",
        "def get_graph(entered_year):\n",
        "\n",
        "    # Compute required information for creating graph from the data\n",
        "    avg_car, avg_weather, avg_NAS, avg_sec, avg_late = compute_info(airline_data, entered_year)\n",
        "\n",
        "    # Line plot for carrier delay\n",
        "    carrier_fig = px.line(avg_car, x='Month', y='CarrierDelay', color='Reporting_Airline', title='Average carrrier delay time (minutes) by airline')\n",
        "    # Line plot for weather delay\n",
        "    weather_fig = px.line(avg_weather, x='Month', y='WeatherDelay', color='Reporting_Airline', title='Average weather delay time (minutes) by airline')\n",
        "    # Line plot for nas delay\n",
        "    nas_fig = px.line(avg_NAS, x='Month', y='NASDelay', color='Reporting_Airline', title='Average NAS delay time (minutes) by airline')\n",
        "    # Line plot for security delay\n",
        "    sec_fig = px.line(avg_sec, x='Month', y='SecurityDelay', color='Reporting_Airline', title='Average security delay time (minutes) by airline')\n",
        "    # Line plot for late aircraft delay\n",
        "    late_fig = px.line(avg_late, x='Month', y='LateAircraftDelay', color='Reporting_Airline', title='Average late aircraft delay time (minutes) by airline')\n",
        "\n",
        "    return[carrier_fig, weather_fig, nas_fig, sec_fig, late_fig]\n",
        "\n",
        "# Run the app\n",
        "if __name__ == '__main__':\n",
        "    app.run_server()"
      ],
      "metadata": {
        "colab": {
          "base_uri": "https://localhost:8080/",
          "height": 671
        },
        "id": "CaGS-Ixxlzgl",
        "outputId": "257ccc7f-7361-405c-ebef-c14c95f39e93"
      },
      "execution_count": 35,
      "outputs": [
        {
          "output_type": "display_data",
          "data": {
            "text/plain": [
              "<IPython.core.display.Javascript object>"
            ],
            "application/javascript": [
              "(async (port, path, width, height, cache, element) => {\n",
              "    if (!google.colab.kernel.accessAllowed && !cache) {\n",
              "      return;\n",
              "    }\n",
              "    element.appendChild(document.createTextNode(''));\n",
              "    const url = await google.colab.kernel.proxyPort(port, {cache});\n",
              "    const iframe = document.createElement('iframe');\n",
              "    iframe.src = new URL(path, url).toString();\n",
              "    iframe.height = height;\n",
              "    iframe.width = width;\n",
              "    iframe.style.border = 0;\n",
              "    iframe.allow = [\n",
              "        'accelerometer',\n",
              "        'autoplay',\n",
              "        'camera',\n",
              "        'clipboard-read',\n",
              "        'clipboard-write',\n",
              "        'gyroscope',\n",
              "        'magnetometer',\n",
              "        'microphone',\n",
              "        'serial',\n",
              "        'usb',\n",
              "        'xr-spatial-tracking',\n",
              "    ].join('; ');\n",
              "    element.appendChild(iframe);\n",
              "  })(8050, \"/\", \"100%\", 650, false, window.element)"
            ]
          },
          "metadata": {}
        }
      ]
    }
  ]
}