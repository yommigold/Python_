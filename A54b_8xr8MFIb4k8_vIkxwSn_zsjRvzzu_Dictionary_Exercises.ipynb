{
  "cells": [
    {
      "cell_type": "markdown",
      "metadata": {
        "id": "view-in-github",
        "colab_type": "text"
      },
      "source": [
        "<a href=\"https://colab.research.google.com/github/yommigold/Python_/blob/main/A54b_8xr8MFIb4k8_vIkxwSn_zsjRvzzu_Dictionary_Exercises.ipynb\" target=\"_parent\"><img src=\"https://colab.research.google.com/assets/colab-badge.svg\" alt=\"Open In Colab\"/></a>"
      ]
    },
    {
      "cell_type": "markdown",
      "metadata": {
        "id": "ywyQewV1kqO6"
      },
      "source": [
        "# Python Dictionary Exercises"
      ]
    },
    {
      "cell_type": "code",
      "execution_count": 44,
      "metadata": {
        "colab": {
          "base_uri": "https://localhost:8080/"
        },
        "id": "MK58M-tzkqPA",
        "outputId": "17987a4d-a8ee-4b0a-e07f-5fad4c644c21"
      },
      "outputs": [
        {
          "output_type": "stream",
          "name": "stdout",
          "text": [
            "{'O': 'Oluwayomi', 'M': 'Mintu', 'E': 'Elvis', 'J': 'Jasdeep', 'R': 'Revanth', 'A': 'Amir'}\n"
          ]
        }
      ],
      "source": [
        "#Q1 Create a dictionary for all participants in the JDA program.\n",
        "#Keys should be the first letter in their names,\n",
        "#Values should be their names.\n",
        "#[Hint] dic={\"l\":(Leul),\"J\":(Jerry,Jainam)........}\n",
        "\n",
        "# Create the dictionary for Group 3 JDA Members\n",
        "group3_dict = {\"O\": \"Oluwayomi\", \"M\": \"Mintu\", \"E\": \"Elvis\", \"J\": \"Jasdeep\", \"R\": \"Revanth\", \"A\": \"Amir\"}\n",
        "print(group3_dict)"
      ]
    },
    {
      "cell_type": "code",
      "execution_count": 5,
      "metadata": {
        "colab": {
          "base_uri": "https://localhost:8080/"
        },
        "id": "BFL-O8UdkqPD",
        "outputId": "571297ca-6fe7-42cf-cff2-cec23c95c96c"
      },
      "outputs": [
        {
          "output_type": "execute_result",
          "data": {
            "text/plain": [
              "dict_keys(['O', 'M', 'E', 'J', 'R', 'A'])"
            ]
          },
          "metadata": {},
          "execution_count": 5
        }
      ],
      "source": [
        "#Q2 What are the keys of your dictionary\n",
        "group3_dict.keys()"
      ]
    },
    {
      "cell_type": "code",
      "execution_count": 6,
      "metadata": {
        "colab": {
          "base_uri": "https://localhost:8080/"
        },
        "id": "X51O8uqhkqPE",
        "outputId": "9bd4df79-cb89-4adf-d5c1-378f55622113"
      },
      "outputs": [
        {
          "output_type": "execute_result",
          "data": {
            "text/plain": [
              "dict_values(['Oluwayomi', 'Mintu', 'Elvis', 'Jasdeep', 'Revanth', 'Amir'])"
            ]
          },
          "metadata": {},
          "execution_count": 6
        }
      ],
      "source": [
        "#Q3 What are the values of your dictionary\n",
        "group3_dict.values()"
      ]
    },
    {
      "cell_type": "code",
      "execution_count": 47,
      "metadata": {
        "colab": {
          "base_uri": "https://localhost:8080/"
        },
        "id": "2UV7LBsmkqPF",
        "outputId": "7363d38e-15d1-49c6-caec-2199ca7160b0"
      },
      "outputs": [
        {
          "output_type": "stream",
          "name": "stdout",
          "text": [
            "Mintu\n",
            "Jasdeep\n",
            "Amir\n"
          ]
        }
      ],
      "source": [
        "#Q4 Find participant's names that start with J,I,M,C,A\n",
        "for key, value in group3_dict.items():\n",
        "  if key in [\"J\", \"I\", \"M\", \"C\", \"A\"]:\n",
        "    print(value)"
      ]
    },
    {
      "cell_type": "code",
      "execution_count": 43,
      "metadata": {
        "colab": {
          "base_uri": "https://localhost:8080/"
        },
        "id": "AC85Vp4gkqPG",
        "outputId": "4ed67725-5b76-442a-910e-93264ff7f175"
      },
      "outputs": [
        {
          "output_type": "stream",
          "name": "stdout",
          "text": [
            "{'O': 'Oluwayomi', 'M': 'Mintu', 'E': 'Elvis', 'J': 'Jasdeep', 'R': 'Revanth', 'A': 'Amir', 'K': 'Kristina', ('K', 'PD'): 'Kristina', ('S', 'Instructor'): 'Sarah'}\n"
          ]
        }
      ],
      "source": [
        "#Q5 Add the following to your dictionary\n",
        "# Key<(K,PD)>, Value<(Kristina)>\n",
        "group3_dict['K', \"PD\"] = 'Kristina'\n",
        "print(group3_dict)"
      ]
    },
    {
      "cell_type": "code",
      "execution_count": 8,
      "metadata": {
        "colab": {
          "base_uri": "https://localhost:8080/"
        },
        "id": "UBwrOzAEkqPG",
        "outputId": "f967ba9b-dc34-4513-c40f-46cde60dd04c"
      },
      "outputs": [
        {
          "output_type": "execute_result",
          "data": {
            "text/plain": [
              "7"
            ]
          },
          "metadata": {},
          "execution_count": 8
        }
      ],
      "source": [
        "#Q6 Find the length of your dictionary\n",
        "len(group3_dict)"
      ]
    },
    {
      "cell_type": "code",
      "execution_count": 42,
      "metadata": {
        "colab": {
          "base_uri": "https://localhost:8080/"
        },
        "id": "G1SyMEWMkqPH",
        "outputId": "fe6f8cf4-44d6-4de4-c5b8-87c7ae417622"
      },
      "outputs": [
        {
          "output_type": "stream",
          "name": "stdout",
          "text": [
            "{'O': 'Oluwayomi', 'M': 'Mintu', 'E': 'Elvis', 'J': 'Jasdeep', 'R': 'Revanth', 'A': 'Amir', 'K': 'Kristina', ('K', 'PD'): 'Kristina', ('S', 'Instructor'): 'Sarah'}\n"
          ]
        }
      ],
      "source": [
        "#Q7 Add the following to your dictionary\n",
        "# Key<(S,Instructor)>, Value<(Sarah)>\n",
        "group3_dict['S', 'Instructor'] = 'Sarah'\n",
        "print(group3_dict)"
      ]
    },
    {
      "cell_type": "code",
      "execution_count": 11,
      "metadata": {
        "colab": {
          "base_uri": "https://localhost:8080/"
        },
        "id": "MJWtORXokqPI",
        "outputId": "60926e28-6553-4932-e574-7a95537d9faa"
      },
      "outputs": [
        {
          "output_type": "execute_result",
          "data": {
            "text/plain": [
              "9"
            ]
          },
          "metadata": {},
          "execution_count": 11
        }
      ],
      "source": [
        "#Q8 Find the length of your dictionary\n",
        "len(group3_dict)"
      ]
    },
    {
      "cell_type": "code",
      "source": [
        "group3_dict['S', 'Instructor'] = 'Sarah'\n",
        "print(group3_dict)"
      ],
      "metadata": {
        "colab": {
          "base_uri": "https://localhost:8080/"
        },
        "id": "k3ksm1R-QNnU",
        "outputId": "09e0e0c4-0c09-4f71-a949-75b80837a7b9"
      },
      "execution_count": 70,
      "outputs": [
        {
          "output_type": "stream",
          "name": "stdout",
          "text": [
            "{'O': 'Oluwayomi', 'M': 'Mintu', 'E': 'Elvis', 'R': 'Revanth', 'A': 'Amir', ('S', 'Instructor'): 'Sarah'}\n"
          ]
        }
      ]
    },
    {
      "cell_type": "code",
      "execution_count": 71,
      "metadata": {
        "id": "P_QJJDYjkqPI"
      },
      "outputs": [],
      "source": [
        "#Q7 Delete the following keys from your dictionary\n",
        "#Key<(S,Instructor)>\n",
        "#Key<J>\n",
        "\n",
        "del group3_dict[\"S\", \"Instructor\" ]\n"
      ]
    },
    {
      "cell_type": "code",
      "execution_count": 69,
      "metadata": {
        "colab": {
          "base_uri": "https://localhost:8080/"
        },
        "id": "5VgXLN21kqPJ",
        "outputId": "37e68a4e-3dab-4683-95cd-ab8096190f7e"
      },
      "outputs": [
        {
          "output_type": "stream",
          "name": "stdout",
          "text": [
            "{'O': 'Oluwayomi', 'M': 'Mintu', 'E': 'Elvis', 'R': 'Revanth', 'A': 'Amir'}\n"
          ]
        }
      ],
      "source": [
        "#Q9 Find the length of your dictionary\n",
        "len(group3_dict)\n",
        "print(group3_dict)"
      ]
    },
    {
      "cell_type": "code",
      "source": [
        "# prompt: Add the synonyms of the following words to your dictionary :\n",
        "# Bad, Good, Awesome, Cold, Easy, Hard, Big, Small\n",
        "\n",
        "synonyms_dic = {\n",
        "    \"Bad\": [\"terrible\", \"awful\", \"dreadful\", \"horrible\"],\n",
        "    \"Good\": [\"great\", \"excellent\", \"wonderful\", \"fantastic\"],\n",
        "    \"Awesome\": [\"amazing\", \"incredible\", \"unbelievable\", \"mind-blowing\"],\n",
        "    \"Cold\": [\"freezing\", \"chilly\", \"icy\", \"frigid\"],\n",
        "    \"Easy\": [\"simple\", \"effortless\", \"painless\", \"undemanding\"],\n",
        "    \"Hard\": [\"difficult\", \"challenging\", \"demanding\", \"tough\"],\n",
        "    \"Big\": [\"large\", \"enormous\", \"gigantic\", \"colossal\"],\n",
        "    \"Small\": [\"tiny\", \"little\", \"petite\", \"miniature\"]\n",
        "}\n"
      ],
      "metadata": {
        "id": "T4Ul4JoQKjTm"
      },
      "execution_count": null,
      "outputs": []
    },
    {
      "cell_type": "code",
      "execution_count": 52,
      "metadata": {
        "colab": {
          "base_uri": "https://localhost:8080/"
        },
        "id": "qETOA_uekqPK",
        "outputId": "a6255be2-3a64-44ef-97e2-8e2bc14cda7e"
      },
      "outputs": [
        {
          "output_type": "stream",
          "name": "stdout",
          "text": [
            "Synonym of Awesome: ['amazing', 'incredible', 'unbelievable', 'mind-blowing']\n",
            "Synonym of Easy: ['simple', 'effortless', 'painless', 'undemanding']\n",
            "Synonym of Small: ['tiny', 'little', 'petite', 'miniature']\n",
            "Synonym of Old: Synonym not found\n"
          ]
        }
      ],
      "source": [
        "#Q12 Use your dictionary to find the synonym of the following words\n",
        "# Awesome, Easy, Small, Old\n",
        "print(\"Synonym of Awesome:\", synonyms_dic[\"Awesome\"])\n",
        "print(\"Synonym of Easy:\", synonyms_dic[\"Easy\"])\n",
        "print(\"Synonym of Small:\", synonyms_dic[\"Small\"])\n",
        "print(\"Synonym of Old:\", synonyms_dic.get(\"Old\", \"Synonym not found\"))"
      ]
    },
    {
      "cell_type": "code",
      "execution_count": 53,
      "metadata": {
        "id": "AM4WvhxkkqPL"
      },
      "outputs": [],
      "source": [
        "#Q13 Delete everything from synonyms_dic\n",
        "synonyms_dic.clear()"
      ]
    },
    {
      "cell_type": "code",
      "execution_count": 54,
      "metadata": {
        "colab": {
          "base_uri": "https://localhost:8080/"
        },
        "id": "kXlIuIUtkqPL",
        "outputId": "7c0d90ea-6b30-4900-81a4-7c739d55080c"
      },
      "outputs": [
        {
          "output_type": "stream",
          "name": "stdout",
          "text": [
            "{}\n"
          ]
        }
      ],
      "source": [
        "#Q14 Print all values in synonyms_dic\n",
        "print(synonyms_dic)"
      ]
    },
    {
      "cell_type": "code",
      "execution_count": 37,
      "metadata": {
        "colab": {
          "base_uri": "https://localhost:8080/"
        },
        "id": "IBUv2Uu9kqPL",
        "outputId": "7dfd8fd6-16af-41fa-cdc5-fcef642f1f2d"
      },
      "outputs": [
        {
          "output_type": "execute_result",
          "data": {
            "text/plain": [
              "{'True': 1, 'False': 0}"
            ]
          },
          "metadata": {},
          "execution_count": 37
        }
      ],
      "source": [
        "#Q15 Convert the below two lists into dictionary\n",
        "Keys=[\"True\",\"False\"]\n",
        "Values=[1,0]\n",
        "new_dict = dict(zip(Keys, Values))\n",
        "new_dict\n"
      ]
    },
    {
      "cell_type": "code",
      "execution_count": 36,
      "metadata": {
        "colab": {
          "base_uri": "https://localhost:8080/"
        },
        "id": "D51tfMLTkqPL",
        "outputId": "f46b72c6-73f0-4411-e3d4-3785888288fe"
      },
      "outputs": [
        {
          "output_type": "stream",
          "name": "stdout",
          "text": [
            "Total income: 4480\n"
          ]
        }
      ],
      "source": [
        "#Q16 Sum all the values in the following dictionary\n",
        "income={'Jan':1000,'Feb':1500,'Mar':980,'April':1000}\n",
        "\n",
        "income = {'Jan': 1000, 'Feb': 1500, 'Mar': 980, 'April': 1000}\n",
        "\n",
        "total_income = sum(income.values())\n",
        "\n",
        "print(f\"Total income: {total_income}\")"
      ]
    },
    {
      "cell_type": "code",
      "execution_count": 35,
      "metadata": {
        "colab": {
          "base_uri": "https://localhost:8080/"
        },
        "id": "Pt8uj7hokqPL",
        "outputId": "8fb4fdf7-ecd6-4840-de81-23fcccfea557"
      },
      "outputs": [
        {
          "output_type": "stream",
          "name": "stdout",
          "text": [
            "I am hungry , I want to eat\n"
          ]
        }
      ],
      "source": [
        "#Q17 Create the following dictionary\n",
        "#encryption=\n",
        "#{10:\"hungry\",101:\"am\",110:\"I\",1011:\",\",1101:\"eat\",1001:\"want\",111:\"to\"}\n",
        "# What should be the decryption of the following code\n",
        "#\"110 101 10 1011 110 1001 111 1101\"\n",
        "\n",
        "encryption = {10: \"hungry\", 101: \"am\", 110: \"I\", 1011: \",\", 1101: \"eat\", 1001: \"want\", 111: \"to\"}\n",
        "\n",
        "# Decrypt the code\n",
        "code = \"110 101 10 1011 110 1001 111 1101\"\n",
        "decrypted_code = [encryption[int(digit)] for digit in code.split()]\n",
        "\n",
        "# Print the decrypted message\n",
        "print(' '.join(decrypted_code))"
      ]
    },
    {
      "cell_type": "markdown",
      "source": [],
      "metadata": {
        "id": "oVid-SQcAD2s"
      }
    }
  ],
  "metadata": {
    "kernelspec": {
      "display_name": "Python 3 (ipykernel)",
      "language": "python",
      "name": "python3"
    },
    "language_info": {
      "codemirror_mode": {
        "name": "ipython",
        "version": 3
      },
      "file_extension": ".py",
      "mimetype": "text/x-python",
      "name": "python",
      "nbconvert_exporter": "python",
      "pygments_lexer": "ipython3",
      "version": "3.9.12"
    },
    "colab": {
      "provenance": [],
      "include_colab_link": true
    }
  },
  "nbformat": 4,
  "nbformat_minor": 0
}