{
  "nbformat": 4,
  "nbformat_minor": 0,
  "metadata": {
    "colab": {
      "provenance": [],
      "authorship_tag": "ABX9TyNf1BzUCbv/l+vGGLb8UAvY",
      "include_colab_link": true
    },
    "kernelspec": {
      "name": "python3",
      "display_name": "Python 3"
    },
    "language_info": {
      "name": "python"
    }
  },
  "cells": [
    {
      "cell_type": "markdown",
      "metadata": {
        "id": "view-in-github",
        "colab_type": "text"
      },
      "source": [
        "<a href=\"https://colab.research.google.com/github/yommigold/Python_/blob/main/CAPSTONE_Hands_on_Lab_4_Collecting_Data_Using_Web_Scraping.ipynb\" target=\"_parent\"><img src=\"https://colab.research.google.com/assets/colab-badge.svg\" alt=\"Open In Colab\"/></a>"
      ]
    },
    {
      "cell_type": "markdown",
      "source": [
        "#CAPSTONE: Hands-on Lab 4: Collecting Data Using Web Scraping"
      ],
      "metadata": {
        "id": "Sha4Zcl24EyU"
      }
    },
    {
      "cell_type": "markdown",
      "source": [
        "#Extract information from the given web site"
      ],
      "metadata": {
        "id": "wEqpsyQl7Biw"
      }
    },
    {
      "cell_type": "markdown",
      "source": [
        "You will extract the data from the below web site:"
      ],
      "metadata": {
        "id": "VSYWrLcG7OhW"
      }
    },
    {
      "cell_type": "code",
      "source": [
        "#this url contains the data you need to scrape\n",
        "url = \"https://cf-courses-data.s3.us.cloud-object-storage.appdomain.cloud/IBM-DA0321EN-SkillsNetwork/labs/datasets/Programming_Languages.html\""
      ],
      "metadata": {
        "id": "mZs0xgJo7RRe"
      },
      "execution_count": 21,
      "outputs": []
    },
    {
      "cell_type": "code",
      "source": [
        "# Import the required libraries\n",
        "\n",
        "import pandas as pd\n",
        "from bs4 import BeautifulSoup\n",
        "import requests"
      ],
      "metadata": {
        "id": "TjftN10L76tZ"
      },
      "execution_count": 22,
      "outputs": []
    },
    {
      "cell_type": "code",
      "source": [
        "# Download the webpage at the url\n",
        "response = requests.get(url)\n",
        "\n",
        "# Check for successful response\n",
        "if response.status_code == 200:\n",
        "    # The webpage was downloaded successfully\n",
        "    print(\"Webpage downloaded successfully.\")\n",
        "else:\n",
        "    # There was an error downloading the webpage\n",
        "    print(\"Error:\", response.status_code)\n"
      ],
      "metadata": {
        "colab": {
          "base_uri": "https://localhost:8080/"
        },
        "id": "5RS6R8aJ8BK-",
        "outputId": "2375047d-9860-4f6a-be06-42af8aaa29df"
      },
      "execution_count": 23,
      "outputs": [
        {
          "output_type": "stream",
          "name": "stdout",
          "text": [
            "Webpage downloaded successfully.\n"
          ]
        }
      ]
    },
    {
      "cell_type": "code",
      "source": [
        "# Create a soup object\n",
        "\n",
        "soup = BeautifulSoup(response.content, 'lxml')\n",
        "# Create a soup object using the class BeautifulSoup\n",
        "\n",
        "soup = BeautifulSoup(response.content,\"html5lib\")"
      ],
      "metadata": {
        "id": "jRZf8n8c8WWi"
      },
      "execution_count": 29,
      "outputs": []
    },
    {
      "cell_type": "code",
      "source": [
        "# Scrape the Language name and annual average salary\n",
        "\n",
        "# Find all table rows\n",
        "table_rows = soup.find_all('tr')\n",
        "\n",
        "# Create empty lists to store the data\n",
        "language_names = []\n",
        "annual_average_salaries = []\n",
        "\n",
        "# Loop through the table rows\n",
        "for row in table_rows:\n",
        "    # Find all table cells in the row\n",
        "    cells = row.find_all('td')\n",
        "\n",
        "    # Check if the row contains data\n",
        "    if len(cells) > 0:\n",
        "        # Extract the language name and annual average salary\n",
        "        language_name = cells[1].text.strip()\n",
        "        annual_average_salary = cells[3].text.strip()\n",
        "\n",
        "        # Add the data to the lists\n",
        "        language_names.append(language_name)\n",
        "        annual_average_salaries.append(annual_average_salary)\n",
        "\n",
        "# Print the scraped data\n",
        "print(\"Language Names:\", language_names)\n",
        "print(\"Annual Average Salaries:\", annual_average_salaries)\n"
      ],
      "metadata": {
        "colab": {
          "base_uri": "https://localhost:8080/"
        },
        "id": "uW8Q3KSG_N3V",
        "outputId": "cc95f613-ccf0-4561-ff28-fc9650f1741d"
      },
      "execution_count": 34,
      "outputs": [
        {
          "output_type": "stream",
          "name": "stdout",
          "text": [
            "Language Names: ['Language', 'Python', 'Java', 'R', 'Javascript', 'Swift', 'C++', 'C#', 'PHP', 'SQL', 'Go']\n",
            "Annual Average Salaries: ['Average Annual Salary', '$114,383', '$101,013', '$92,037', '$110,981', '$130,801', '$113,865', '$88,726', '$84,727', '$84,793', '$94,082']\n"
          ]
        }
      ]
    },
    {
      "cell_type": "code",
      "source": [
        "# Save the scrapped data into a file named popular-languages.csv\n",
        "\n",
        "# Create a Pandas DataFrame from the scraped data\n",
        "data = {'Language Name': language_names, 'Annual Average Salary': annual_average_salaries}\n",
        "df = pd.DataFrame(data)\n",
        "\n",
        "# Save the DataFrame to a CSV file\n",
        "df.to_csv('popular-languages.csv', index=False)\n"
      ],
      "metadata": {
        "id": "-esYgIwGBCAE"
      },
      "execution_count": 37,
      "outputs": []
    }
  ]
}