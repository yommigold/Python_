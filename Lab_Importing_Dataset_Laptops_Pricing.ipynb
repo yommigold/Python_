{
  "nbformat": 4,
  "nbformat_minor": 0,
  "metadata": {
    "colab": {
      "provenance": [],
      "authorship_tag": "ABX9TyNno8ul5/EfLXM9+F567ldm",
      "include_colab_link": true
    },
    "kernelspec": {
      "name": "python3",
      "display_name": "Python 3"
    },
    "language_info": {
      "name": "python"
    }
  },
  "cells": [
    {
      "cell_type": "markdown",
      "metadata": {
        "id": "view-in-github",
        "colab_type": "text"
      },
      "source": [
        "<a href=\"https://colab.research.google.com/github/yommigold/Python_/blob/main/Lab_Importing_Dataset_Laptops_Pricing.ipynb\" target=\"_parent\"><img src=\"https://colab.research.google.com/assets/colab-badge.svg\" alt=\"Open In Colab\"/></a>"
      ]
    },
    {
      "cell_type": "code",
      "execution_count": 1,
      "metadata": {
        "id": "jYW105taBhqq"
      },
      "outputs": [],
      "source": [
        "# Lab: Importing Dataset - Laptops Pricing\n",
        "\n",
        "import pandas as pd\n",
        "import numpy as np"
      ]
    },
    {
      "cell_type": "code",
      "source": [
        "!pip install pycurl"
      ],
      "metadata": {
        "colab": {
          "base_uri": "https://localhost:8080/"
        },
        "id": "i9v147l1CAkY",
        "outputId": "ae1d6875-4728-4a8d-fac3-20d305a85176"
      },
      "execution_count": 2,
      "outputs": [
        {
          "output_type": "stream",
          "name": "stdout",
          "text": [
            "Collecting pycurl\n",
            "  Downloading pycurl-7.45.3-cp310-cp310-manylinux_2_28_x86_64.whl (4.6 MB)\n",
            "\u001b[2K     \u001b[90m━━━━━━━━━━━━━━━━━━━━━━━━━━━━━━━━━━━━━━━━\u001b[0m \u001b[32m4.6/4.6 MB\u001b[0m \u001b[31m18.3 MB/s\u001b[0m eta \u001b[36m0:00:00\u001b[0m\n",
            "\u001b[?25hInstalling collected packages: pycurl\n",
            "Successfully installed pycurl-7.45.3\n"
          ]
        }
      ]
    },
    {
      "cell_type": "code",
      "source": [
        "import pycurl"
      ],
      "metadata": {
        "id": "x1ZmVvA_CEyR"
      },
      "execution_count": 3,
      "outputs": []
    },
    {
      "cell_type": "code",
      "source": [
        "file_path = \"https://cf-courses-data.s3.us.cloud-object-storage.appdomain.cloud/IBMDeveloperSkillsNetwork-DA0101EN-Coursera/laptop_pricing_dataset_base.csv\""
      ],
      "metadata": {
        "id": "8LovnCB7CGiz"
      },
      "execution_count": 4,
      "outputs": []
    },
    {
      "cell_type": "code",
      "source": [
        "def download(file_path, url):\n",
        "    c = pycurl.Curl()\n",
        "    c.setopt(c.URL, url)\n",
        "    c.setopt(c.WRITEDATA, open(file_path, \"wb\"))\n",
        "    c.perform()\n",
        "    c.close()"
      ],
      "metadata": {
        "id": "1qgXfBkACOSG"
      },
      "execution_count": 5,
      "outputs": []
    },
    {
      "cell_type": "code",
      "source": [
        "df = pd.read_csv(file_path)"
      ],
      "metadata": {
        "id": "QYjlFdoBCS0P"
      },
      "execution_count": 6,
      "outputs": []
    },
    {
      "cell_type": "code",
      "source": [
        "# Task 1\n",
        "# Load the dataset to a pandas dataframe named 'df'\n",
        "# Print the first 5 entries of the dataset to confirm loading\n",
        "\n",
        "df = pd.read_csv(file_path, header=None)\n",
        "print(df.head())"
      ],
      "metadata": {
        "colab": {
          "base_uri": "https://localhost:8080/"
        },
        "id": "KPjbQzFeCme_",
        "outputId": "b4ee8e32-b5a0-4625-effd-4b29911175dc"
      },
      "execution_count": 9,
      "outputs": [
        {
          "output_type": "stream",
          "name": "stdout",
          "text": [
            "     0   1          2   3   4   5       6    7   8    9     10    11\n",
            "0  Acer   4  IPS Panel   2   1   5   35.56  1.6   8  256   1.6   978\n",
            "1  Dell   3    Full HD   1   1   3  39.624  2.0   4  256   2.2   634\n",
            "2  Dell   3    Full HD   1   1   7  39.624  2.7   8  256   2.2   946\n",
            "3  Dell   4  IPS Panel   2   1   5  33.782  1.6   8  128  1.22  1244\n",
            "4    HP   4    Full HD   2   1   7  39.624  1.8   8  256  1.91   837\n"
          ]
        }
      ]
    },
    {
      "cell_type": "code",
      "source": [
        "# Task 2\n",
        "# Add headers to the dataframe\n",
        "# The headers for the dataset, in sequence, are \"Manufacturer\", \"Category\", \"Screen\", \"GPU\", \"OS\", \"CPU_core\", \"Screen_Size_inch\", \"CPU_frequency\", \"RAM_GB\", \"Storage_GB_SSD\", \"Weight_kg\" and \"Price\".\n",
        "# Confirm insertion by printing the first 10 rows of the dataset\n",
        "\n",
        "# create headers list\n",
        "headers = [\"Manufacturer\", \"Category\", \"Screen\", \"GPU\", \"OS\", \"CPU_core\", \"Screen_Size_inch\", \"CPU_frequency\", \"RAM_GB\", \"Storage_GB_SSD\", \"Weight_kg\", \"Price\"]\n",
        "df.columns = headers\n",
        "print(df.head(10))"
      ],
      "metadata": {
        "colab": {
          "base_uri": "https://localhost:8080/"
        },
        "id": "KmVHnjtQDRfW",
        "outputId": "9639be87-f72f-48d7-e533-6853430d7a51"
      },
      "execution_count": 10,
      "outputs": [
        {
          "output_type": "stream",
          "name": "stdout",
          "text": [
            "  Manufacturer  Category     Screen  GPU  OS  CPU_core Screen_Size_inch  \\\n",
            "0         Acer         4  IPS Panel    2   1         5            35.56   \n",
            "1         Dell         3    Full HD    1   1         3           39.624   \n",
            "2         Dell         3    Full HD    1   1         7           39.624   \n",
            "3         Dell         4  IPS Panel    2   1         5           33.782   \n",
            "4           HP         4    Full HD    2   1         7           39.624   \n",
            "5         Dell         3    Full HD    1   1         5           39.624   \n",
            "6           HP         3    Full HD    3   1         5           39.624   \n",
            "7         Acer         3  IPS Panel    2   1         5             38.1   \n",
            "8         Dell         3    Full HD    1   1         5           39.624   \n",
            "9         Acer         3  IPS Panel    3   1         7             38.1   \n",
            "\n",
            "   CPU_frequency  RAM_GB  Storage_GB_SSD Weight_kg  Price  \n",
            "0            1.6       8             256       1.6    978  \n",
            "1            2.0       4             256       2.2    634  \n",
            "2            2.7       8             256       2.2    946  \n",
            "3            1.6       8             128      1.22   1244  \n",
            "4            1.8       8             256      1.91    837  \n",
            "5            1.6       8             256       2.2   1016  \n",
            "6            1.6       8             256       2.1   1117  \n",
            "7            1.6       4             256       2.2    866  \n",
            "8            2.5       4             256       2.3    812  \n",
            "9            1.8       8             256       2.2   1068  \n"
          ]
        }
      ]
    },
    {
      "cell_type": "code",
      "source": [
        "# Task 3\n",
        "# Replace '?' with 'NaN'\n",
        "# Replace the '?' entries in the dataset with NaN value, recevied from the Numpy package\n",
        "\n",
        "df.replace('?',np.nan, inplace = True)"
      ],
      "metadata": {
        "id": "pXwTz6fFD0t-"
      },
      "execution_count": 11,
      "outputs": []
    },
    {
      "cell_type": "code",
      "source": [
        "# Task 4\n",
        "# Print the data types of the dataframe columns\n",
        "# Make a note of the data types of the different columns of the dataset\n",
        "\n",
        "print(df.dtypes)"
      ],
      "metadata": {
        "colab": {
          "base_uri": "https://localhost:8080/"
        },
        "id": "Cp36n424EO64",
        "outputId": "12369e4f-4f80-41f2-c438-da2ddd35f016"
      },
      "execution_count": 12,
      "outputs": [
        {
          "output_type": "stream",
          "name": "stdout",
          "text": [
            "Manufacturer         object\n",
            "Category              int64\n",
            "Screen               object\n",
            "GPU                   int64\n",
            "OS                    int64\n",
            "CPU_core              int64\n",
            "Screen_Size_inch     object\n",
            "CPU_frequency       float64\n",
            "RAM_GB                int64\n",
            "Storage_GB_SSD        int64\n",
            "Weight_kg            object\n",
            "Price                 int64\n",
            "dtype: object\n"
          ]
        }
      ]
    },
    {
      "cell_type": "code",
      "source": [
        "# Task 5\n",
        "# Print the statistical description of the dataset, including that of 'object' data types\n",
        "\n",
        "print(df.describe(include='all'))"
      ],
      "metadata": {
        "colab": {
          "base_uri": "https://localhost:8080/"
        },
        "id": "GhDFsTwfEhAn",
        "outputId": "1c2edfe1-f76b-4369-9022-3a24764e498d"
      },
      "execution_count": 13,
      "outputs": [
        {
          "output_type": "stream",
          "name": "stdout",
          "text": [
            "       Manufacturer    Category   Screen         GPU          OS    CPU_core  \\\n",
            "count           238  238.000000      238  238.000000  238.000000  238.000000   \n",
            "unique           11         NaN        2         NaN         NaN         NaN   \n",
            "top            Dell         NaN  Full HD         NaN         NaN         NaN   \n",
            "freq             71         NaN      161         NaN         NaN         NaN   \n",
            "mean            NaN    3.205882      NaN    2.151261    1.058824    5.630252   \n",
            "std             NaN    0.776533      NaN    0.638282    0.235790    1.241787   \n",
            "min             NaN    1.000000      NaN    1.000000    1.000000    3.000000   \n",
            "25%             NaN    3.000000      NaN    2.000000    1.000000    5.000000   \n",
            "50%             NaN    3.000000      NaN    2.000000    1.000000    5.000000   \n",
            "75%             NaN    4.000000      NaN    3.000000    1.000000    7.000000   \n",
            "max             NaN    5.000000      NaN    3.000000    2.000000    7.000000   \n",
            "\n",
            "       Screen_Size_inch  CPU_frequency      RAM_GB  Storage_GB_SSD Weight_kg  \\\n",
            "count               234     238.000000  238.000000      238.000000       233   \n",
            "unique                9            NaN         NaN             NaN        77   \n",
            "top              39.624            NaN         NaN             NaN       2.2   \n",
            "freq                 89            NaN         NaN             NaN        21   \n",
            "mean                NaN       2.360084    7.882353      245.781513       NaN   \n",
            "std                 NaN       0.411393    2.482603       34.765316       NaN   \n",
            "min                 NaN       1.200000    4.000000      128.000000       NaN   \n",
            "25%                 NaN       2.000000    8.000000      256.000000       NaN   \n",
            "50%                 NaN       2.500000    8.000000      256.000000       NaN   \n",
            "75%                 NaN       2.700000    8.000000      256.000000       NaN   \n",
            "max                 NaN       2.900000   16.000000      256.000000       NaN   \n",
            "\n",
            "              Price  \n",
            "count    238.000000  \n",
            "unique          NaN  \n",
            "top             NaN  \n",
            "freq            NaN  \n",
            "mean    1462.344538  \n",
            "std      574.607699  \n",
            "min      527.000000  \n",
            "25%     1066.500000  \n",
            "50%     1333.000000  \n",
            "75%     1777.000000  \n",
            "max     3810.000000  \n"
          ]
        }
      ]
    },
    {
      "cell_type": "code",
      "source": [
        "# Task 6\n",
        "# Print the summary information of the dataset\n",
        "\n",
        "print(df.info())"
      ],
      "metadata": {
        "colab": {
          "base_uri": "https://localhost:8080/"
        },
        "id": "j5w_az2cEzGp",
        "outputId": "24f69c57-4880-4e99-ff9a-559e71e56df0"
      },
      "execution_count": 14,
      "outputs": [
        {
          "output_type": "stream",
          "name": "stdout",
          "text": [
            "<class 'pandas.core.frame.DataFrame'>\n",
            "RangeIndex: 238 entries, 0 to 237\n",
            "Data columns (total 12 columns):\n",
            " #   Column            Non-Null Count  Dtype  \n",
            "---  ------            --------------  -----  \n",
            " 0   Manufacturer      238 non-null    object \n",
            " 1   Category          238 non-null    int64  \n",
            " 2   Screen            238 non-null    object \n",
            " 3   GPU               238 non-null    int64  \n",
            " 4   OS                238 non-null    int64  \n",
            " 5   CPU_core          238 non-null    int64  \n",
            " 6   Screen_Size_inch  234 non-null    object \n",
            " 7   CPU_frequency     238 non-null    float64\n",
            " 8   RAM_GB            238 non-null    int64  \n",
            " 9   Storage_GB_SSD    238 non-null    int64  \n",
            " 10  Weight_kg         233 non-null    object \n",
            " 11  Price             238 non-null    int64  \n",
            "dtypes: float64(1), int64(7), object(4)\n",
            "memory usage: 22.4+ KB\n",
            "None\n"
          ]
        }
      ]
    }
  ]
}