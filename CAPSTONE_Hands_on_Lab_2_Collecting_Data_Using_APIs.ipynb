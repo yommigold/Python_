{
  "nbformat": 4,
  "nbformat_minor": 0,
  "metadata": {
    "colab": {
      "provenance": [],
      "authorship_tag": "ABX9TyPnJlcyzjwx/MhP4P0dLAnM",
      "include_colab_link": true
    },
    "kernelspec": {
      "name": "python3",
      "display_name": "Python 3"
    },
    "language_info": {
      "name": "python"
    }
  },
  "cells": [
    {
      "cell_type": "markdown",
      "metadata": {
        "id": "view-in-github",
        "colab_type": "text"
      },
      "source": [
        "<a href=\"https://colab.research.google.com/github/yommigold/Python_/blob/main/CAPSTONE_Hands_on_Lab_2_Collecting_Data_Using_APIs.ipynb\" target=\"_parent\"><img src=\"https://colab.research.google.com/assets/colab-badge.svg\" alt=\"Open In Colab\"/></a>"
      ]
    },
    {
      "cell_type": "markdown",
      "source": [
        "#CAPSTONE: Hands-on Lab 2: Collecting Data Using APIs"
      ],
      "metadata": {
        "id": "fCBuJUn9baWI"
      }
    },
    {
      "cell_type": "markdown",
      "source": [
        "Using an API, let us find out who currently are on the International Space Station (ISS).\n",
        "The API at http://api.open-notify.org/astros.json gives us the information of astronauts currently on ISS in json format.\n",
        "You can read more about this API at http://open-notify.org/Open-Notify-API/People-In-Space/"
      ],
      "metadata": {
        "id": "rHcOvxX6fiRS"
      }
    },
    {
      "cell_type": "code",
      "source": [
        "import requests # you need this module to make an API call\n",
        "import pandas as pd"
      ],
      "metadata": {
        "id": "pjipNfu3fm2f"
      },
      "execution_count": 29,
      "outputs": []
    },
    {
      "cell_type": "code",
      "source": [
        "api_url = \"http://api.open-notify.org/astros.json\" # this url gives use the astronaut data\n",
        "api_url"
      ],
      "metadata": {
        "colab": {
          "base_uri": "https://localhost:8080/",
          "height": 35
        },
        "id": "Uu5DdG-hgH0O",
        "outputId": "db956696-68a3-4c37-9e17-446be339fc2e"
      },
      "execution_count": 40,
      "outputs": [
        {
          "output_type": "execute_result",
          "data": {
            "text/plain": [
              "'http://api.open-notify.org/astros.json'"
            ],
            "application/vnd.google.colaboratory.intrinsic+json": {
              "type": "string"
            }
          },
          "metadata": {},
          "execution_count": 40
        }
      ]
    },
    {
      "cell_type": "code",
      "source": [
        "response = requests.get(api_url) # Call the API using the get method and store the\n",
        "                                # output of the API call in a variable called response."
      ],
      "metadata": {
        "id": "aoUh7sQUgMVA"
      },
      "execution_count": 31,
      "outputs": []
    },
    {
      "cell_type": "code",
      "source": [
        "if response.ok:             # if all is well() no errors, no network timeouts)\n",
        "    data = response.json()  # store the result in json format in a variable called data\n",
        "                            # the variable data is of type dictionary."
      ],
      "metadata": {
        "id": "e0Y29I9MgSqH"
      },
      "execution_count": 32,
      "outputs": []
    },
    {
      "cell_type": "code",
      "source": [
        "print(data)   # print the data just to check the output or for debugging"
      ],
      "metadata": {
        "colab": {
          "base_uri": "https://localhost:8080/"
        },
        "id": "DZOqP7Ubgc5o",
        "outputId": "62005079-a454-4c62-d82b-15778d1067ad"
      },
      "execution_count": 33,
      "outputs": [
        {
          "output_type": "stream",
          "name": "stdout",
          "text": [
            "{'message': 'success', 'people': [{'name': 'Jasmin Moghbeli', 'craft': 'ISS'}, {'name': 'Andreas Mogensen', 'craft': 'ISS'}, {'name': 'Satoshi Furukawa', 'craft': 'ISS'}, {'name': 'Konstantin Borisov', 'craft': 'ISS'}, {'name': 'Oleg Kononenko', 'craft': 'ISS'}, {'name': 'Nikolai Chub', 'craft': 'ISS'}, {'name': \"Loral O'Hara\", 'craft': 'ISS'}], 'number': 7}\n"
          ]
        }
      ]
    },
    {
      "cell_type": "markdown",
      "source": [
        "#Lab: Collect Jobs Data using Jobs API\n"
      ],
      "metadata": {
        "id": "6ZZxrG6rgk3e"
      }
    },
    {
      "cell_type": "markdown",
      "source": [
        "Objective: Determine the number of jobs currently open for various technologies and for various locations¶\n",
        "\n",
        "Collect the number of job postings for the following locations using the API:\n",
        "\n",
        "Los Angeles\n",
        "\n",
        "New York\n",
        "\n",
        "San Francisco\n",
        "\n",
        "Washington DC\n",
        "\n",
        "Seattle\n",
        "\n",
        "Austin\n",
        "\n",
        "Detroit"
      ],
      "metadata": {
        "id": "YhIgIigGgsBi"
      }
    },
    {
      "cell_type": "code",
      "source": [
        "#Import required libraries\n",
        "import pandas as pd\n",
        "import json"
      ],
      "metadata": {
        "id": "uuNVRjV6hBvf"
      },
      "execution_count": 34,
      "outputs": []
    },
    {
      "cell_type": "markdown",
      "source": [
        "Write a function to get the number of jobs for the Python technology.\n",
        "Note: While using the lab you need to pass the payload information for the params attribute in the form of key value pairs. Refer the ungraded rest api lab in the course Python for Data Science, AI & Development link\n",
        "\n",
        "The keys in the json are\n",
        "Job Title\n",
        "\n",
        "Job Experience Required\n",
        "\n",
        "Key Skills\n",
        "\n",
        "Role Category\n",
        "\n",
        "Location\n",
        "\n",
        "Functional Area\n",
        "\n",
        "Industry\n",
        "\n",
        "Role\n",
        "\n"
      ],
      "metadata": {
        "id": "X8fmMTjphRJL"
      }
    },
    {
      "cell_type": "code",
      "source": [
        "# Using this: api_url=\"http://127.0.0.1:5000/data\", Write a function to get the number of jobs for the Python technology\n",
        "api_url=\"http://127.0.0.1:5000/data\"\n",
        "def get_number_of_jobs_T(technology):\n",
        "#def get_number_of_jobs_for_python(api_url):\n",
        "  \"\"\"\n",
        "  This function gets the number of jobs for the Python technology from the API.\n",
        "\n",
        "  Args:\n",
        "      api_url: The URL of the API.\n",
        "\n",
        "  Returns:\n",
        "      A tuple containing the technology and the number of jobs.\n",
        "  \"\"\"\n",
        "\n",
        "  payload = {\"Job Title\": \"Python\"}\n",
        "  response = requests.get(api_url, params=payload)\n",
        "  if response.ok:\n",
        "    data = response.json()\n",
        "    number_of_jobs = data[\"number_of_jobs\"]\n",
        "    return \"Python\", technology, number_of_jobs\n",
        "  else:\n",
        "    raise Exception(\"Error fetching data from API.\")\n",
        "\n"
      ],
      "metadata": {
        "id": "Fe5LPeENh0Y4"
      },
      "execution_count": 35,
      "outputs": []
    },
    {
      "cell_type": "code",
      "source": [
        "!ping 127.0.0.1"
      ],
      "metadata": {
        "colab": {
          "base_uri": "https://localhost:8080/"
        },
        "id": "z4PW1MPikbGj",
        "outputId": "908a2b1a-88a7-4244-beae-5b0cc980b52d"
      },
      "execution_count": 36,
      "outputs": [
        {
          "output_type": "stream",
          "name": "stdout",
          "text": [
            "/bin/bash: line 1: ping: command not found\n"
          ]
        }
      ]
    },
    {
      "cell_type": "code",
      "source": [
        "#Calling the function for Python and checking if it works\n",
        "\n",
        "#get_number_of_jobs_T(\"Python\")"
      ],
      "metadata": {
        "id": "RCXEx9OFi5K5"
      },
      "execution_count": 37,
      "outputs": []
    },
    {
      "cell_type": "code",
      "source": [
        "# prompt: Write a function to find number of jobs in US for a location of your choice\n",
        "api_url=\"http://127.0.0.1:5000/data\"\n",
        "def get_number_of_jobs_US(location):\n",
        "  \"\"\"\n",
        "  This function gets the number of jobs in the US for a given location.\n",
        "\n",
        "  Args:\n",
        "      location: The location in the US.\n",
        "\n",
        "  Returns:\n",
        "      A tuple containing the location and the number of jobs.\n",
        "  \"\"\"\n",
        "\n",
        "  payload = {\"Location\": location}\n",
        "  response = requests.get(api_url, params=payload)\n",
        "  if response.ok:\n",
        "    data = response.json()\n",
        "    number_of_jobs = data[\"number_of_jobs\"]\n",
        "    return location, number_of_jobs\n",
        "  else:\n",
        "    raise Exception(\"Error fetching data from API.\")\n",
        "\n",
        "\n",
        "# Calling the function for Los Angeles and checking if it works\n",
        "location = \"Los Angeles\"\n",
        "location, number_of_jobs = get_number_of_jobs_US(location)\n",
        "print(f\"Number of jobs in {location}: {number_of_jobs}\")\n"
      ],
      "metadata": {
        "id": "XDGmxTqhmoAx"
      },
      "execution_count": null,
      "outputs": []
    },
    {
      "cell_type": "code",
      "source": [
        "#Call the API for all the given technologies above and write the results in an excel spreadsheet.\n",
        "\n",
        "import pandas as pd\n",
        "\n",
        "# Create a list of technologies.\n",
        "technologies = [\"Python\", \"Java\", \"C++\", \"JavaScript\", \"R\"]\n",
        "\n",
        "# Create a list of locations.\n",
        "locations = [\"Los Angeles\", \"New York\", \"San Francisco\", \"Washington DC\", \"Seattle\", \"Austin\", \"Detroit\"]\n",
        "\n",
        "# Create a list to store the results.\n",
        "results = []\n",
        "\n",
        "# Call the API for each technology and location.\n",
        "for technology in technologies:\n",
        "  for location in locations:\n",
        "    payload = {\"Job Title\": technology, \"Location\": location}\n",
        "    response = requests.get(api_url, params=payload)\n",
        "    if response.ok:\n",
        "      data = response.json()\n",
        "      number_of_jobs = data[\"number_of_jobs\"]\n",
        "      results.append({\"Technology\": technology, \"Location\": location, \"Number of Jobs\": number_of_jobs})\n",
        "\n",
        "# Create a Pandas DataFrame from the results.\n",
        "df = pd.DataFrame(results)\n",
        "\n",
        "# Write the DataFrame to an Excel spreadsheet.\n",
        "df.to_excel(\"job_data.xlsx\", sheet_name=\"Sheet1\")"
      ],
      "metadata": {
        "id": "Bp-24xDhmRmw"
      },
      "execution_count": null,
      "outputs": []
    },
    {
      "cell_type": "code",
      "source": [
        "# Store the results in an excel file\n",
        "# Call the API for all the given technologies above and write the results in an excel spreadsheet\n",
        "\n",
        "import pandas as pd\n",
        "# Create a list of technologies.\n",
        "technologies = [\"Python\", \"Java\", \"C++\", \"JavaScript\", \"R\"]\n",
        "\n",
        "# Create a list of locations.\n",
        "locations = [\"Los Angeles\", \"New York\", \"San Francisco\", \"Washington DC\", \"Seattle\", \"Austin\", \"Detroit\"]\n",
        "\n",
        "# Create a list to store the results.\n",
        "results = []\n",
        "\n",
        "# Call the API for each technology and location.\n",
        "for technology in technologies:\n",
        "  for location in locations:\n",
        "    payload = {\"Job Title\": technology, \"Location\": location}\n",
        "    response = requests.get(api_url, params=payload)\n",
        "    if response.ok:\n",
        "      data = response.json()\n",
        "      number_of_jobs = data[\"number_of_jobs\"]\n",
        "      results.append({\"Technology\": technology, \"Location\": location, \"Number of Jobs\": number_of_jobs})\n",
        "\n",
        "# Create a Pandas DataFrame from the results.\n",
        "df = pd.DataFrame(results)\n",
        "\n",
        "# Write the DataFrame to an Excel spreadsheet.\n",
        "df.to_excel(\"job_data.xlsx\", sheet_name=\"Sheet1\")\n"
      ],
      "metadata": {
        "id": "EUE-q1-moHs3"
      },
      "execution_count": null,
      "outputs": []
    },
    {
      "cell_type": "code",
      "source": [
        "# Create a python list of all locations for which you need to find the number of jobs postings.\n",
        "\n",
        "locations = [\"Los Angeles\", \"New York\", \"San Francisco\", \"Washington DC\", \"Seattle\", \"Austin\", \"Detroit\"]\n"
      ],
      "metadata": {
        "id": "4qqTi5ZCnrY6"
      },
      "execution_count": 42,
      "outputs": []
    },
    {
      "cell_type": "code",
      "source": [
        "!pip install xlsxwriter"
      ],
      "metadata": {
        "colab": {
          "base_uri": "https://localhost:8080/"
        },
        "id": "ovu1Licooqgt",
        "outputId": "fe32e7ff-9a27-4148-e300-d21de21a5438"
      },
      "execution_count": 44,
      "outputs": [
        {
          "output_type": "stream",
          "name": "stdout",
          "text": [
            "Collecting xlsxwriter\n",
            "  Downloading XlsxWriter-3.2.0-py3-none-any.whl (159 kB)\n",
            "\u001b[?25l     \u001b[90m━━━━━━━━━━━━━━━━━━━━━━━━━━━━━━━━━━━━━━━━\u001b[0m \u001b[32m0.0/159.9 kB\u001b[0m \u001b[31m?\u001b[0m eta \u001b[36m-:--:--\u001b[0m\r\u001b[2K     \u001b[91m━━━━━━━━━━━━━━━━━━━━━━━━━━━━━━━━━━━━━━\u001b[0m\u001b[90m╺\u001b[0m\u001b[90m━\u001b[0m \u001b[32m153.6/159.9 kB\u001b[0m \u001b[31m4.8 MB/s\u001b[0m eta \u001b[36m0:00:01\u001b[0m\r\u001b[2K     \u001b[90m━━━━━━━━━━━━━━━━━━━━━━━━━━━━━━━━━━━━━━━━\u001b[0m \u001b[32m159.9/159.9 kB\u001b[0m \u001b[31m3.9 MB/s\u001b[0m eta \u001b[36m0:00:00\u001b[0m\n",
            "\u001b[?25hInstalling collected packages: xlsxwriter\n",
            "Successfully installed xlsxwriter-3.2.0\n"
          ]
        }
      ]
    },
    {
      "cell_type": "code",
      "source": [
        "# Import libraries required to create excel spreadsheet\n",
        "\n",
        "import pandas as pd\n",
        "import xlsxwriter\n"
      ],
      "metadata": {
        "id": "U1RA0EGuohYO"
      },
      "execution_count": 45,
      "outputs": []
    },
    {
      "cell_type": "code",
      "source": [
        "# Create a workbook and select the active worksheet\n",
        "\n",
        "import xlsxwriter\n",
        "\n",
        "# Create a workbook and add a worksheet.\n",
        "workbook = xlsxwriter.Workbook('job_data.xlsx')\n",
        "worksheet = workbook.add_worksheet()\n",
        "\n",
        "# Set the active worksheet.\n",
        "worksheet.activate()\n"
      ],
      "metadata": {
        "id": "-9w8hpDvo0md"
      },
      "execution_count": 46,
      "outputs": []
    },
    {
      "cell_type": "code",
      "source": [
        "# Find the number of jobs postings for each of the location in the above list. Write the Location name and the number of jobs postings into the excel spreadsheet\n",
        "\n",
        "# Add a header row.\n",
        "worksheet.write(0, 0, 'Location')\n",
        "worksheet.write(0, 1, 'Number of Jobs')\n",
        "\n",
        "# Write the data rows.\n",
        "for row, location in enumerate(locations):\n",
        "  payload = {\"Location\": location}\n",
        "  response = requests.get(api_url, params=payload)\n",
        "  if response.ok:\n",
        "    data = response.json()\n",
        "    df = pd.json_normalize(data)\n",
        "    if \"number_of_jobs\" in df.columns:\n",
        "      number_of_jobs = df[\"number_of_jobs\"].iloc[0]\n",
        "    else:\n",
        "      number_of_jobs = 0\n",
        "    worksheet.write(row + 1, 0, location)\n",
        "    worksheet.write(row + 1, 1, number_of_jobs)\n",
        "\n",
        "# Close the workbook.\n",
        "workbook.close()"
      ],
      "metadata": {
        "id": "X4ATcfKLp-Cr"
      },
      "execution_count": 48,
      "outputs": []
    },
    {
      "cell_type": "code",
      "source": [
        "#Save into an excel spreadsheet named 'job-postings.xlsx'.\n",
        "\n",
        "import pandas as pd\n",
        "import xlsxwriter\n",
        "\n",
        "# Create a workbook and add a worksheet.\n",
        "workbook = xlsxwriter.Workbook('job-postings.xlsx')\n",
        "worksheet = workbook.add_worksheet()\n",
        "\n",
        "# Set the active worksheet.\n",
        "worksheet.activate()\n",
        "\n",
        "# Add a header row.\n",
        "worksheet.write(0, 0, 'Location')\n",
        "worksheet.write(0, 1, 'Number of Jobs')\n",
        "\n",
        "# Write the data rows.\n",
        "for row, location in enumerate(locations):\n",
        "  payload = {\"Location\": location}\n",
        "  response = requests.get(api_url, params=payload)\n",
        "  if response.ok:\n",
        "    data = response.json()\n",
        "    df = pd.json_normalize(data)\n",
        "    if \"number_of_jobs\" in df.columns:\n",
        "      number_of_jobs = df[\"number_of_jobs\"].iloc[0]\n",
        "    else:\n",
        "      number_of_jobs = 0\n",
        "    worksheet.write(row + 1, 0, location)\n",
        "    worksheet.write(row + 1, 1, number_of_jobs)\n",
        "\n",
        "# Close the workbook.\n",
        "workbook.close()\n"
      ],
      "metadata": {
        "id": "TLa6mz1VqLYK"
      },
      "execution_count": 49,
      "outputs": []
    },
    {
      "cell_type": "markdown",
      "source": [
        "In the similar way, you can try for below given technologies and results can be stored in an excel sheet.\n",
        "Collect the number of job postings for the following languages using the API:\n",
        "\n",
        "C\n",
        "C#\n",
        "C++\n",
        "Java\n",
        "JavaScript\n",
        "Python\n",
        "Scala\n",
        "Oracle\n",
        "SQL Server\n",
        "MySQL Server\n",
        "PostgreSQL\n",
        "MongoDB"
      ],
      "metadata": {
        "id": "_itiwyeUq_im"
      }
    },
    {
      "cell_type": "code",
      "source": [
        "\n",
        "import pandas as pd\n",
        "# Create a list of technologies.\n",
        "technologies = [\"C\", \"C#\", \"C++\", \"Java\", \"JavaScript\", \"Python\", \"Scala\", \"Oracle\", \"SQL Server\", \"MySQL Server\", \"PostgreSQL\", \"MongoDB\"]\n",
        "\n",
        "# Create a list of locations.\n",
        "locations = [\"Los Angeles\", \"New York\", \"San Francisco\", \"Washington DC\", \"Seattle\", \"Austin\", \"Detroit\"]\n",
        "\n",
        "# Create a list to store the results.\n",
        "results = []\n",
        "\n",
        "# Call the API for each technology and location.\n",
        "for technology in technologies:\n",
        "  for location in locations:\n",
        "    payload = {\"Job Title\": technology, \"Location\": location}\n",
        "    response = requests.get(api_url, params=payload)\n",
        "    if response.ok:\n",
        "      data = response.json()\n",
        "      number_of_jobs = data[\"number_of_jobs\"]\n",
        "      results.append({\"Technology\": technology, \"Location\": location, \"Number of Jobs\": number_of_jobs})\n",
        "\n",
        "# Create a Pandas DataFrame from the results.\n",
        "df = pd.DataFrame(results)\n",
        "\n",
        "# Write the DataFrame to an Excel spreadsheet.\n",
        "df.to_excel(\"job_data.xlsx\", sheet_name=\"Sheet1\")\n",
        "\n",
        "# Create a workbook and add a worksheet.\n",
        "workbook = xlsxwriter.Workbook('job-postings.xlsx')\n",
        "worksheet = workbook.add_worksheet()\n",
        "\n",
        "# Set the active worksheet.\n",
        "worksheet.activate()\n",
        "\n",
        "# Add a header row.\n",
        "worksheet.write(0, 0, 'Location')\n",
        "worksheet.write(0, 1, 'Number of Jobs')\n",
        "\n",
        "# Write the data rows.\n",
        "for row, location in enumerate(locations):\n",
        "  payload = {\"Location\": location}\n",
        "  response = requests.get(api_url, params=payload)\n",
        "  if response.ok:\n",
        "    data = response.json()\n",
        "    df = pd.json_normalize(data)\n",
        "    if \"number_of_jobs\" in df.columns:\n",
        "      number_of_jobs = df[\"number_of_jobs\"].iloc[0]\n",
        "    else:\n",
        "      number_of_jobs = 0\n",
        "    worksheet.write(row + 1, 0, location)\n",
        "    worksheet.write(row + 1, 1, number_of_jobs)\n",
        "\n",
        "# Close the workbook.\n",
        "workbook.close()\n"
      ],
      "metadata": {
        "id": "_-wCVanwq6Nl"
      },
      "execution_count": null,
      "outputs": []
    }
  ]
}